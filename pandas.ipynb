{
 "cells": [
  {
   "cell_type": "code",
   "execution_count": null,
   "id": "f9cab0fb",
   "metadata": {
    "tags": []
   },
   "outputs": [],
   "source": [
    "import numpy as np\n",
    "import pandas as pd\n",
    "from pandas import DataFrame, Series"
   ]
  },
  {
   "cell_type": "markdown",
   "id": "6bda0806",
   "metadata": {},
   "source": [
    "pd.set_option('display.notebook_repr_html', False)\n",
    "pd.set_option('display.max_columns', 10)\n",
    "pd.set_option('display.max_rows', 10)"
   ]
  },
  {
   "cell_type": "code",
   "execution_count": null,
   "id": "017fc994",
   "metadata": {
    "tags": []
   },
   "outputs": [],
   "source": [
    "%matplotlib inline\n",
    "import matplotlib as mpl\n",
    "import matplotlib.pyplot as plt\n",
    "mpl.style.use('ggplot')"
   ]
  },
  {
   "cell_type": "markdown",
   "id": "9db76b05",
   "metadata": {},
   "source": [
    "### The pandas <u>Series</u> object"
   ]
  },
  {
   "cell_type": "markdown",
   "id": "c6bc77e0",
   "metadata": {},
   "source": [
    "#### Series Instantiation"
   ]
  },
  {
   "cell_type": "code",
   "execution_count": null,
   "id": "ba9964cc",
   "metadata": {
    "tags": []
   },
   "outputs": [],
   "source": [
    "# instantiate a Series using an Numpy array\n",
    "array1 = np.array([1, 2, 3, 4])\n",
    "print(array1, '\\n')\n",
    "\n",
    "series1 = Series(array1)\n",
    "print(series1)"
   ]
  },
  {
   "cell_type": "code",
   "execution_count": null,
   "id": "fbcf8d26",
   "metadata": {
    "tags": []
   },
   "outputs": [],
   "source": [
    "# instantiate a Series using an Python list\n",
    "list2 = [1, 2, 3, 4]\n",
    "print(list2, '\\n')\n",
    "\n",
    "series2 = Series(list2)\n",
    "print(series2)"
   ]
  },
  {
   "cell_type": "markdown",
   "id": "a4b7dc46",
   "metadata": {},
   "source": [
    "<b>When you instantiate a Series from a Numpy array of integers, pandas assigns a datatype of int32 for the Series data.</b> <br>\n",
    "<b>Whereas, instantiating a Series from a Python list of integers, pandas assigns int64 for the Series data.</b>"
   ]
  },
  {
   "cell_type": "code",
   "execution_count": null,
   "id": "e7ad7f13",
   "metadata": {
    "scrolled": true
   },
   "outputs": [],
   "source": [
    "# instantiate a Series using an Python list and explicitly assign non-integer labels to index\n",
    "list3 = [1, 2, 3, 4]\n",
    "print(list3, '\\n')\n",
    "\n",
    "series3 = Series(list3, index=['a', 'b', 'c', 'd'])\n",
    "print(series3)"
   ]
  },
  {
   "cell_type": "code",
   "execution_count": null,
   "id": "6730dfe2",
   "metadata": {
    "scrolled": true
   },
   "outputs": [],
   "source": [
    "# instantiate a Series using an Python list and explicitly assign non-integer labels to index\n",
    "list4 = [1, 2, 3, 4]\n",
    "print(list4, '\\n')\n",
    "\n",
    "series4 = Series(list4, index=[0, 1, 2, 3])\n",
    "print(series4)"
   ]
  },
  {
   "cell_type": "markdown",
   "id": "2283354c",
   "metadata": {},
   "source": [
    "#### Selecting data from a Series"
   ]
  },
  {
   "cell_type": "code",
   "execution_count": null,
   "id": "2d6cce95",
   "metadata": {},
   "outputs": [],
   "source": [
    "# selecting data from a Series when the index is integer labeled (does NOT use zero-based positioning)\n",
    "print(series1[[1, 3]], '\\n')           # returns a Series\n",
    "print(series1[3])                      # returns an integer"
   ]
  },
  {
   "cell_type": "code",
   "execution_count": null,
   "id": "9a51a7fe",
   "metadata": {},
   "outputs": [],
   "source": [
    "# selecting data from a Series when the index is non-integer labeled (uses label-based positioning)\n",
    "print(series3[['a', 'c']], '\\n')\n",
    "print(series3['a'], '\\n')\n",
    "print(series3[[0, 2]], '\\n')            # note that selection using integers for a non-integer labeled Series implements\n",
    "                                        # zero-based positioning\n",
    "    \n",
    "print(series4, '\\n')\n",
    "print(series4[[1, 3]])"
   ]
  },
  {
   "cell_type": "markdown",
   "id": "e9b9bc3c",
   "metadata": {},
   "source": [
    "#### The Series index"
   ]
  },
  {
   "cell_type": "code",
   "execution_count": null,
   "id": "6ce27b7c",
   "metadata": {
    "scrolled": true
   },
   "outputs": [],
   "source": [
    "print(series1.index, '\\n')         # when Series are instantiated with integers, the index is a RangeIndex object\n",
    "print(series2.index, '\\n')\n",
    "print(series3.index, '\\n')\n",
    "print(series4.index, '\\n')         # when Series is instantiated with integer index assigned explicitly the index is\n",
    "                                   # an Int64Index object"
   ]
  },
  {
   "cell_type": "markdown",
   "id": "03a6da67",
   "metadata": {},
   "source": [
    "#### A time-series Series"
   ]
  },
  {
   "cell_type": "code",
   "execution_count": null,
   "id": "54bcac00",
   "metadata": {},
   "outputs": [],
   "source": [
    "dates_ts1 = pd.date_range('2023-06-01', '2023-06-06')       # this is a special index in pandas called a DatetimeIndex\n",
    "                                                            # that is optimized to index data with dates and times\n",
    "print(dates_ts1, '\\n')\n",
    "print(dates_ts1[[0, 2]], '\\n')\n",
    "print(dates_ts1[3], '\\n')"
   ]
  },
  {
   "cell_type": "code",
   "execution_count": null,
   "id": "ecb891d0",
   "metadata": {
    "scrolled": true
   },
   "outputs": [],
   "source": [
    "dates_ts2 = pd.date_range('2023-06-02', '2023-06-05')\n",
    "\n",
    "series_prices1 = Series([80, 82, 85, 90, 83, 87], index=dates_ts1)\n",
    "series_prices2 = Series([75, 69, 83, 79], index=dates_ts2)\n",
    "series_prices3 = Series([70, 75, 69, 83, 79, 77], index=dates_ts1)\n",
    "\n",
    "print(series_prices1, '\\n')\n",
    "print(series_prices2)"
   ]
  },
  {
   "cell_type": "markdown",
   "id": "ff40c335",
   "metadata": {},
   "source": [
    "#### Basic statistics on Series data"
   ]
  },
  {
   "cell_type": "code",
   "execution_count": null,
   "id": "5625a2c8",
   "metadata": {},
   "outputs": [],
   "source": [
    "series_prices1_mean = series_prices1.mean()\n",
    "series_prices2_mean = series_prices2.mean()\n",
    "\n",
    "print(series_prices1_mean, '\\n')\n",
    "print(series_prices2_mean, '\\n')"
   ]
  },
  {
   "cell_type": "code",
   "execution_count": null,
   "id": "6f875dc9",
   "metadata": {},
   "outputs": [],
   "source": [
    "series_prices_diff = series_prices1 - series_prices2        # understand by the first and last row return NaN\n",
    "\n",
    "print(series_prices_diff)"
   ]
  },
  {
   "cell_type": "markdown",
   "id": "e21ed46a",
   "metadata": {},
   "source": [
    "### The pandas <u>DataFrame</u> object"
   ]
  },
  {
   "cell_type": "markdown",
   "id": "1cb9385f",
   "metadata": {},
   "source": [
    "#### A pandas DataFrame is a collection of one or more pandas Series aligned by a common index."
   ]
  },
  {
   "cell_type": "markdown",
   "id": "676e36f1",
   "metadata": {},
   "source": [
    "#### DataFrame Instantiation"
   ]
  },
  {
   "cell_type": "code",
   "execution_count": null,
   "id": "3ae002a5",
   "metadata": {
    "scrolled": true
   },
   "outputs": [],
   "source": [
    "df1 = DataFrame({'IBM':series_prices1, 'MSFT':series_prices3})\n",
    "df2 = DataFrame({'IBM':series_prices1, 'TKWY_NA':series_prices2})\n",
    "\n",
    "print(df1, '\\n')\n",
    "print(df2)"
   ]
  },
  {
   "cell_type": "markdown",
   "id": "2bfb8fba",
   "metadata": {},
   "source": [
    "#### Selecting data from a DataFrame"
   ]
  },
  {
   "cell_type": "code",
   "execution_count": null,
   "id": "9a8a25b6",
   "metadata": {},
   "outputs": [],
   "source": [
    "print(df1['IBM'], '\\n')                          # this returns a pandas Series\n",
    "print(df1.IBM, '\\n')\n",
    "print(df1[['MSFT', 'IBM']], '\\n')                # this retuns a pandas DataFrame"
   ]
  },
  {
   "cell_type": "code",
   "execution_count": null,
   "id": "1093722a",
   "metadata": {},
   "outputs": [],
   "source": [
    "df1['IBM'][[1, 4]]                 # here you are selecting from a Series extracted from the general DataFrame"
   ]
  },
  {
   "cell_type": "code",
   "execution_count": null,
   "id": "ff001717",
   "metadata": {},
   "outputs": [],
   "source": [
    "df1.IBM - df1.MSFT                  # this is identical to math using two separate Series"
   ]
  },
  {
   "cell_type": "code",
   "execution_count": null,
   "id": "70609e2d",
   "metadata": {},
   "outputs": [],
   "source": [
    "df1['Difference'] = df1.IBM - df1.MSFT\n",
    "\n",
    "print(df1)"
   ]
  },
  {
   "cell_type": "code",
   "execution_count": null,
   "id": "24158ec0",
   "metadata": {},
   "outputs": [],
   "source": [
    "df1.index"
   ]
  },
  {
   "cell_type": "code",
   "execution_count": null,
   "id": "44a16c2f",
   "metadata": {},
   "outputs": [],
   "source": [
    "df1.columns"
   ]
  },
  {
   "cell_type": "code",
   "execution_count": 3,
   "id": "c94e9be8",
   "metadata": {
    "tags": []
   },
   "outputs": [
    {
     "ename": "SyntaxError",
     "evalue": "invalid syntax (1830641140.py, line 1)",
     "output_type": "error",
     "traceback": [
      "\u001b[1;36m  Cell \u001b[1;32mIn[3], line 1\u001b[1;36m\u001b[0m\n\u001b[1;33m    [1:4]\u001b[0m\n\u001b[1;37m      ^\u001b[0m\n\u001b[1;31mSyntaxError\u001b[0m\u001b[1;31m:\u001b[0m invalid syntax\n"
     ]
    }
   ],
   "source": [
    "[1:4]"
   ]
  },
  {
   "cell_type": "code",
   "execution_count": null,
   "id": "9c2a05df-a9fd-491a-bd51-a4c5586d7a4c",
   "metadata": {},
   "outputs": [],
   "source": []
  }
 ],
 "metadata": {
  "kernelspec": {
   "display_name": "Python 3 (ipykernel)",
   "language": "python",
   "name": "python3"
  },
  "language_info": {
   "codemirror_mode": {
    "name": "ipython",
    "version": 3
   },
   "file_extension": ".py",
   "mimetype": "text/x-python",
   "name": "python",
   "nbconvert_exporter": "python",
   "pygments_lexer": "ipython3",
   "version": "3.10.11"
  }
 },
 "nbformat": 4,
 "nbformat_minor": 5
}
