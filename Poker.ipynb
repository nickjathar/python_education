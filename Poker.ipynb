{
 "cells": [
  {
   "cell_type": "markdown",
   "id": "765eaade-0dfb-4526-9f18-70a52f00f438",
   "metadata": {},
   "source": [
    "# **Professional No-Limit Holdem**"
   ]
  },
  {
   "cell_type": "markdown",
   "id": "4b82881d-2dcf-4396-bd49-5a873d16c57f",
   "metadata": {},
   "source": [
    "## Part 1 - The Basics"
   ]
  },
  {
   "cell_type": "markdown",
   "id": "660cb9b4-322f-4a4f-a50b-bd7d2da84d26",
   "metadata": {},
   "source": [
    "### Introduction"
   ]
  },
  {
   "cell_type": "markdown",
   "id": "f3dfb315-069a-4e1f-a343-e92b97e5d242",
   "metadata": {},
   "source": [
    "### It Depends"
   ]
  },
  {
   "cell_type": "markdown",
   "id": "450b4945-f958-4a7b-99c4-05375edb2a18",
   "metadata": {},
   "source": [
    "### Odds and Outs"
   ]
  },
  {
   "cell_type": "markdown",
   "id": "a9414588-9175-43e8-8f4e-008549e0f0ed",
   "metadata": {},
   "source": [
    "### Bet Sizes"
   ]
  },
  {
   "cell_type": "markdown",
   "id": "c09227f2-421c-4d3f-ad6c-0c15d48279be",
   "metadata": {},
   "source": [
    "### Stack Sizes"
   ]
  },
  {
   "cell_type": "markdown",
   "id": "34003a04-1afe-43b7-a133-c03e74e28c0e",
   "metadata": {},
   "source": [
    "## Part 2 - The Fundamentals"
   ]
  },
  {
   "cell_type": "markdown",
   "id": "89f9444a-ddb0-4317-b71d-4580809d3ba7",
   "metadata": {},
   "source": [
    "### Introduction"
   ]
  },
  {
   "cell_type": "markdown",
   "id": "80cf51cf-884a-4118-ae11-29879e29c778",
   "metadata": {},
   "source": [
    "You can make a living playing NL with fairly average people skills. The trick **is to manage skill well**.\n",
    "\n",
    "Take good risks, reject bad ones, and make sure that all the ratios are in order, you'll win at a steady rate.\n",
    "\n",
    "Amateurs play in a way that's perpetually out of balance. They risk too much for the reward. They don't pay attention to stack sizes."
   ]
  },
  {
   "cell_type": "markdown",
   "id": "d07a22b8-8f31-4f96-b0df-00baf232436f",
   "metadata": {},
   "source": [
    "### Pot Size"
   ]
  },
  {
   "cell_type": "markdown",
   "id": "c183dec9-14ee-426b-9736-04b4c21ac28c",
   "metadata": {},
   "source": [
    "In NL there are two types of risks and rewards - **immediate** or **potential**.\n",
    "\n",
    "Immediate risk is the bet that you either make or the bet that you have to call.\n",
    "Immediate reward is what's in the pot now.\n",
    "\n",
    "**Pot Odds** is the imeediate reward divided by immediate risk.\n",
    "\n",
    "Potential risk requires you to look ahead and anticipate what might happen. If you call the current bet, will your opponent bet again? How much is he likely to bet? How likely is he to check? And under what circumstances would you bet or raise?\n",
    "\n",
    "Potential risk is the amount you are likely to risk from now to the end of the hand. You potential risk is never more than your present stack size. It can be lower if your opponnents have smaller stacks than you do.\n",
    "\n",
    "**As you play, you should not only consider your immediate risk, but also your potential risk**.\n",
    "- Think about how the hand might proceed.\n",
    "- Consider how you would react to the various possibilities.\n",
    "\n",
    "**Implied Odds** is the potential reward divided by immediate risk.\n",
    "\n",
    "To estimate potential risk and reward well, you have to think through the hand and anticipate what might happen.\n",
    "\n",
    "**Win Money, Not Pots**\n",
    "\n",
    "The bigger the pot, the bigger the reward.\n",
    "The smalle the remaining stack, the smaller the risk.\n",
    "As pots gets bigger, the reward gets bigger and your potential risk gets smaller. This means you want to play.\n",
    "\n",
    "You should be **much less willing to fold in big pots** than in small ones. In a big pot, the reward is too great relative to the risk for you to give up frequently.\n",
    "\n",
    "Folding in a big pot can be a terrible error.\n",
    "\n",
    "In NL, the size of the pot depends on the ratio of the pot size to the remaining stack size.\n",
    "\n",
    "After the flop, people often make risk-rewards errors. They create big pots with recognizing it, only to fold when the reward has becoming attractive relative to the risk. **Putting lots of money in and then folding can be one of the most costly mistakes you can make**.\n",
    "\n",
    "**You shouldn't build a big pot ***unless you are willing to go all-in***."
   ]
  },
  {
   "cell_type": "markdown",
   "id": "3314fb8e-3b89-49b5-a389-4b1d43482ed3",
   "metadata": {},
   "source": [
    "### Commitment"
   ]
  },
  {
   "cell_type": "markdown",
   "id": "3e377cf0-cebd-4b19-8dda-30f7c9c9ab90",
   "metadata": {},
   "source": [
    "Commitment means being willing to go all-in. **\"Am I committed?\"** is the first question you should **ask yourself on every street**.\n",
    "\n",
    "Commitment decisions should be made **solely** on whether your expectation is positive if you get all-in. If getting all-in will theoretically make you money, you commit. If not, you don't.\n",
    "\n",
    "When you are committed, you gain a substantial defensive advantage. You cannot be bluffed, and playing your hand gets a lot easier.\n",
    "\n",
    "**Make your all-in decision before you play a big pot.**\n",
    "\n",
    "Good players often decide preflop what conditions are necessary for committing postflop. Often they decide conditions for going all-in ***before they put the first chip in the pot***.\n",
    "\n",
    "The better you know your opponents' playing tendencies, the better your commitment decisions should be.\n",
    "\n",
    "Frequently your commitment decision will depend on estimating an opponent's range of hands, which in turn depends on betting patterns, playing history, degree of tilt, physical tells, and pretty much everything else you know about him.\n",
    "\n",
    "Stack sizes **also radically affect commitment decisions**.\n",
    "\n",
    "**Always consider you opponents and the stack sizes before making your commitment decisions.**\n",
    "\n",
    "When you're **not committed**, and you have no reason for another play, you should try to keep the pot small.\n",
    "\n",
    "Reevaluate you commitment decision with each new card or other significant new information.\n",
    "\n",
    "Sometimes you will be **condtionally committed**. That means you are willing to go all-in, but only if certain conditions are met.\n",
    "\n",
    "Sometimes you will be committed only if certain conditions are satisfied. That shows you're thinking properly about commitment.\n",
    "\n",
    "Commitment can also be divided into **happily** committed and **reluctantly** committed.\n",
    "- When you are happily committed, your **primary concerns** are how to get all-in and how to avoid getting drawn out on.\n",
    "- In general, you want to get the money in as fast as your opponent(s) will allow. That reduces their implied odds. However, sometimes you will be correct to check or underbet to induce action or otherwise maximize expectations.\n",
    "- You are reluctantly committed when you don't expect to profit from the rest of the money going into the pot, but the current pot is big enough to justify getting all-in.\n",
    "- Whne you are reluctantly committed, look for alternate betting lines that increase your expectation, and consider keeping the pot small."
   ]
  },
  {
   "cell_type": "markdown",
   "id": "5c4a906d-2dd2-4b6a-a1e4-1adc71660ad1",
   "metadata": {},
   "source": [
    "### Pot Control"
   ]
  },
  {
   "cell_type": "markdown",
   "id": "2621e9f7-9364-47e0-9f7c-9f213c54ddc2",
   "metadata": {},
   "source": [
    "Pot control means deciding **early in a hand** what size you want the final pot to be, and then choosing your actions to make it that size.\n",
    "- When you are fully committed, try to build a big pot.\n",
    "- When you are not committed, but want to see a showdown, keep the pot small unless you have a good reason to do otherwise.\n",
    "\n",
    "Novice players often get both of these ideas wrong. Many players repeatedly make the expensive mistake of building too big a pot without enough hand strength.\n",
    "\n",
    "Many players think experts win because they make tough decisions well. They miss the point. Good players *plan ahead to avoid tough decisions*, and so should you.\n",
    "\n",
    "When you flop a big hand that you think is best, do what you can to build a big pot. Usually that means making big bets, and giving your opponents the opportunity to go broke.\n",
    "\n",
    "When you are not committed, you should usually not bet or call a large portion of the effective stack. However:\n",
    "- You might make such a bet if you are bluffing or semibluffing.\n",
    "- You might make such a bet if your opponent has predictable tendencies that make this strategy profitable. For example, if you've observed that an opponent only check-raises the turn with a strong hand (common amongst novice players), and that opponent checks the turn to you, you should bet (and fold if check-raised), since this move has fold equity and charges for your opponent in cases of weak draws.\n",
    "- You might call such a bet with a draw if the pot odds or implied odds justify the call.\n",
    "- You might call such a bet if it closes the action on the river.\n",
    "- You might bet if the need to punish a draw combined with the likelihood of your opponent(s) having a draw outweigh the risks. When you have a made hand but aren't committed, you will often find yourself on the turn wondering whether you should bet to charge the draws or check to keep the pot small. The answer depends on your opponents.\n",
    "  - When you have passive opponents who don't bet or raise without big hands, you should frequently bet.\n",
    "  - Aggressive opponents who bet and raise with a variety of hands require more caution - and usually more checks.\n",
    "  - After considering your opponents and your hand, you must then consider other factors such as the stack sizes, pot size, and recent game flow."
   ]
  },
  {
   "cell_type": "markdown",
   "id": "29ca6601-8619-4f3f-8fbc-cd46ea00c0ba",
   "metadata": {},
   "source": [
    "### Position"
   ]
  },
  {
   "cell_type": "markdown",
   "id": "c5d71b12-a3c5-4678-8fa2-6f44c94a0a6d",
   "metadata": {},
   "source": [
    "Whatever your concept of position is, chances are you underestimate its value.\n",
    "\n",
    "In poker, the more you know, then better off you are. When you have position, you see what your opponent does before you act. That extra information helps you considerably, and it's only the first benefit of position.\n",
    "\n",
    "There are many other advantages of postion:\n",
    "- You can steal more pots.\n",
    "- You are harder to bluff off a pot.\n",
    "- You can more easily use your stack to make an all-in threat.\n",
    "- When there is heavy action in front of you, you can fold medium hands without putting chips into the pot.\n",
    "- When you do not bet or raise postflop, you never have to show a losing hand.\n",
    "\n",
    "**Out of Position = Out of the Action**\n",
    "\n",
    "If you do not have position, your first (and second) instinct should be to fold.\n",
    "\n",
    "No-Limit versus Limit:\n",
    "- Compared to limit, you should play tighter in early position.\n",
    "- Compared to limit, you can play more loosely from the button, especially if the stacks are deep and you play at least as well as your opponent.Position adds value to all hands. That added value can make otherwise marginal hands profitable.\n",
    "- Compared to limit, you should fold your blinds more often. In NL, the final pots are usually larger, so stealing and protecting blinds has less relative value. **Defending your blinds** by calling with marginal hands is a relatively weaker play in NL than in limit.\n",
    "\n",
    "Relative versus Absolute Position\n",
    "- Sometimes having relative position can be more useful than having absolute position. **With relative position, you will often get to check to the likely bettor, then see how every other opponent reacts before committing your chips**. That is why, contrary to conventional wisdom, it can sometimes be better to be on the right of a very aggressive player.\n",
    "- If large preflop raises are the norm, and several players are left to act, you should fold any hands that you couldn't profitably call or reraise a large raise with. **This rule forces you to play very tightly in early position in a full ring game**.\n",
    "- If, on the other hand, preflop raising is uncommon or the raises are small, you can see more flops from early position.\n",
    "- The postflop value of position drops in multiway pots for several reasons:\n",
    "  - Position can help you steal, avoid getting bluffed, and threaten someone's stack with few players involved.\n",
    "  - However, the more players, the more likely it is that someone will make a good hand, which lessens your ability to steal, bluff, and exert pressure.\n",
    "  - Also, with many callers, other players will more often be betting against each other, which can prevent you from exercising your option to make or save that final bet.\n",
    "- Deeper effective stacks increase the value of position. Consider than optional bet that position sometimes allows you to control. If the stacks are deep, that one bet saved or earned can be much larger. There are other reasons why position is more valuable when the stacks are deep, but control over the last bet is the asiest to grasp.\n",
    "- In late position, if there are limpers and then a raise, you should **be less likely to call** than if the first player raised. When the raise comes after limpers, any of them could reraise and force you to fold a marginal hand. Also, calling to the immediate left of the raiser gives you poor relative position on the flop."
   ]
  },
  {
   "cell_type": "markdown",
   "id": "d8e1035c-a821-40e1-829a-fa6f7a6a2176",
   "metadata": {},
   "source": [
    "### Hand Reading"
   ]
  },
  {
   "cell_type": "markdown",
   "id": "23f3b523-b2a1-4455-bc59-11a768cebfcd",
   "metadata": {},
   "source": [
    "You don't know what cards your opponents have. So you make decisions based on what you do know: your cards, the board, stack sizes, position, opponents' betting pattern, opponents' style, and many other factors.\n",
    "\n",
    "**You should constantly try to complete the information puzzle**. The process of using all possible information to figure out your opponents' cards is called **hand reading**.\n",
    "\n",
    "Hand reading is a logical process that involves observation, psychology, and deductive reasoning. With experience, anyone can do it.\n",
    "\n",
    "First, you observe your opponents - watch their actions and look for patterns. The more you observe and the more you remember (or write down), the more your hand reading skills will improve.\n",
    "\n",
    "**Your first priority** for observation is the **betting patterns of your opponents**.\n",
    "\n",
    "Don't make the mistake of thinking that hand reading is a mystical process, but don't make the mistake of thinking it's a purely logical process either.\n",
    "\n",
    "Many beginners make the mistake of taking their opponents' actions at face value. Don't always assume that your opponents always have the most obvious hands and that they never bluff. **Dig deeper!**\n",
    "\n",
    "Another beginner's mistake is **leaping too quickly to an erroneous conclusion**. A lot of times this happens because beginners think in terms of single hands instead of ranges of hands.\n",
    "\n",
    "Suited connectors can be good hands, but **they require implied odds (or a good situation for a steal)** to be profitable. You shouldn't play them all the time, especially if you're out of position or if the stack sizes are wrong.\n",
    "\n",
    "Stack sizes determine the best play, and what works at 50BB can be a mistake at 300BB. Small stacks can bully large stacks just as easily as the other way around.\n",
    "\n",
    "When out of position against a deep stack, proceed cautiously, particularly if your opponent plays well. **Things get complicated when you up against multiple different stack sizes, particularly if you're out of position against a deep stack.\n",
    "\n",
    "When you're committed, you should generally try to get your money in as quickly as possible. You may delay a round if a large number of cards could ruin your hand, provided that you could still get all-in on the turn or river.\n",
    "\n",
    "When assessing a situation, you should look at the totality of all factors. For example, implied odds PLUS position can suggest calling whereas implied odds without position could suggest folding.\n",
    "\n",
    "Don't get mesmerized by your strong look hand and feel like you have to see a flop. NL **isn't about how good your cards look**. It's about how profitable your situation is. Perhaps the biggest way amateurs lose money is by playing weak hands out of position."
   ]
  },
  {
   "cell_type": "markdown",
   "id": "5837a6f6-9bb2-4fa4-8282-0de64d9b3264",
   "metadata": {},
   "source": [
    "## Part 3 - The REM Process"
   ]
  },
  {
   "cell_type": "markdown",
   "id": "5f9e712a-cc1d-4407-8345-2d7664ac5256",
   "metadata": {},
   "source": [
    "### R is for Range of Hands"
   ]
  },
  {
   "cell_type": "markdown",
   "id": "3170a231-f884-4776-82ec-02d9bd511f3d",
   "metadata": {},
   "source": [
    "REM is a guiding process by which you gather information, calculate its consequences, and use it to make the best possible play. It's the same system every time for every decision.\n",
    "\n",
    "You information is rarely perfect, but if you pay attention, you can usually piece together the details you have into a **read**, an educated guess at your opponent's likely hands. The better you are at gathering information, the more accurate your read, and hence the better your decision-making.\n",
    "\n",
    "At the start of your hand, you should put your opponent on a  range of hands. As the betting progresses and you gather new information, you refine that range.\n",
    "\n",
    "You job is to start with all possible hands and, with each action your opponent takes, decide which of those hands have become more likely.\n",
    "\n",
    "It sounds like a lot to address, but you'll usually be able to eliminate (or virtually eleiminate) many hands from consideration.\n",
    "\n",
    "**Know you opponents and observe their tendencies**\n",
    "- Preflop standards: how tight do your opponents play before the flop? What hands do they play and in which positions do they play them? When a tight player enters a pot, you can often narrow his hand range dramatically.\n",
    "- Betting patterns and amounts in various situations: preflop, do you opponents vary their raise sizes with different hands?\n",
    "  - What amount do they usually bet postflop, given their hand strength?\n",
    "  - Do they usually bet the pot?\n",
    "  - Why did they bet more or less this time?\n",
    "  - Many online players will make a large reraise preflop only with QQ+, AK and only put in a third large raise only with KK+\n",
    "  - Many never make a small raise with a big pocket pair, allowing you to eliminate those hands when they make a small raise.\n",
    "  - Others overbet the pot on the flop with top pairs and overpairs, but almost never overbet the flop with stronger or weaker hands.\n",
    "- Particular actions on specific streets or with specific hand types.\n",
    "  - Do you opponents slowplay big hands like sets?\n",
    "  - Do they ever raise with draws?\n",
    "  - Do they raise only with made hands?\n",
    "  - Will they call with many different hands on the flop?\n",
    "  - What do they do with those hands on the turn?\n",
    "  - Suppose a player doesn't usually checkraise with one-pair hands or as a semibluff or bluff. If that player checkraises you on the turn, you can eliminate the weak hands from his range.\n",
    "- Physical tells - are often less reliable than betting tells, in part because they can be faked. Use them with caution.\n",
    "- Betting pace\n",
    "  - Do you opponents normally bet quickly or slowly?\n",
    "  - Why did they bet quickly or slowly this time?\n",
    "  - Did they think about the turn card when it was dealt or did they act so quickly that they didn't have time to think about it?\n",
    "  - Betting pace is applicable in online games as well as live games.\n",
    "  \n",
    "Pay attention even when you have no cards, and you will soon get much better at reading hands.\n",
    "If you can, make a game of it when you aren't in the hand. Try to narrow each player's range as much as possible, then see how you did when hands are shown down. **Stay in it even when you're out of it**.\n",
    "\n",
    "You should **constantly reassess your opponents' hand ranges** with each new action and on each new street.\n",
    "Occasionally, you will find that you have **mistakenly eliminated** your opponent's actual holding.\n",
    "**Don't chant \"inconceivable\" to yourself while your opponent wins your stack with a hand you should have considered (or reconsidered)**.\n",
    "\n",
    "Position makes hand reading easier, because your opponents must act first. Their actions can clarify the hand ranges you assign them, allowing you to make better decisions.\n",
    "\n",
    "**Gathering information and putting your opponents on a range of hands is the R in REM**."
   ]
  },
  {
   "cell_type": "markdown",
   "id": "a0561210-3a41-49e5-a70e-c7b875494a09",
   "metadata": {},
   "source": [
    "### E is for Equity"
   ]
  },
  {
   "cell_type": "markdown",
   "id": "0bceaefb-2f3c-41aa-9647-3e83a19be635",
   "metadata": {},
   "source": [
    "You've put your opponent on a range of hands. Now it's time to exploit that information.\n",
    "\n",
    "Begin by **determining your equity against that range**. Equity simply means \"stake\" or \"share\". You *pot equity* is the stake or share you have in a pot, based on the odds of your cards **winning at showdown**.\n",
    "\n",
    "You will usually have a broader range in mind for your opponent. With a little practice, you can quickly estimate your pot equity in everyday situations. To calculate equity:\n",
    "- Estimate which hands your opponents could have - their ranges - and how likely each hand in that range is.\n",
    "- Then calculate your equity against each hand individually and determine the weighted average.\n",
    "\n",
    "**Combinatoric Exercise**\n",
    "You have AKs and you believe your opponent's range is JJ+ and AK. How many combinations out of 1326 can your opponent have?\n",
    "- JJ (6), QQ (6), KK (3 - you have one of the four kings), AA(3 - you have one of the four aces), AKs (3), AKo (6) for a total of 27 combinations.\n",
    "- To calculate you AKs equity against your opponent's full range you calculate the weighted average of each combinations equity against your AKs.\n",
    "\n",
    "To estimate equity, start with one extreme. Think of an opponent's hand that you are way behind (or way ahead of) and use your equity against that hand as a base number.\n",
    "- Then factor in other hands, and remember to account for the available combinations of each hand.\n",
    "\n",
    "Remember, you don't need to have >50% pot equity to continue. You need only enough equity, including the money in the pot, to have a positive expectation. For example, if you have 33% pot equity when you're opponent goes all-in, you need pot odds of better than 2-to-1 to call.\n",
    "\n",
    "**Fold Equity** is equity gained through the chance your opponent(s) will fold. Because few hands make it to showdown, fold equity plays a major role in most NL decisions. **It's better to be the bettor than the caller**. Fold equity is the reason underpinning this saying.\n",
    "- When you call, you can win only by having the best hand.\n",
    "- When you bet or raise, you can win the pot in two ways - by having the best hand or by having your opponents fold.\n",
    "\n",
    "Your fold equity will vary widely depending on your opponent's playing tendencies.\n",
    "- Sometimes your opponents will play so weak-tight that you'll have lots of folding equity.\n",
    "- Other times your opponents will play so loosely that it seems like they never fold.\n",
    "- As usual, pay attention to your opponents, and make realistic estimates.\n",
    "\n",
    "Fold equity is conceptually why semibluffing is such a powerful tool. You take the entire pot when your opponents fold, which can significantly raise your total equity.\n",
    "\n",
    "Aggressive use of fold equity can work well as part of an **integrated betting strategy**.\n",
    "\n",
    "If your opponents notice **you making big bets in marginal situations** and adjust by calling more often, that can help you when you have a big hand.\n",
    "- Say you utilize fold equity to its fullest by being aggressive when you are even-money or a slight underdog. If that aggression leads to you getting called even a few more times when you're a heavy favorite, the effect on your overall expectations can be huge.\n",
    "\n",
    "**Always consider fold equity when calculating total equity.**"
   ]
  },
  {
   "cell_type": "markdown",
   "id": "def5680e-f435-4744-937f-23a1ac7d0b86",
   "metadata": {},
   "source": [
    "### M is for Maximize"
   ]
  },
  {
   "cell_type": "markdown",
   "id": "d3ccce0b-de55-4438-9182-0258b8bae7e3",
   "metadata": {},
   "source": [
    "Put your opponent on a range of hands. Calculate your equity. Then maximize.\n",
    "**Maximizing** means choosing the action or series of actions that makes you the **most money in the long run**.\n",
    "\n",
    "**Having you ever thought about what checking, betting, folding, calling, or raising actually accomplishes?**\n",
    "\n",
    "**CHECKING**\n",
    "Checking when you are last to act (\"checking behind\") terminates a round of betting.\n",
    "- Checking behind can be good if you want to keep the pot small.\n",
    "- Checking behind on the river completely terminates the hand and is good for hands wanting a showdown.\n",
    "- Checking behind on any street before the river results in a free card for you and your opponent and is good if the free card benefits you.\n",
    "  - This is especially true if you have a **weak hand and little fold equity** but could improve to the best hand.\n",
    "  - Often this happens in a multiway pot since the possibility of someone having a strong hand and planning to checkraise is higher.\n",
    "  - Checking to your opponents works well if they are aggressive and you want them to bet. In some situations, certain opponents will be a high percentage of the time. For example, some players almost always make a contiuation bet on the flop after raising preflop. **Remember those who do**. You can exploit them later by checking the flop when you do make a hand.\n",
    "\n",
    "Thereare many reasons to **bet** or **raise**:\n",
    "- extract profit\n",
    "- punish a draw\n",
    "- make others fold (win the pot or thin the field)\n",
    "- gain information\n",
    "- and more\n",
    "\n",
    "**Your first question before you bet or raise should be:** Do you want your opponent **in the pot**, or do you want then **out of the pot**?\n",
    "\n",
    "**VALUE BET**\n",
    "- You value bet when you want to keep your opponents in.\n",
    "- You value bet when you think you have the best hand and you want weaker hands to call or raise.\n",
    "- You believe you will make more money by betting than by checking to induce a bet.\n",
    "- Choosing the **right sized** bet is crucial to maximizing value. The more your opponent puts in with less equity, the more you maximize expectations.\n",
    "\n",
    "Maximizing well requires experience, skill, and \"feel\". Remember: **bet the amount that maximizes expectations across your opponent's** ***range of hands***.\n",
    "\n",
    "**BLUFFING**\n",
    "- Bluffing is the opposite of value betting.\n",
    "- You don't thnk you have the best hand, and you want better hands to fold.\n",
    "- The first rule of bluffing is to bet the smallest amount that will get the job done.\n",
    "- Your bet is the risk you take to win the reward of the pot. The less risk required to win the reward, the better.\n",
    "- To bluff well, **you must estimate fold equity well**.\n",
    "- Good fold equity estimation requires putting your opponent on a range of hands and know something about how your opponent will play different hands in that range.\n",
    "- Additionally, categorizing your opponents style is critical. For example, a calling station may not folding the weak hand in his range whereas a weak-tight player make fold a stronger holding.\n",
    "- The more opponents in a hand, the less likely a bluff will succeed since it is more likely that someone has a decent hand.\n",
    "- You should be careful in situations where the board is likely to have hit your opponent (range estimation is critical here).\n",
    "- Bet size and relative stack sizes are **critical** factors in maximizing the expectation of bluffs.\n",
    "\n",
    "When most of you equity derives from fold equity, people view your bet as a bluff.\n",
    "When your equity is somewhat balanced between pot and fold equity, people view your bet as a semibluff.\n",
    "When your equity is heavily derived from pot equity, people will consider your bet a value bet."
   ]
  },
  {
   "cell_type": "markdown",
   "id": "ebd8f290-4f2c-40a6-85ad-53a6d9780593",
   "metadata": {},
   "source": [
    "### REM in Action"
   ]
  },
  {
   "cell_type": "markdown",
   "id": "5687bcf9-6c9d-423d-924a-c462dbaf457b",
   "metadata": {},
   "source": [
    "## Part 4 - Planning Hands Around Commitment"
   ]
  },
  {
   "cell_type": "markdown",
   "id": "e72a722b-b664-405f-9711-fb2fcbfe6e1f",
   "metadata": {},
   "source": [
    "### Introduction"
   ]
  },
  {
   "cell_type": "markdown",
   "id": "c299c91b-aa5f-4c3c-99e0-6325b6693326",
   "metadata": {},
   "source": [
    "### The Commitment Threshold"
   ]
  },
  {
   "cell_type": "markdown",
   "id": "c943438f-81bc-4f62-9cf2-0dfa84a16326",
   "metadata": {},
   "source": [
    "### Stack-to-Pot Ratios: Introduction"
   ]
  },
  {
   "cell_type": "markdown",
   "id": "702921bb-48e2-4b18-a0a8-769ecff0733e",
   "metadata": {},
   "source": [
    "### Top Pair with SPR"
   ]
  },
  {
   "cell_type": "markdown",
   "id": "a0b738d6-502a-4cf9-a02c-0e11982b5222",
   "metadata": {},
   "source": [
    "### Target SPRs"
   ]
  },
  {
   "cell_type": "markdown",
   "id": "67d8569a-9e8d-4aec-8e64-406d601af940",
   "metadata": {},
   "source": [
    "### Estimating Target SPRs"
   ]
  },
  {
   "cell_type": "markdown",
   "id": "13416330-b0af-4d82-8700-d5d565a73d51",
   "metadata": {},
   "source": [
    "### Creating Target SPRs"
   ]
  },
  {
   "cell_type": "markdown",
   "id": "1e7038da-c5df-485f-beec-a38f55347c42",
   "metadata": {},
   "source": [
    "### Target SPR Examples"
   ]
  },
  {
   "cell_type": "markdown",
   "id": "4f17259f-98a7-40e5-8b0a-4f5b85197e7b",
   "metadata": {},
   "source": [
    "### Making Adjustments"
   ]
  },
  {
   "cell_type": "markdown",
   "id": "a6cbdf4e-eecb-4a53-8644-056d92be4507",
   "metadata": {},
   "source": [
    "### When SPR Doesn't Work"
   ]
  },
  {
   "cell_type": "markdown",
   "id": "e739667e-e068-4139-95e9-8e91bd97e4f3",
   "metadata": {},
   "source": [
    "### Using SPR to Choose Postflop Bettting Lines"
   ]
  },
  {
   "cell_type": "markdown",
   "id": "c508074d-13e8-4562-bb19-78c4ef370b3a",
   "metadata": {},
   "source": [
    "### Betting to Get All-In"
   ]
  },
  {
   "cell_type": "markdown",
   "id": "19404cb0-19da-442a-bbc2-8cb2bebd7942",
   "metadata": {},
   "source": [
    "### SPR - Putting It All Together"
   ]
  },
  {
   "cell_type": "markdown",
   "id": "e16e3bc7-2070-4e42-aaee-f51b0f6f3887",
   "metadata": {},
   "source": [
    "## Part 5 - Planning In Practice"
   ]
  },
  {
   "cell_type": "code",
   "execution_count": null,
   "id": "7f3538be-98c2-4eec-820d-e16ea8764df3",
   "metadata": {},
   "outputs": [],
   "source": []
  }
 ],
 "metadata": {
  "kernelspec": {
   "display_name": "Python 3 (ipykernel)",
   "language": "python",
   "name": "python3"
  },
  "language_info": {
   "codemirror_mode": {
    "name": "ipython",
    "version": 3
   },
   "file_extension": ".py",
   "mimetype": "text/x-python",
   "name": "python",
   "nbconvert_exporter": "python",
   "pygments_lexer": "ipython3",
   "version": "3.9.13"
  }
 },
 "nbformat": 4,
 "nbformat_minor": 5
}
