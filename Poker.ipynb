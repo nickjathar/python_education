{
 "cells": [
  {
   "cell_type": "markdown",
   "id": "690dd1bc-a66c-40ad-be87-a42a4f460e02",
   "metadata": {},
   "source": [
    "# **CORE**"
   ]
  },
  {
   "cell_type": "markdown",
   "id": "13099826-cf2a-40fe-a790-5e02a2a912b7",
   "metadata": {},
   "source": [
    "Three Fundamental Objective Questions to Ask?\n",
    "1. Did you play the hand well?\n",
    "2. Did you make any mistakes?\n",
    "3. Did your opponent(s) make any mistakes?"
   ]
  },
  {
   "cell_type": "markdown",
   "id": "4b82881d-2dcf-4396-bd49-5a873d16c57f",
   "metadata": {},
   "source": [
    "## Core Ranges"
   ]
  },
  {
   "cell_type": "markdown",
   "id": "62f1b40a-376d-42cf-907c-e79bc927257a",
   "metadata": {},
   "source": [
    "Establishing opening ranges make sure the foundation of each hand you play is based on theoretical bedrock.\n",
    " - These ranges do not guarantee that you'll win, but they will allow you to avoid preflop errors that inevitably lead to losses.\n",
    " - A no-limit holdem strategy is really grounded in your preflop choices.\n",
    " \n",
    "Once you've memorized the opening ranges, you can then expand upon them (\"discretionary deviations\") as your experience and skill grows.\n",
    " - What situations are important in making such \"discretionary deviations\"?\n",
    " - A simplified flop strategy can be used for the commmon case when you find yourself heads-up and in position.\n",
    " \n",
    "Late-stage tournament push-fold ranges.\n",
    "\n",
    "GOALS\n",
    "1. Memorizing and implementing the basic default strategies.\n",
    "2. Avoid adding complexity unless it adds to your win rate.\n",
    "3. Key variables to watch for in every no-limit cash game."
   ]
  },
  {
   "cell_type": "markdown",
   "id": "46baed0b-d69e-4b54-a10d-17da56afeb18",
   "metadata": {},
   "source": [
    "##### FAST TRACK TO WINNING POKER"
   ]
  },
  {
   "cell_type": "markdown",
   "id": "9f6fa319-2eb2-4e84-8173-af10f517c231",
   "metadata": {},
   "source": [
    "##### Level 1 is a \"Just Do This\" Course"
   ]
  },
  {
   "cell_type": "markdown",
   "id": "aa34f5ef-37e8-4730-86f2-e76f2df51e0b",
   "metadata": {},
   "source": [
    "Starting out, there are some bedrock strategies that are hard to beat, and perhaps surprisingly, simpler to execute than many of the strategies employed by the typical losing poker player.\n",
    "\n",
    "The complete game of NLHE cannot be simplified with just these strategies. They will, however, provide a powerful foundation that will put you far ahead of the average small-stakes player.\n",
    "\n",
    "In NLHE, your entire strategy stems from your preflop play, so your preflop ranges can be implemented in various preflop scenarios:\n",
    "1. Which hands to open with.\n",
    "2. Which hands to call a raise with.\n",
    "3. Which hands to 3-bet with.\n",
    "4. Which hands to isolation raise with.\n",
    "5. Which hands to limp behind with."
   ]
  },
  {
   "cell_type": "markdown",
   "id": "0f8e133a-d446-48e5-8d4d-1bab1e07ecad",
   "metadata": {},
   "source": [
    "##### Simple Mistakes That Make You a Losing Player"
   ]
  },
  {
   "cell_type": "markdown",
   "id": "80a19940-2e2a-4364-87f9-4ec9e6ce1408",
   "metadata": {},
   "source": [
    "Many relatively inexperienced players make a multitude of small mistakes.\n",
    "The good news is that these mistakes seem to permeate much of the player pool, and are easily corrected.\n",
    "\n",
    "Strategy Overview:\n",
    "1. Your initial goal is to steal pots you enter preflop for a good price.\n",
    "2. If you see a flop, your strong range creates many profitable postflop opportunties.\n",
    "3. 3-betting preflop is a key element of your strategy. **Please suck when facing a 3-bet.**\n",
    "4. You should rarely call raises (<10% of time outside of the BB).\n",
    "\n",
    "Specific Lines and Actions:\n",
    "1. Never open limp: always open raise instead OR fold.\n",
    "2. 3-bet or fold in 6-max as a default strategy (except from the BB).\n",
    "3. In position, c-bet around 1/3-point 100% of the time in a heads-up pot.\n",
    "4. In multiway pots, your c-bets should be less frequent and even smaller."
   ]
  },
  {
   "cell_type": "markdown",
   "id": "bbef189a-8fe5-4adb-b6d9-f2f60ae62238",
   "metadata": {},
   "source": [
    "##### Simplification"
   ]
  },
  {
   "cell_type": "markdown",
   "id": "db4d0c3b-9c66-41c7-9c40-70f051be35c4",
   "metadata": {},
   "source": [
    "Simplification is possible and modern analysis tools allow us to formulate a simplified strategy that works.\n",
    " - The simplifciation described in CORE L1 gives up little in terms of profits relative to more complex strategies.\n",
    " - For relatively new players, being confronted with full GTO solutions would be completely overwhelming.\n",
    " \n",
    "In most GTO preflop simulatoins, you would want to raise more hands than those suggested in CORE L1. Why would CORE L1 recommend a stategy that is too tight?\n",
    " - It eliminates mistakes deeper in the hand. Some starting hands are simply more difficult to play for inexperienced players, and generate very little profit even if played well.\n",
    " - Simply removing these marginal hands actually increases the win-rate of beginning players.\n",
    " \n",
    "Almost every small-stakes game features overly-loose play.\n",
    " - The greater the cold calls and limps, the greater the looseness of play.\n",
    " - Cold calls and limps in GTO models shouldn't happen very often (open limps would never happen).\n",
    " - Overwhelming majority of preflop calls should happen only from the big blind.\n",
    " \n",
    "Preflop opens from early position will frequently get called by one or more players. Even though your calling opponents are the ones frequently making a mistake by doing so, you being out of position puts you on your heels.\n",
    " - The way to combat oponents in these types of games is to tighten up your preflop ranges relative to GTO.\n",
    " - The CORE L1 opening ranges are a deviation from GTO that combine for a perfect exploit of low-stakes games.\n",
    " - The main consequence of rampant looseness in a typical small-stakes game is that playing tight is a powerful exploitative play. You have to gauge your opponents **calling inelasticity**.\n",
    "   - It can provide a higher win-rate than if you applied perfect GTO ranges.\n",
    "   \n",
    "If good to aggressive raising preflop doesn't work in terms of isolating you to one opponent, then you have a to rethink you strategy. This is because multiple callers can make winning postflop tough.\n",
    " - When raising gets 3+ callers, limping becomes more viable (with the lower end of your raising range).\n",
    " - Use some discipline and logic when choosing your limp range (don't go bananas with complete trash).\n",
    " - Try large raising before limping.\n",
    " \n",
    "Addressing the issue of range balance\n",
    " - Constantly raising really strong stuff and limping with playable stuff creates a face-up situation as players pick up on your betting pattern. This creates an IMBALANCED range for you.\n",
    "   - This however is hard for good players that pick up on your betting pattern to exploit you because of the general overall looseness of the game.\n",
    "   - However, if the ratio of good players to loose weak players tilts towards good players, then your IMBALANCED range will begin to hurt you.\n",
    "   \n",
    "The last simplification you may want to consider as a relatively inexperienced player is reducing the amount of these ranges you attempt to memorize.\n",
    " - Initially, we suggest you only use the 100% raise-or-fold hands.\n",
    " - Going further, you could use the first early position (EP1) range as your range for every early position spot.\n",
    " - Similarly, you can use the lojack (LJ) range for both the LJ and HJ.\n",
    " - Finally you can use the button (BU) range for the small blind (SB).\n",
    " \n",
    "Strongly consider this if you find yourself making significant mistakes postflop, tilting frequently, or just having other areas of your game that need sustantial attention.\n",
    " - Precision in your exact preflop ranges will not help you as much as solving the above leaks first."
   ]
  },
  {
   "cell_type": "markdown",
   "id": "dac10f82-1061-4294-8bda-1045b1509c26",
   "metadata": {},
   "source": [
    "##### Preflop Mentality"
   ]
  },
  {
   "cell_type": "markdown",
   "id": "4f76b5d7-f36a-4315-9671-513a85f00cfe",
   "metadata": {},
   "source": [
    "Your primary goal preflop should be to steal the pot.\n",
    " - This is why we never open limp because it fails to achieve this most basic goal.\n",
    "\n",
    "We also want to get as much money in preflop as possible with our strongest hands.\n",
    " - Raising frequently accomplishes this goal.\n",
    " \n",
    "Taken together, these two goals determine our raising ranges.\n",
    " - Our strong hands protect our weaker hands from being exploited.\n",
    " - Our weaker raising hands ensure our strong hands get action from weaker hands.\n",
    " \n",
    "The other main reason you play a hand preflop is that you are getting good odds to play the hand that you make an immediate profit by calling.\n",
    " - This is particularly true from the big blind when our calling odds are the best AND we close the action with a call."
   ]
  },
  {
   "cell_type": "markdown",
   "id": "aba356c3-b971-4e7e-ab6a-d51a9abe31f7",
   "metadata": {},
   "source": [
    "## Core Foundations"
   ]
  },
  {
   "cell_type": "markdown",
   "id": "f5acd435-e44e-43f7-a146-c1f4bc0fd8d9",
   "metadata": {},
   "source": [
    "## Core Strategies"
   ]
  },
  {
   "cell_type": "markdown",
   "id": "0831d4c3-221d-4e36-b497-26083694e88b",
   "metadata": {},
   "source": [
    "## Tournaments"
   ]
  },
  {
   "cell_type": "markdown",
   "id": "00dcbd69-8a29-4e32-945c-f0495b13289a",
   "metadata": {},
   "source": [
    "## Hand Reviews"
   ]
  },
  {
   "cell_type": "code",
   "execution_count": null,
   "id": "d214c3b1-073c-44ac-82ce-0eb8eb3775ea",
   "metadata": {},
   "outputs": [],
   "source": []
  }
 ],
 "metadata": {
  "kernelspec": {
   "display_name": "Python 3 (ipykernel)",
   "language": "python",
   "name": "python3"
  },
  "language_info": {
   "codemirror_mode": {
    "name": "ipython",
    "version": 3
   },
   "file_extension": ".py",
   "mimetype": "text/x-python",
   "name": "python",
   "nbconvert_exporter": "python",
   "pygments_lexer": "ipython3",
   "version": "3.10.9"
  }
 },
 "nbformat": 4,
 "nbformat_minor": 5
}
