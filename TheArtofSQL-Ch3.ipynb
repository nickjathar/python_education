{
 "cells": [
  {
   "cell_type": "markdown",
   "id": "dfcf5355-6c62-40a7-8879-3a168529ddfe",
   "metadata": {},
   "source": [
    "<h1> <span style=\"color:darkred\">Tactical Dispositions: Indexing</span> </h1>"
   ]
  },
  {
   "cell_type": "markdown",
   "id": "36412a14-9a64-4056-a1bb-776cf6480a6b",
   "metadata": {},
   "source": [
    "<h4> <span style=\"color:blue\">The Idenfication of \"Entry Points\"</span> </h4>"
   ]
  },
  {
   "cell_type": "markdown",
   "id": "6f3996e4-0c48-4057-b959-07375e89b75a",
   "metadata": {
    "jp-MarkdownHeadingCollapsed": true,
    "tags": []
   },
   "source": [
    "<h6> <span style=\"color:red\">In a transactional DB, \"too many indexes\" is often the mark of an uncertain design.</span> </h6>"
   ]
  },
  {
   "cell_type": "markdown",
   "id": "ce3e5a3a-1c39-40bf-9613-f0e0eb02637e",
   "metadata": {},
   "source": [
    "<h4> <span style=\"color:blue\">Indexes and Content Lists</span> </h4>"
   ]
  },
  {
   "cell_type": "markdown",
   "id": "04d00137-7cf5-4935-8c6b-73db71f8f390",
   "metadata": {
    "jp-MarkdownHeadingCollapsed": true,
    "tags": []
   },
   "source": [
    "<h6> <span style=\"color:red\">Be very sure you understand what you are indexing, and why you are indexing it.</span> </h6>"
   ]
  },
  {
   "cell_type": "markdown",
   "id": "16e591b2-8523-423d-bf9a-17bc05a80a8c",
   "metadata": {},
   "source": [
    "<h4> <span style=\"color:blue\">Making Indexes Work</span> </h4>"
   ]
  },
  {
   "cell_type": "markdown",
   "id": "bc416955-eed9-485e-9394-322d149120c7",
   "metadata": {
    "jp-MarkdownHeadingCollapsed": true,
    "tags": []
   },
   "source": [
    "<h6> <span style=\"color:red\">Rows ordered as index keys lead to a faster range scan.</span> </h6>"
   ]
  },
  {
   "cell_type": "markdown",
   "id": "8adbbd20-671b-4f1f-9fcd-bccd5ed55a94",
   "metadata": {
    "tags": []
   },
   "source": [
    "<h4> <span style=\"color:blue\">Indexes with Functions and Conversions</span> </h4>"
   ]
  },
  {
   "cell_type": "markdown",
   "id": "65336c33-294c-41c1-a8e2-7c99d8e8d798",
   "metadata": {
    "jp-MarkdownHeadingCollapsed": true,
    "tags": []
   },
   "source": [
    "<h6> <span style=\"color:red\">Use of functional indexes is often implicit recognition that your data analysis has not even resolved basic data item atomicity.</span> </h6>"
   ]
  },
  {
   "cell_type": "markdown",
   "id": "b68809a1-cce6-498d-95ee-88dc8969ed84",
   "metadata": {},
   "source": [
    "<h4> <span style=\"color:blue\">Indexes and Foreign Keys</span> </h4>"
   ]
  },
  {
   "cell_type": "markdown",
   "id": "01cc9644-da7a-4d62-adb2-628fb88344d9",
   "metadata": {
    "jp-MarkdownHeadingCollapsed": true,
    "tags": []
   },
   "source": [
    "<h6> <span style=\"color:red\">There must be a reason behind indexing; this is as true of foreign keys as of other columns.</span> </h6>"
   ]
  },
  {
   "cell_type": "markdown",
   "id": "988e8f3c-4970-4d6b-a8af-7867849c5e3b",
   "metadata": {},
   "source": [
    "<h4> <span style=\"color:blue\">Multiple Indexing of the Same Columns</span> </h4>"
   ]
  },
  {
   "cell_type": "markdown",
   "id": "592e3091-0575-4c7d-84df-86631f637835",
   "metadata": {
    "jp-MarkdownHeadingCollapsed": true,
    "tags": []
   },
   "source": [
    "<h6> <span style=\"color:red\">Indexing every foreign key may result in redundant indexing.</span> </h6>"
   ]
  },
  {
   "cell_type": "markdown",
   "id": "32044a77-6e65-405f-a455-3b4342cbdc92",
   "metadata": {},
   "source": [
    "<h4> <span style=\"color:blue\">System-Generated Keys</span> </h4>"
   ]
  },
  {
   "cell_type": "markdown",
   "id": "02893ee3-311c-4643-b914-2a1143c07cdf",
   "metadata": {
    "jp-MarkdownHeadingCollapsed": true,
    "tags": []
   },
   "source": [
    "<h6> <span style=\"color:red\">System-generated keys can provide benefit in the right circumstances, but beware of their indiscriminate use!</span> </h6>"
   ]
  },
  {
   "cell_type": "markdown",
   "id": "2c0e8cb1-b991-458f-b825-1f90dfde1790",
   "metadata": {},
   "source": [
    "<h4> <span style=\"color:blue\">Variability of Index Accesses</span> </h4>"
   ]
  },
  {
   "cell_type": "markdown",
   "id": "022266fd-c6f2-49df-a7b2-5aecbe0328e7",
   "metadata": {
    "tags": []
   },
   "source": [
    "<h6> <span style=\"color:red\">Indexing is not a panacea: effective deployment rests on your complete understanding of the data you are dealing with and making the appropriate judgements.</span> </h6>"
   ]
  }
 ],
 "metadata": {
  "kernelspec": {
   "display_name": "Python 3 (ipykernel)",
   "language": "python",
   "name": "python3"
  },
  "language_info": {
   "codemirror_mode": {
    "name": "ipython",
    "version": 3
   },
   "file_extension": ".py",
   "mimetype": "text/x-python",
   "name": "python",
   "nbconvert_exporter": "python",
   "pygments_lexer": "ipython3",
   "version": "3.10.9"
  }
 },
 "nbformat": 4,
 "nbformat_minor": 5
}
