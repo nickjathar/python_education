{
 "cells": [
  {
   "cell_type": "code",
   "execution_count": 1,
   "id": "f9cab0fb",
   "metadata": {},
   "outputs": [],
   "source": [
    "import numpy as np\n",
    "import pandas as pd\n",
    "from pandas import DataFrame, Series"
   ]
  },
  {
   "cell_type": "markdown",
   "id": "6bda0806",
   "metadata": {},
   "source": [
    "pd.set_option('display.notebook_repr_html', False)\n",
    "pd.set_option('display.max_columns', 10)\n",
    "pd.set_option('display.max_rows', 10)"
   ]
  },
  {
   "cell_type": "code",
   "execution_count": 8,
   "id": "017fc994",
   "metadata": {},
   "outputs": [],
   "source": [
    "%matplotlib inline\n",
    "import matplotlib as mpl\n",
    "import matplotlib.pyplot as plt\n",
    "mpl.style.use('ggplot')"
   ]
  },
  {
   "cell_type": "markdown",
   "id": "9db76b05",
   "metadata": {},
   "source": [
    "### The pandas <u>Series</u> object"
   ]
  },
  {
   "cell_type": "markdown",
   "id": "c6bc77e0",
   "metadata": {},
   "source": [
    "#### Series Instantiation"
   ]
  },
  {
   "cell_type": "code",
   "execution_count": 32,
   "id": "ba9964cc",
   "metadata": {},
   "outputs": [
    {
     "name": "stdout",
     "output_type": "stream",
     "text": [
      "[1 2 3 4] \n",
      "\n",
      "0    1\n",
      "1    2\n",
      "2    3\n",
      "3    4\n",
      "dtype: int32\n"
     ]
    }
   ],
   "source": [
    "# instantiate a Series using an Numpy array\n",
    "array1 = np.array([1, 2, 3, 4])\n",
    "print(array1, '\\n')\n",
    "\n",
    "series1 = Series(array1)\n",
    "print(series1)"
   ]
  },
  {
   "cell_type": "code",
   "execution_count": 33,
   "id": "fbcf8d26",
   "metadata": {},
   "outputs": [
    {
     "name": "stdout",
     "output_type": "stream",
     "text": [
      "[1, 2, 3, 4] \n",
      "\n",
      "0    1\n",
      "1    2\n",
      "2    3\n",
      "3    4\n",
      "dtype: int64\n"
     ]
    }
   ],
   "source": [
    "# instantiate a Series using an Python list\n",
    "list2 = [1, 2, 3, 4]\n",
    "print(list2, '\\n')\n",
    "\n",
    "series2 = Series(list2)\n",
    "print(series2)"
   ]
  },
  {
   "cell_type": "markdown",
   "id": "a4b7dc46",
   "metadata": {},
   "source": [
    "<b>When you instantiate a Series from a Numpy array of integers, pandas assigns a datatype of int32 for the Series data.</b> <br>\n",
    "<b>Whereas, instantiating a Series from a Python list of integers, pandas assigns int64 for the Series data.</b>"
   ]
  },
  {
   "cell_type": "code",
   "execution_count": 60,
   "id": "e7ad7f13",
   "metadata": {
    "scrolled": true
   },
   "outputs": [
    {
     "name": "stdout",
     "output_type": "stream",
     "text": [
      "[1, 2, 3, 4] \n",
      "\n",
      "a    1\n",
      "b    2\n",
      "c    3\n",
      "d    4\n",
      "dtype: int64\n"
     ]
    }
   ],
   "source": [
    "# instantiate a Series using an Python list and explicitly assign non-integer labels to index\n",
    "list3 = [1, 2, 3, 4]\n",
    "print(list3, '\\n')\n",
    "\n",
    "series3 = Series(list3, index=['a', 'b', 'c', 'd'])\n",
    "print(series3)"
   ]
  },
  {
   "cell_type": "code",
   "execution_count": 61,
   "id": "6730dfe2",
   "metadata": {
    "scrolled": true
   },
   "outputs": [
    {
     "name": "stdout",
     "output_type": "stream",
     "text": [
      "[1, 2, 3, 4] \n",
      "\n",
      "0    1\n",
      "1    2\n",
      "2    3\n",
      "3    4\n",
      "dtype: int64\n"
     ]
    }
   ],
   "source": [
    "# instantiate a Series using an Python list and explicitly assign non-integer labels to index\n",
    "list4 = [1, 2, 3, 4]\n",
    "print(list4, '\\n')\n",
    "\n",
    "series4 = Series(list4, index=[0, 1, 2, 3])\n",
    "print(series4)"
   ]
  },
  {
   "cell_type": "markdown",
   "id": "2283354c",
   "metadata": {},
   "source": [
    "#### Selecting data from a Series"
   ]
  },
  {
   "cell_type": "code",
   "execution_count": 53,
   "id": "2d6cce95",
   "metadata": {},
   "outputs": [
    {
     "name": "stdout",
     "output_type": "stream",
     "text": [
      "1    2\n",
      "3    4\n",
      "dtype: int32 \n",
      "\n",
      "4\n"
     ]
    }
   ],
   "source": [
    "# selecting data from a Series when the index is integer labeled (does NOT use zero-based positioning)\n",
    "print(series1[[1, 3]], '\\n')           # returns a Series\n",
    "print(series1[3])                      # returns an integer"
   ]
  },
  {
   "cell_type": "code",
   "execution_count": 63,
   "id": "9a51a7fe",
   "metadata": {},
   "outputs": [
    {
     "name": "stdout",
     "output_type": "stream",
     "text": [
      "a    1\n",
      "c    3\n",
      "dtype: int64 \n",
      "\n",
      "1 \n",
      "\n",
      "a    1\n",
      "c    3\n",
      "dtype: int64 \n",
      "\n",
      "0    1\n",
      "1    2\n",
      "2    3\n",
      "3    4\n",
      "dtype: int64 \n",
      "\n",
      "1    2\n",
      "3    4\n",
      "dtype: int64\n"
     ]
    }
   ],
   "source": [
    "# selecting data from a Series when the index is non-integer labeled (uses label-based positioning)\n",
    "print(series3[['a', 'c']], '\\n')\n",
    "print(series3['a'], '\\n')\n",
    "print(series3[[0, 2]], '\\n')            # note that selection using integers for a non-integer labeled Series implements\n",
    "                                        # zero-based positioning\n",
    "    \n",
    "print(series4, '\\n')\n",
    "print(series4[[1, 3]])"
   ]
  },
  {
   "cell_type": "markdown",
   "id": "e9b9bc3c",
   "metadata": {},
   "source": [
    "#### The Series index"
   ]
  },
  {
   "cell_type": "code",
   "execution_count": 66,
   "id": "6ce27b7c",
   "metadata": {
    "scrolled": true
   },
   "outputs": [
    {
     "name": "stdout",
     "output_type": "stream",
     "text": [
      "RangeIndex(start=0, stop=4, step=1) \n",
      "\n",
      "RangeIndex(start=0, stop=4, step=1) \n",
      "\n",
      "Index(['a', 'b', 'c', 'd'], dtype='object') \n",
      "\n",
      "Int64Index([0, 1, 2, 3], dtype='int64') \n",
      "\n"
     ]
    },
    {
     "data": {
      "text/plain": [
       "Index(['a', 'b', 'c', 'd'], dtype='object')"
      ]
     },
     "execution_count": 66,
     "metadata": {},
     "output_type": "execute_result"
    }
   ],
   "source": [
    "print(series1.index, '\\n')         # when Series are instantiated with integers, the index is a RangeIndex object\n",
    "print(series2.index, '\\n')\n",
    "print(series3.index, '\\n')\n",
    "print(series4.index, '\\n')         # when Series is instantiated with integer index assigned explicitly the index is\n",
    "                                   # an Int64Index object"
   ]
  },
  {
   "cell_type": "markdown",
   "id": "03a6da67",
   "metadata": {},
   "source": [
    "#### A time-series Series"
   ]
  },
  {
   "cell_type": "code",
   "execution_count": 82,
   "id": "54bcac00",
   "metadata": {},
   "outputs": [
    {
     "name": "stdout",
     "output_type": "stream",
     "text": [
      "DatetimeIndex(['2023-06-01', '2023-06-02', '2023-06-03', '2023-06-04',\n",
      "               '2023-06-05', '2023-06-06'],\n",
      "              dtype='datetime64[ns]', freq='D') \n",
      "\n",
      "DatetimeIndex(['2023-06-01', '2023-06-03'], dtype='datetime64[ns]', freq=None) \n",
      "\n",
      "2023-06-04 00:00:00 \n",
      "\n"
     ]
    }
   ],
   "source": [
    "dates_ts1 = pd.date_range('2023-06-01', '2023-06-06')       # this is a special index in pandas called a DatetimeIndex\n",
    "                                                            # that is optimized to index data with dates and times\n",
    "print(dates_ts1, '\\n')\n",
    "print(dates_ts1[[0, 2]], '\\n')\n",
    "print(dates_ts1[3], '\\n')"
   ]
  },
  {
   "cell_type": "code",
   "execution_count": 92,
   "id": "ecb891d0",
   "metadata": {
    "scrolled": true
   },
   "outputs": [
    {
     "name": "stdout",
     "output_type": "stream",
     "text": [
      "2023-06-01    80\n",
      "2023-06-02    82\n",
      "2023-06-03    85\n",
      "2023-06-04    90\n",
      "2023-06-05    83\n",
      "2023-06-06    87\n",
      "Freq: D, dtype: int64 \n",
      "\n",
      "2023-06-02    75\n",
      "2023-06-03    69\n",
      "2023-06-04    83\n",
      "2023-06-05    79\n",
      "Freq: D, dtype: int64\n"
     ]
    }
   ],
   "source": [
    "dates_ts2 = pd.date_range('2023-06-02', '2023-06-05')\n",
    "\n",
    "series_prices1 = Series([80, 82, 85, 90, 83, 87], index=dates_ts1)\n",
    "series_prices2 = Series([75, 69, 83, 79], index=dates_ts2)\n",
    "series_prices3 = Series([70, 75, 69, 83, 79, 77], index=dates_ts1)\n",
    "\n",
    "print(series_prices1, '\\n')\n",
    "print(series_prices2)"
   ]
  },
  {
   "cell_type": "markdown",
   "id": "ff40c335",
   "metadata": {},
   "source": [
    "#### Basic statistics on Series data"
   ]
  },
  {
   "cell_type": "code",
   "execution_count": 90,
   "id": "5625a2c8",
   "metadata": {},
   "outputs": [
    {
     "name": "stdout",
     "output_type": "stream",
     "text": [
      "84.5 \n",
      "\n",
      "76.5 \n",
      "\n"
     ]
    }
   ],
   "source": [
    "series_prices1_mean = series_prices1.mean()\n",
    "series_prices2_mean = series_prices2.mean()\n",
    "\n",
    "print(series_prices1_mean, '\\n')\n",
    "print(series_prices2_mean, '\\n')"
   ]
  },
  {
   "cell_type": "code",
   "execution_count": 91,
   "id": "6f875dc9",
   "metadata": {},
   "outputs": [
    {
     "name": "stdout",
     "output_type": "stream",
     "text": [
      "2023-06-01     NaN\n",
      "2023-06-02     7.0\n",
      "2023-06-03    16.0\n",
      "2023-06-04     7.0\n",
      "2023-06-05     4.0\n",
      "2023-06-06     NaN\n",
      "Freq: D, dtype: float64\n"
     ]
    }
   ],
   "source": [
    "series_prices_diff = series_prices1 - series_prices2        # understand by the first and last row return NaN\n",
    "\n",
    "print(series_prices_diff)"
   ]
  },
  {
   "cell_type": "markdown",
   "id": "e21ed46a",
   "metadata": {},
   "source": [
    "### The pandas <u>DataFrame</u> object"
   ]
  },
  {
   "cell_type": "markdown",
   "id": "1cb9385f",
   "metadata": {},
   "source": [
    "#### A pandas DataFrame is a collection of one or more pandas Series aligned by a common index."
   ]
  },
  {
   "cell_type": "markdown",
   "id": "676e36f1",
   "metadata": {},
   "source": [
    "#### DataFrame Instantiation"
   ]
  },
  {
   "cell_type": "code",
   "execution_count": 97,
   "id": "3ae002a5",
   "metadata": {
    "scrolled": true
   },
   "outputs": [
    {
     "name": "stdout",
     "output_type": "stream",
     "text": [
      "            IBM  MSFT\n",
      "2023-06-01   80    70\n",
      "2023-06-02   82    75\n",
      "2023-06-03   85    69\n",
      "2023-06-04   90    83\n",
      "2023-06-05   83    79\n",
      "2023-06-06   87    77 \n",
      "\n",
      "            IBM  TKWY_NA\n",
      "2023-06-01   80      NaN\n",
      "2023-06-02   82     75.0\n",
      "2023-06-03   85     69.0\n",
      "2023-06-04   90     83.0\n",
      "2023-06-05   83     79.0\n",
      "2023-06-06   87      NaN\n"
     ]
    }
   ],
   "source": [
    "df1 = DataFrame({'IBM':series_prices1, 'MSFT':series_prices3})\n",
    "df2 = DataFrame({'IBM':series_prices1, 'TKWY_NA':series_prices2})\n",
    "\n",
    "print(df1, '\\n')\n",
    "print(df2)"
   ]
  },
  {
   "cell_type": "markdown",
   "id": "2bfb8fba",
   "metadata": {},
   "source": [
    "#### Selecting data from a DataFrame"
   ]
  },
  {
   "cell_type": "code",
   "execution_count": 105,
   "id": "9a8a25b6",
   "metadata": {},
   "outputs": [
    {
     "name": "stdout",
     "output_type": "stream",
     "text": [
      "2023-06-01    80\n",
      "2023-06-02    82\n",
      "2023-06-03    85\n",
      "2023-06-04    90\n",
      "2023-06-05    83\n",
      "2023-06-06    87\n",
      "Freq: D, Name: IBM, dtype: int64 \n",
      "\n",
      "2023-06-01    80\n",
      "2023-06-02    82\n",
      "2023-06-03    85\n",
      "2023-06-04    90\n",
      "2023-06-05    83\n",
      "2023-06-06    87\n",
      "Freq: D, Name: IBM, dtype: int64 \n",
      "\n",
      "            MSFT  IBM\n",
      "2023-06-01    70   80\n",
      "2023-06-02    75   82\n",
      "2023-06-03    69   85\n",
      "2023-06-04    83   90\n",
      "2023-06-05    79   83\n",
      "2023-06-06    77   87 \n",
      "\n"
     ]
    }
   ],
   "source": [
    "print(df1['IBM'], '\\n')                          # this returns a pandas Series\n",
    "print(df1.IBM, '\\n')\n",
    "print(df1[['MSFT', 'IBM']], '\\n')                # this retuns a pandas DataFrame"
   ]
  },
  {
   "cell_type": "code",
   "execution_count": 104,
   "id": "1093722a",
   "metadata": {},
   "outputs": [
    {
     "data": {
      "text/plain": [
       "2023-06-02    82\n",
       "2023-06-05    83\n",
       "Freq: 3D, Name: IBM, dtype: int64"
      ]
     },
     "execution_count": 104,
     "metadata": {},
     "output_type": "execute_result"
    }
   ],
   "source": [
    "df1['IBM'][[1, 4]]                 # here you are selecting from a Series extracted from the general DataFrame"
   ]
  },
  {
   "cell_type": "code",
   "execution_count": 106,
   "id": "ff001717",
   "metadata": {},
   "outputs": [
    {
     "data": {
      "text/plain": [
       "2023-06-01    10\n",
       "2023-06-02     7\n",
       "2023-06-03    16\n",
       "2023-06-04     7\n",
       "2023-06-05     4\n",
       "2023-06-06    10\n",
       "Freq: D, dtype: int64"
      ]
     },
     "execution_count": 106,
     "metadata": {},
     "output_type": "execute_result"
    }
   ],
   "source": [
    "df1.IBM - df1.MSFT                  # this is identical to math using two separate Series"
   ]
  },
  {
   "cell_type": "code",
   "execution_count": 108,
   "id": "70609e2d",
   "metadata": {},
   "outputs": [
    {
     "name": "stdout",
     "output_type": "stream",
     "text": [
      "            IBM  MSFT  Difference\n",
      "2023-06-01   80    70          10\n",
      "2023-06-02   82    75           7\n",
      "2023-06-03   85    69          16\n",
      "2023-06-04   90    83           7\n",
      "2023-06-05   83    79           4\n",
      "2023-06-06   87    77          10\n"
     ]
    }
   ],
   "source": [
    "df1['Difference'] = df1.IBM - df1.MSFT\n",
    "\n",
    "print(df1)"
   ]
  },
  {
   "cell_type": "code",
   "execution_count": 109,
   "id": "24158ec0",
   "metadata": {},
   "outputs": [
    {
     "data": {
      "text/plain": [
       "DatetimeIndex(['2023-06-01', '2023-06-02', '2023-06-03', '2023-06-04',\n",
       "               '2023-06-05', '2023-06-06'],\n",
       "              dtype='datetime64[ns]', freq='D')"
      ]
     },
     "execution_count": 109,
     "metadata": {},
     "output_type": "execute_result"
    }
   ],
   "source": [
    "df1.index"
   ]
  },
  {
   "cell_type": "code",
   "execution_count": 111,
   "id": "44a16c2f",
   "metadata": {},
   "outputs": [
    {
     "data": {
      "text/plain": [
       "Index(['IBM', 'MSFT', 'Difference'], dtype='object')"
      ]
     },
     "execution_count": 111,
     "metadata": {},
     "output_type": "execute_result"
    }
   ],
   "source": [
    "df1.columns"
   ]
  },
  {
   "cell_type": "code",
   "execution_count": null,
   "id": "c94e9be8",
   "metadata": {},
   "outputs": [],
   "source": []
  }
 ],
 "metadata": {
  "kernelspec": {
   "display_name": "Python 3 (ipykernel)",
   "language": "python",
   "name": "python3"
  },
  "language_info": {
   "codemirror_mode": {
    "name": "ipython",
    "version": 3
   },
   "file_extension": ".py",
   "mimetype": "text/x-python",
   "name": "python",
   "nbconvert_exporter": "python",
   "pygments_lexer": "ipython3",
   "version": "3.10.11"
  }
 },
 "nbformat": 4,
 "nbformat_minor": 5
}
