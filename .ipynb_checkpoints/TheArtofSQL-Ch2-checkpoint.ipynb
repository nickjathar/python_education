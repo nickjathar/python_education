{
 "cells": [
  {
   "cell_type": "markdown",
   "id": "dfcf5355-6c62-40a7-8879-3a168529ddfe",
   "metadata": {},
   "source": [
    "# Chapter 2   Waging War - Accessing Databases Efficiently"
   ]
  },
  {
   "cell_type": "markdown",
   "id": "36412a14-9a64-4056-a1bb-776cf6480a6b",
   "metadata": {},
   "source": [
    "## Query Identification"
   ]
  },
  {
   "cell_type": "markdown",
   "id": "6bb6865b-3a7d-4541-9023-80d51b9406a1",
   "metadata": {},
   "source": [
    "#### Identifiable statements make the identification of performance issues easier."
   ]
  },
  {
   "cell_type": "markdown",
   "id": "b955ffb9-e947-4861-a0ac-4fd2337812a7",
   "metadata": {},
   "source": [
    "## Stable Database Connections"
   ]
  },
  {
   "cell_type": "markdown",
   "id": "834ef0ac-e7d1-4f3d-8a27-99fbda44a74c",
   "metadata": {
    "jp-MarkdownHeadingCollapsed": true,
    "tags": []
   },
   "source": [
    "#### A new DB connection can be created quickly and easily. But, this ease can disguise the high cost of making repeated connections. Therefore, you must manage the use of DB connections with great care.\n",
    "#### Mininmizing the number of round-trips between a program and the DB kernel, using arrays and populating them with incoming data, can lead to spectacular improvemnents in performance.\n",
    "#### Establishing a DB connection is fundamentally a \"heavy\" or high-resource operation. Whatever the number of system operations (process spawning or thread creation and start of executions) your DBMS will need to create a new environment for each session to keep track of what it does.\n",
    "#### This is the reason techniques that allow the upkeep of permanent connetions to the DB, such as connection pooling, are so important to performance.\n",
    "#### Also, a round-trip between your program (and even a stored procedure) and the DB has its costs (context switching between your program and the DBMS kernel take their toll).\n",
    "#### Therefore, if your DBMS allows you to communicate through an array interface of some kind, you should not hestitate to use it."
   ]
  },
  {
   "cell_type": "markdown",
   "id": "a1351095-a246-4f80-85a4-0bdf177587bd",
   "metadata": {},
   "source": [
    "## Strategy Before Tactics"
   ]
  },
  {
   "cell_type": "markdown",
   "id": "50370971-6e3d-42ee-9620-6be6caa80d31",
   "metadata": {
    "jp-MarkdownHeadingCollapsed": true,
    "tags": []
   },
   "source": [
    "#### Strategy defines the tactics, not the other way round. A skillful developer doesn't think of a process in terms of little steps, but in terms of the final result.\n",
    "#### Oftentimes, extraordinary skills are not required to achieve tremendous performance improvements, but merely an ability to think outside the box.\n",
    "#### The key questions to ask are \"What do we have when we enter a procedure?\" and \"Which result do we want when we return from it?\"\n",
    "#### <span style=\"color:red\">Stand back from your problem to get the wider picture before plunging into the details of the solution.</span>"
   ]
  },
  {
   "cell_type": "markdown",
   "id": "ea24478b-4cfc-47c2-8898-2e466033227b",
   "metadata": {},
   "source": [
    "## Problem Definition Before Solution"
   ]
  },
  {
   "cell_type": "markdown",
   "id": "a80961b8-5d37-43fe-ad45-b1628eb49bb3",
   "metadata": {},
   "source": [
    "## Stabke Database Schema"
   ]
  },
  {
   "cell_type": "markdown",
   "id": "7f52c296-7ced-4e03-af0d-de417ee3ca0e",
   "metadata": {},
   "source": [
    "## Operations Against Actual Data"
   ]
  },
  {
   "cell_type": "markdown",
   "id": "d7e49c88-fc52-404a-b2e5-555c274fd8c7",
   "metadata": {},
   "source": [
    "## Set Processing in SQL"
   ]
  },
  {
   "cell_type": "markdown",
   "id": "426a3fe3-55bb-4709-aabd-5b8fb637c9c1",
   "metadata": {},
   "source": [
    "## Action-Packed SQL Statements"
   ]
  },
  {
   "cell_type": "markdown",
   "id": "23772796-2da5-4b2c-a9de-9c835babc3c9",
   "metadata": {},
   "source": [
    "## Profitable Data Accesses"
   ]
  },
  {
   "cell_type": "markdown",
   "id": "b177ca5d-ad86-4eba-95d2-d2897d4ff30a",
   "metadata": {},
   "source": [
    "## Closeness to the DBMS Kernel"
   ]
  },
  {
   "cell_type": "markdown",
   "id": "932e6489-97dc-42a9-928d-dfa84877ad8c",
   "metadata": {},
   "source": [
    "## Doing Only What is Required"
   ]
  },
  {
   "cell_type": "markdown",
   "id": "af59b751-694a-4665-8c5b-23c8271b12ea",
   "metadata": {},
   "source": [
    "## SQL Statements Mirror Business Logic"
   ]
  },
  {
   "cell_type": "markdown",
   "id": "b4621547-fb31-4b3f-af79-23e06b066e8c",
   "metadata": {},
   "source": [
    "## Program Logic into Queries"
   ]
  },
  {
   "cell_type": "markdown",
   "id": "27f7afed-075f-4163-b3a3-2945588f19e4",
   "metadata": {},
   "source": [
    "## Multiple Updates at Once"
   ]
  },
  {
   "cell_type": "markdown",
   "id": "62ce90c9-fbdd-4384-b703-fdf3e953c8a7",
   "metadata": {},
   "source": [
    "## Careful Use of User-Written Functions"
   ]
  },
  {
   "cell_type": "markdown",
   "id": "df33f244-32d2-46a8-b272-72c9ffadedc7",
   "metadata": {},
   "source": [
    "## Succinct SQL"
   ]
  },
  {
   "cell_type": "markdown",
   "id": "e8ac7115-0c12-4ae0-9b0a-b793a147e88d",
   "metadata": {},
   "source": [
    "## Offensive Coding with SQL"
   ]
  },
  {
   "cell_type": "markdown",
   "id": "956869f8-826f-4f6b-8aee-1b4b260b9e5e",
   "metadata": {},
   "source": [
    "## Discerning Use of Exceptions"
   ]
  }
 ],
 "metadata": {
  "kernelspec": {
   "display_name": "Python 3 (ipykernel)",
   "language": "python",
   "name": "python3"
  },
  "language_info": {
   "codemirror_mode": {
    "name": "ipython",
    "version": 3
   },
   "file_extension": ".py",
   "mimetype": "text/x-python",
   "name": "python",
   "nbconvert_exporter": "python",
   "pygments_lexer": "ipython3",
   "version": "3.10.9"
  }
 },
 "nbformat": 4,
 "nbformat_minor": 5
}
