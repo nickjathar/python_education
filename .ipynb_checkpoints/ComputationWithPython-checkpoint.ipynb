{
 "cells": [
  {
   "cell_type": "code",
   "execution_count": 35,
   "id": "bc6a4f02-6b6d-4da1-8365-4a7eba864891",
   "metadata": {
    "tags": []
   },
   "outputs": [
    {
     "name": "stdin",
     "output_type": "stream",
     "text": [
      "Enter an non-zero integer:  1331\n"
     ]
    },
    {
     "name": "stdout",
     "output_type": "stream",
     "text": [
      "The cube root of 1331 is 11.\n"
     ]
    }
   ],
   "source": [
    "x = 0\n",
    "while (x == 0):\n",
    "    x = int(input('Enter an non-zero integer: '))\n",
    "\n",
    "y = 0\n",
    "\n",
    "while (abs(y**3) < abs(x)):\n",
    "    if x > 0:\n",
    "        y += 1\n",
    "    else:\n",
    "        y -= 1\n",
    "    \n",
    "    if (y**3 == x):\n",
    "        print('The cube root of', str(x), 'is', str(y) + '.')\n",
    "    elif (abs(y**3) > abs(x)):\n",
    "        print(str(x), 'is not a perfect cube. The nearest cube root is', str(y-1), 'the cube of which is', str((y-1)**3))"
   ]
  }
 ],
 "metadata": {
  "kernelspec": {
   "display_name": "Python 3 (ipykernel)",
   "language": "python",
   "name": "python3"
  },
  "language_info": {
   "codemirror_mode": {
    "name": "ipython",
    "version": 3
   },
   "file_extension": ".py",
   "mimetype": "text/x-python",
   "name": "python",
   "nbconvert_exporter": "python",
   "pygments_lexer": "ipython3",
   "version": "3.10.11"
  }
 },
 "nbformat": 4,
 "nbformat_minor": 5
}
