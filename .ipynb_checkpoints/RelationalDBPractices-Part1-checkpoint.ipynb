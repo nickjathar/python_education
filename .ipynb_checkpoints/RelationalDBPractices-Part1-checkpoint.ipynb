{
 "cells": [
  {
   "cell_type": "markdown",
   "id": "099240dd-02d2-4198-a4c0-c38a5fbb256b",
   "metadata": {
    "jp-MarkdownHeadingCollapsed": true,
    "tags": []
   },
   "source": [
    "### <span style=\"color:darkred\">**Chapter 1 - Doing It With Tables (1-17)**</span>\n",
    "---"
   ]
  },
  {
   "cell_type": "markdown",
   "id": "9e75c2e7-f87f-493c-9f7e-d04928de09ef",
   "metadata": {
    "tags": []
   },
   "source": [
    "<span style=\"color:blue\">**Introduction**</span>"
   ]
  },
  {
   "cell_type": "markdown",
   "id": "16fb21dc-b902-4b94-873b-78f7104b2db5",
   "metadata": {},
   "source": [
    "We are going to learn about the concepts, principles, techniques, and practices of database design (**DBD**), so that we can put to more effective use the \"tools of the trade\" - which include database management systems (**DBMS**), SQL, and stored procedures.\n",
    "\n",
    "- DBMSs are essential tools for building most applications that store and retrieve data and for managing all the details of where to put the bits and bytes and how to get them out again.\n",
    "\n",
    "- We are also going to dive into enough detail such that senior technology managers who want to understand the subject more deeply can then make better decisions about the architecture of complex systems of which relations DBs are a part.\n",
    "\n",
    "- Today, databases (**DB**) underlie almost all significant business and professional computer applications. Apart from a few non-relational DBs, developed for high-volume transactions processing, most of the new DBs created since the mid-1980s have been relational DBs.\n",
    "\n",
    "- Although you may read about DB systems based on \"new\" models for \"big data\", these complement, rather than replace, relational DBMSs.\n",
    "\n",
    "> <span style=\"color:brown\">*What DB models are optimized for AI?*</span>\n",
    "\n",
    "- Prior to relational DBs, there were two data models:\n",
    "  - Hierarchical model\n",
    "  - Network model"
   ]
  },
  {
   "cell_type": "markdown",
   "id": "9f10c6c8-b962-47e1-8cef-adcc37726196",
   "metadata": {
    "tags": []
   },
   "source": [
    "#### <span style=\"color:blue\">**The Early Days of DBMSs**</span>"
   ]
  },
  {
   "cell_type": "markdown",
   "id": "aca14846-8951-45d2-a4ba-7977db9f7ee0",
   "metadata": {},
   "source": [
    "DBMSs have existed since the 1960s. In those early days, DBs were based on hierachical and network models.\n",
    "\n",
    "- Hierarchical models were path dependent in terms of the means for getting from a starting point to an ending point in a data chain and thus this path dependency created ambiguity in the logic needed to extract information from the model.\n",
    "\n",
    "- A lot of thought had to go into what queries users might make of the DB. If the designer got the model wrong, the user would have great difficulty in getting to the required data."
   ]
  },
  {
   "cell_type": "markdown",
   "id": "726f4305-9a2b-40ce-9742-bb5c5044f673",
   "metadata": {
    "tags": []
   },
   "source": [
    "#### <span style=\"color:blue\">**The Relational Model**</span>"
   ]
  },
  {
   "cell_type": "markdown",
   "id": "df3b3816-5fa1-4e28-a75b-7da5906613e4",
   "metadata": {},
   "source": [
    "Relational DBMSs represent the third type of model and the one that is almost universally accepted today.\n",
    "\n",
    "The relational DB was introduced by **Edgar Frank Codd** in 1970 in high paper A Relational Model of Data for Large Shared Data Banks, *Communications of the ACCM, Volume 13, Number 6, June 1970* pp. 377-387.\n",
    "\n",
    "- In Codd's original paper what we call tables, columns, and rows today were referred to as **relation**, **degree**, and **tuple** respectively."
   ]
  },
  {
   "cell_type": "markdown",
   "id": "16797364-bfaa-4565-a115-5fc017bc8ec0",
   "metadata": {
    "tags": []
   },
   "source": [
    "#### <span style=\"color:blue\">**Relational DBMS Products Emerge**</span>"
   ]
  },
  {
   "cell_type": "markdown",
   "id": "254a6170-ab1a-4bc9-9cba-d1dda8d0f42c",
   "metadata": {},
   "source": [
    "It took about 12 years after Codd's original paper for reliable DBMS software to be written, debugged, and brought to market. Two of the first DBMSs to be adopted by business in the early 1980s were **Ingres** and **Oracle**.\n",
    "\n",
    "For over a decade after that, the old \"network\" DBMSs continued to be widely used for existing busienss applications because relational DBMSs consumerd a lot of computing power.\n",
    "\n",
    "To this day, only ***relational*** from Codd's original terminology continues to be used when discussing DBMSs where relational means \"based on relations\" or more simply \"based on tables\".\n",
    "\n",
    "A \"query\" tells the DB to make associations between the columns of two or more tables at the time the query is executed.\n",
    "\n",
    "- There is a subtle but important point here: connections between tables exist in the mind of the DB designer and DB users; but, for the DBMS, these connections do not exist outside the context of the quereies."
   ]
  },
  {
   "cell_type": "markdown",
   "id": "6fc80e1f-b308-4afc-8135-136a47f1a0a4",
   "metadata": {
    "tags": []
   },
   "source": [
    "#### <span style=\"color:blue\">**Query Languages**</span>"
   ]
  },
  {
   "cell_type": "markdown",
   "id": "f0062231-4d0d-4ed9-8e0d-d10a1c196677",
   "metadata": {},
   "source": [
    "After defining the relational DB, Codd next defined a query language that users would use to interact with relations DBs.\n",
    "\n",
    "- However, because the data in a relational DB was to be stored in a radically different way, the relational model required a completely new query language.\n",
    "\n",
    "A query in its function to retrieve data operates in one of two ways:\n",
    "\n",
    "- **Key-based** queries that retrieve rows based on filters against key columns.\n",
    "- **Non-key-based** queries that retrieve rows based on filters against non-key columns.\n",
    "\n",
    "Because retrieval of data according to values in non-key columns cannot take advantage of indexes, non-key-based queries place a heavier processing load on the DBMS relative to key-based queries and take longer to execute.\n",
    "\n",
    "- Relational DBMSs internally generate sorting indexes on key columns and therefore DB users are not aware of their existence.\n",
    "- If users are found to be performing a lot of non-key-based queries, DB admins can decide to instruct the DBMS to generate a secondary set pf sorting indices for those non-key columns.\n",
    "\n",
    "In the early days query languages developed in two modes:\n",
    "\n",
    "- Those using **relational algebra** that implemented procedural methods to extract information.\n",
    "- Those using **relational calculus** that implemented declarative method to extract information. This mode became preferred because putting the way queries were executed entirely in the hands of the user turned out to be a poor choice.\n",
    "\n",
    "The term **query** or **SQL query** is used when focusing on retrieval of existing data whereas **command** or **SQL command** is used in reference to data insertion, deletion, and updates."
   ]
  },
  {
   "cell_type": "markdown",
   "id": "3e5955af-b8ab-4e98-a6b7-8124139ae1e6",
   "metadata": {},
   "source": [
    "**Some History**\n",
    "***Ingres*** an early relational DBMS product used relational calculus for **QUEL** that was used in the Britton-Lee IDM 500.\n",
    "***IBM*** and ***Oracle*** used relational algebra in a **older version of SQL** (not to be confused with modern day SQL) and **SEQUEL**.\n",
    "\n",
    "Both Oracle and IBM pivoted from algebra to calculus when universities started to favor Ingres' calculus based model.\n",
    "\n",
    "IBM created the definitive version of the relational calculus model that they call **SQL/DS**. \n",
    "\n",
    "Today, everyone uses a modern version of the SQL/DS query language that today is shortened to **SQL**."
   ]
  },
  {
   "cell_type": "markdown",
   "id": "94dad37b-6b55-4b48-9ca8-9d2509de5e81",
   "metadata": {
    "tags": []
   },
   "source": [
    "#### <span style=\"color:blue\">**DBMSs Today**</span>"
   ]
  },
  {
   "cell_type": "markdown",
   "id": "c00b6dea-b073-4030-a92a-cc0f16ef666a",
   "metadata": {},
   "source": [
    "Today Oracle and IBM continue to play significant roles in the DBMS market. Ingres still exists as an open-source product (now owned by Actian Corporation).\n",
    "\n",
    "The head of the Ingres project, **Robert Epstein** at **U.C. Berkeley** later founded Sybase that was subsequently taken over by **Microsoft** in 1993 and became **Microsoft SQL Server**.\n",
    "\n",
    "Oracle is the leader of the big three, followed by Microsoft, and then IBM. Although IBM ranks third, its **DB2** DBMS is often chosen by banks and other organizations that handle large quantities of data and require highly reliable platforms for their data processing."
   ]
  },
  {
   "cell_type": "markdown",
   "id": "c6a35960-22e4-4589-a818-9566180b2c9c",
   "metadata": {
    "tags": []
   },
   "source": [
    "#### <span style=\"color:blue\">**Schemas, Subschemas, and View**</span>"
   ]
  },
  {
   "cell_type": "markdown",
   "id": "e817d793-31fc-4470-9421-14fd5d3af267",
   "metadata": {},
   "source": [
    "**Database design** is used to define the complete set of tables used to build a particular DB for a particular purpose. The term **schema** a fancier way to say database design. Unfortunately, the word \"schema\" is used in many other contexts and has become a technology buzzword that has lost its original precise meaning.\n",
    "\n",
    "**Subschema** means a view of a database that is presented to a particular group of users, in which this group only sees a subset of the data contained in the DB. When these less-privileged users sign on to a DB they are assigned to a subschema rather than the full DB. The subset restrictions placed on subschemas can involve tables and at a more granular level columns within tables. The concept of a **database view**, which is a sensible alternative term for subschema, should not be confused with the term \"view\" defined below.\n",
    "\n",
    "A **view** is understood to mean a virtual table defined in SQL by means of a CREATE VIEW command. Such a virtual table does not actually exist in the DB, but queries directed towards a view will retrieve information as if a table did exist. To avoid confusion with database view or subschema, **table view** can be used in reference this view."
   ]
  },
  {
   "cell_type": "markdown",
   "id": "bf5f91c2-ab86-42ec-9ab7-f07f70d4c284",
   "metadata": {
    "tags": []
   },
   "source": [
    "#### <span style=\"color:blue\">**Normalization**</span>"
   ]
  },
  {
   "cell_type": "markdown",
   "id": "11a14ca6-887f-4e14-b64a-2f30c9860f02",
   "metadata": {},
   "source": [
    "**Normalization** of a DB means *choosing a set of tables, and columns for those tables, that is such that no modification anomalizes can ever occur*.\n",
    "\n",
    "**Modification anomalies** come in three types **deletion anomallies**, **insertion anomalies**, and **update anomalies**.\n",
    "\n",
    "An **insertion anomaly** occurs when it is impossible to place a new piece of information into a DB because another piece of data would have to be inserted first.\n",
    "\n",
    "A **deletion anomaly** occures when the deletion of a no-longer-needed-or-valid piece of data cause a still-needed piece of data to be lost from the DB."
   ]
  },
  {
   "cell_type": "markdown",
   "id": "5c5ff212-cf0b-42a5-bcd4-ffb55746fa1e",
   "metadata": {},
   "source": [
    "##### <span style=\"color:red\">**Exercise**</span>\n",
    "\n",
    "In the non-normalized table below, illustrate by example how insertion and deletion anomalies can arise given the table design.\n",
    "\n",
    "![alternative text](modification_anomalies_example_table.jpg)"
   ]
  },
  {
   "cell_type": "markdown",
   "id": "9923e311-fd6e-467e-a86c-ce0f69b1f516",
   "metadata": {},
   "source": [
    "To **normalize** the table above, we have to break the table down into several different tables (***underlined field(s) or \"column(s)\" represents the key for the table***).\n",
    "1. **courses** --> <u>course_number</u>   |   course_title   |   credits\n",
    "2. **enrollments** --> <u>student_id</u>   |   <u>course_number</u>   |   term   |   year\n",
    "3. **course_teachers** --> <u>teacher_id</u>   |   <u>course_number</u>\n",
    "\n",
    "Tables 4 and 5 provide attribute detail that for students and teachers that is not stored in enrollements_notnorm directly.\n",
    "\n",
    "4. **students** --> <u>student_id</u>   |   first_name   |   last_name   |   sex   |   date_of_birth\n",
    "5. **teachers** --> <u>teacher_id</u>   |   first_name   |   last_name   |   sex   |   date_of_birth   |   date_of_hire\n",
    "\n",
    "In the **non-normalized** schema, there would be three tables only: enrollments_notnorm, students, and teachers. A normalized schema have all five tables above.\n",
    "\n",
    "For each table in a DB and the tables associated with it via **shared keys**, we would consider:\n",
    "- what happens when we try to add new information into the database and\n",
    "- what information might be unintentionally lost when we delete things from the DB\n",
    "\n",
    "If any potential anomalizes were encountered, we would resolve these by splitting certain tables into two or more tables.\n",
    "\n",
    "Normalization is like learning to drive a car: you start by thinking of each separate step, but eventually it ceases to be a step-by-step, rules-based process and becomes intuitive."
   ]
  },
  {
   "cell_type": "markdown",
   "id": "93616413-8d55-4e03-815f-462f2b86a428",
   "metadata": {
    "tags": []
   },
   "source": [
    "### <span style=\"color:darkred\">**Chapter 2 - Thinking About Data More Clearly (18-35)**</span>\n",
    "---"
   ]
  },
  {
   "cell_type": "markdown",
   "id": "e0218da7-3cd8-475b-bb98-82c151b2f692",
   "metadata": {},
   "source": [
    "<h7> <span style=\"color:blue\"><b>The Entity-Relationship Model (E-R Model)</b></span> </h7>"
   ]
  },
  {
   "cell_type": "markdown",
   "id": "5f840795-9fc6-4f4c-bad1-a69da6d4205c",
   "metadata": {},
   "source": [
    "Throwing out all the dreadful hierarchical diagrams from the early 1960s, researchers sought ways to model the ***true*** structure of data.\n",
    "\n",
    "In 1976, an ideal approach was developed by **Peter Chen** in his paper Toward a Unified View of Data, *ACM Transactions on Database Systems, Volume 1, Number 1, March 1976* pp. 9-36.\n",
    "\n",
    "- In Chen's paper he defined six terms **entity**, **entity set**, **relationship**, **cardinality**, **attribute**, **key attribute**.\n",
    "\n",
    "**Data Entity** or simply **Entity** is \"something **in which we are interested**, that exists and which is **distinguishable** from other similar things\".  It is critical in developing a data model, that the model includes only things of interest and **ignores** things that are irrelevant.\n",
    "\n",
    "**Entity Set** is a \"collection of similar entities\" and how you define your entity set depends on your world view. It is easier to refer to an entity set as simply and **entity** except when an **instance** within an entity set has to be distinguished from another instance.\n",
    "\n",
    "**Relationship** means \"an association between two or more entity sets\". For example a *student <u>is enrolled in</u> a course* or *a teacher <u>is teaching</u> a course*. Conceptually, it is possible to have three-way relationships, however, these can generally be expressed as two or more two-way relationships that are subsequently easier to model in DBD. Chen's model therefore express all relationships as two-way only.\n",
    " - It is possible, and quite common, to have a relationship between an entity set and itself. For example *a student <u>is a sibling of</u> another student*.\n",
    " - Acknowledging the existence of the above example relationship shows that you are interested in the fact that some students are siblings of other students and you want to record this in the DBD.\n",
    " - As with entities, it is important to limit the identification of relationships to those that are relevant in your world view.\n",
    " \n",
    "Another common example of a relationship is a **set-membership** or **generalization** relationship that is often referred to as an ***<u>is a</u>*** or **isa** relationship. For example, *student <u>is a</u> a university member*. In this example, university member is a more general entity set.\n",
    "\n",
    "**Cardinality** means \"for the entities at one end of a relationship, how many entities at the other end of the relationship can have that relationship to them\". There are three possible cardinalities: **one-to-one**, **one-to-many**, and **many-to-many**.\n",
    "\n",
    "**Attribute** means \"a property, in which we are interested, of the entities in an entity set\" or also \"a property of a relationship\". Be careful not to confuse an extrinsic detail about an entity as if it is an attribute of the entity.\n",
    " - In an E-R model, relationships, like entities, can have attributes (although they do not have to, whereas entities must have at least one attribute).\n",
    " \n",
    " **Key Attribute** are attributes that *uniquely identify an individual entity*.\n",
    "  - For an entity set to be represented in a DB, it is essential that one of its attributes, or a combination of two or more of its attributes, be designated as the key that will uniquely identify any individual entity in that entity set.\n",
    "  - An attribute that uniquely identifices an individual entity within an entity set.\n",
    "  - Less commonly, an attribute of a relationship that uniquely identifies one of several instances of the relationship that occur between the same two entities."
   ]
  },
  {
   "cell_type": "markdown",
   "id": "b93b5228-bceb-42f0-b793-3d26967463a3",
   "metadata": {},
   "source": [
    "<h7> <span style=\"color:blue\"><b>Key Selection</b></span> </h7>"
   ]
  },
  {
   "cell_type": "markdown",
   "id": "af94aaab-ed32-4a3a-a882-6a79d1f30baa",
   "metadata": {},
   "source": [
    "If the members of the entity set are *clearly unique*, but the entities do not possess an absolutely reliable key attribute or attributes, then it may be recognized (during the building of the data model) that a key attributee needs to be \"created\".\n",
    " - In these situations you may be required to \"assign\" or \"impose\" a unique **artificial key** to guarantee uniqueness. This is consider an artificial key because it is not something the entity naturally possesses.\n",
    " - Unlike artificial keys that are imposed on the real world, more commonly artificial keys can be used by the DB for internal purposes only.\n",
    " - In an E-R diagram, artificial keys should be explicitly noted as such in the diagram as well as if it will be imposed on the real world or used for internal purposes only.\n",
    " \n",
    "Sometimes you may have to implement a **forced key** in which you decide to use, as key attributes, some already-existing but not-necessarily-unique attribute combination.\n",
    " - In this implementation, a preliminary check is performed to see if the attempted addition violates a pre-existing forced-key value and if so the application layer prompt the user to modify various attributes within the forced-key structure until a unique forced-key is formed."
   ]
  },
  {
   "cell_type": "markdown",
   "id": "d888cb4f-cd80-4582-844d-97681e75c3e2",
   "metadata": {},
   "source": [
    "<h7> <span style=\"color:blue\"><b>Attributes of Relationships</b></span> </h7>"
   ]
  },
  {
   "cell_type": "markdown",
   "id": "f6d5ea91-d7a1-4d59-a22a-82caa62c0b7f",
   "metadata": {},
   "source": [
    "The attributes of a relationship typically define:\n",
    " - **When the relationship applies in time** with attributes such as a start and end date or time-frame like semester or year.\n",
    " - **When the relationship was established** with an attribute that is typically a single date.\n",
    " - **When the relationship will end** with an attribute that is typically a single date.\n",
    " - **Who established the relationship** with an attribute like a person's name.\n",
    " \n",
    "These addtional attributes are generally not key attributes of the relationship itself, but there is no reason why they cannot be.\n",
    " - A date or pair of dates commonly takes on the role of a key attribute in a relationship. For example, in the relationship *student <u>has dated</u> student*, a *date_of_occurrence* attribute could record the date of each date and thus become a key attribute of the <u>has dated</u> relationship.\n",
    " - Each relationship exists in the context of the particular entity sets at each \"end\" of the relationship. Each relationship therefore needs to be distinguished from other instances of an identical relationship in a different part of the model.\n",
    "   - For example, there may be many <u>is a</u> relationships in various parts of the model and thus we would need to be able to talk about each in its own right.\n",
    "   - The information about which entity sets are at the two ends of the relationship is therefore a defining attribute of the relationship.\n",
    "   \n",
    "The individual entities in an entity set are identified by the values of their key attributes. Thus the key attributes of the two entities at each end of a relationship represent the necessary (and, in most cases, sufficient) information to distinguish the relationship from all other relationships in the E-R model. The attributes of a relationship are thus:\n",
    " - The key attributes of the entity sets between which the relationship operates.\n",
    " - Any attributes that the relationship possesses in its own right (which are typically non-key attributes, but may somethimes be key attributes).\n",
    " \n",
    "For example, if the entity <u>course</u> has key attribute course_number and student has key attribute student_id, then the relationship <u>is enrolled in</u> that connects student to course aquires the key attributes from both courses and students. The relationship <u>is enrolled in</u> might have, as its own attributes, term and year."
   ]
  },
  {
   "cell_type": "markdown",
   "id": "e49003d6-aef0-4180-8f0a-9e07de393c62",
   "metadata": {},
   "source": [
    "<h7> <span style=\"color:blue\"><b>Drawing an E-R- Diagram</b></span> </h7>"
   ]
  },
  {
   "cell_type": "markdown",
   "id": "4a438b0d-fbdb-45db-bc7c-2a77fa4c344e",
   "metadata": {},
   "source": [
    "One fairly good approach to drawing an E-R diagram is to leave non-key attributes off the diagram and record them on a separate sheet.\n",
    "Rectangles can be used to represent entities with:\n",
    " - Key attribute(s) can be placed inside the entity rectangle under the entity name.\n",
    " - Key attribute(s) should be underlined.\n",
    "\n",
    "Similarly if any relationships have key attributes, these should be treated the same way as entity key attributes.\n",
    "\n",
    "Some useful guidelines for creating E-R diagrams include:\n",
    "1. Identify all entities first **before think about relationships**.\n",
    "2. Rethink any possible three-way relationship. There is always a better way of describing what is going on in terms of relationship between two entities.\n",
    "3. When choosing the name of a relationship, if your first attempt sounds muddled, consider reversing the direction of the \"verb\".\n",
    "4. Make sure attributes are single valued (for example, length or width, but never \"dimension\").\n",
    "5. Think critically about what attributes relationships may have in their own right - for example, attributes associated with time.\n",
    "6. Don't be afraid to include a number of <u>is a</u> relationships. These relationships can be very useful.\n",
    "7. When two entiy sets are connected by an <u>is a</u> relationship, the less-general entity set can have additional attributes that do not apply to the more-general entity set. However, the less-general entity set *must* have all the attributes of the more-general entity set. In other words, when going from the more to less general entity set, you can add attributes, but you cannot drop attributes.\n",
    "8. Relationships are allowed to have both their ends going to the same entity set.\n",
    "9. For entity sets with two or more key attributes, the key attributes are kept as distinct, separate, single-valued attributes. In other words, they are not in any way combined on the diagram."
   ]
  },
  {
   "cell_type": "markdown",
   "id": "55ec76cc-fe4d-46cc-9a77-1a6520535cbe",
   "metadata": {},
   "source": [
    "<h7> <span style=\"color:blue\"><b>Using an E-R Diagram to Design a Database</b></span> </h7>"
   ]
  },
  {
   "cell_type": "markdown",
   "id": "dbd9a55f-354b-4fa1-8dfe-b22932f1def1",
   "metadata": {},
   "source": [
    "It's generally a bad idea to skip the E-R diagram step because:\n",
    " - Drawing the E-R diagram forces you to think very clearly about the data that you are dealing with, before you start to do the DBD.\n",
    " - It greatly simplifies the task of designing the DB.\n",
    " - It provides a valuable reference document when extending the DBD is required.\n",
    " - There is nothing in the E-R model and its diagramming that prevents it from being used, and useful, in the context of non-relationship DBMSs.\n",
    " - When you use an E-R diagram as the starting point for doing relational DBD, everything falls into place so easily that the strength of the relational model is made that much more apparent.\n",
    " \n",
    "Translating an E-R diagram into the DB implementation requires you to:\n",
    "1. Create a table for every entity set, giving it a column for each attribute. Make sure that your key attribute(s) really work as a key.\n",
    "2. Create a table for each relationship, giving it a column for each of its own attribute(s) if there are any. Importantly, create columns for the key attributes of the two entity sets between which the relationship operates. The relationship's own attribute(s) will generally not be additional key attribute(s) of the relationship, but one of them might be.\n",
    "3. Examine the DBD to see if it is already normalized. If you spot a problem, it is generally solved by splitting entity tables into two or more tables and adding relationship tables as necessary.\n",
    "4. Don't be afraid to have tables with only one column, containing a single key attribute. This sort of table allows you to add all instances of the key attribute prior to adding other data elsewhere that relate to that key attribute.\n",
    "5. In order to create the actual DB, you will need to decide on the format of each attribute (**type** or **datatype** of the attribute)."
   ]
  },
  {
   "cell_type": "markdown",
   "id": "43a0d66f-7956-4fbb-8170-ae6e25fabd4b",
   "metadata": {},
   "source": [
    "<h7> <span style=\"color:blue\"><b>Naming Tables</b></span> </h7>"
   ]
  },
  {
   "cell_type": "markdown",
   "id": "11f67993-2fed-4e73-adcd-4393645c9363",
   "metadata": {},
   "source": [
    "The process of turning an E-R diagram into a DBD requires that you use a certain amount of common sense, particulary when it comes to naming tables. Do not do the following when naming entity tables:\n",
    "1. Make the name too long.\n",
    "2. Make the name too short to the point where it is cryptic.\n",
    "3. Totally irrelevant and hence undecipherable.\n",
    "4. Having limited applicability and hence preventing broader use.\n",
    "\n",
    "Although relational DBMSs **do not force you to use the same column names** for the same attribute in two different tables, it is a good practice to keep them the same.\n",
    "\n",
    "When it comes to naming relationships, things are not as easy. Using the names of the two entities connected by the relationship, for example *student_courses*, is **not a good idea** because such a name does not tell you about the nature of the relationship. In this case *enrollments* would be a better name. Although not recommended there are situations in which an *entity_entity* table name would work:\n",
    "1. When there is no sensible alternative.\n",
    "2. When the meaning is clear.\n",
    "\n",
    "In the wild, you will encounter **truly dreadful** table naming practices. A common excuse is that \"even application programmers don't see the table names because they interact with a software layer that hides the actual name\"."
   ]
  },
  {
   "cell_type": "markdown",
   "id": "6754eaa0-d0da-4dc8-a4c3-b57e16ce27a4",
   "metadata": {},
   "source": [
    "<h7> <span style=\"color:blue\"><b>Normalization</b></span> </h7>"
   ]
  },
  {
   "cell_type": "markdown",
   "id": "6ee47030-4e69-4950-8350-dfb38fa57a14",
   "metadata": {},
   "source": [
    "If an entity has a lot of attributes, your first attempt at the DBD **will most likely be non-normalized**. If you are very lucky, the DBD may already be normalized, particularly if you were **thinking very clearly when drawing the E-R diagramno**.\n",
    "\n",
    "For a DBD to be normalized, at a minimum, **the non-key attributes** should be **fully functionally dependent** or **FFD on the key attributes**.\n",
    "\n",
    "**Funtionally Dependent** means that if A is functionally dependent on B, then if we know B we can find out A."
   ]
  },
  {
   "cell_type": "markdown",
   "id": "5d77b2ce-04ce-4704-8170-14a136ce03b1",
   "metadata": {},
   "source": [
    "<h7> <span style=\"color:blue\"><b>Creating the Database</b></span> </h7>"
   ]
  },
  {
   "cell_type": "markdown",
   "id": "a1c1cf85-46c9-41c7-a617-7132e208ad9b",
   "metadata": {},
   "source": [
    "<h7> <span style=\"color:blue\"><b>A Brief Note on the Writing Conventions Used in this Book</b></span> </h7>"
   ]
  },
  {
   "cell_type": "markdown",
   "id": "c7d1283a-22b2-4022-8b9f-eaef1108bcdb",
   "metadata": {},
   "source": [
    "<h7> <span style=\"color:blue\"><b>Case-Sensitivity in DBMSs</b></span> </h7>"
   ]
  },
  {
   "cell_type": "markdown",
   "id": "1c13e648-e042-4fad-85b5-3e2c0b74dda3",
   "metadata": {},
   "source": [
    "<h7> <span style=\"color:blue\"><b>The Database Design Process Summarized</b></span> </h7>"
   ]
  },
  {
   "cell_type": "markdown",
   "id": "22f0c340-cd7f-4174-a436-485ea26d963f",
   "metadata": {
    "jp-MarkdownHeadingCollapsed": true,
    "tags": []
   },
   "source": [
    "<h4> <span style=\"color:darkred\"><b>Chapter 3 - Nulls, Keys, and Cardinality (36-43)</b></span> </h4>"
   ]
  },
  {
   "cell_type": "markdown",
   "id": "96210573-d4ac-4ea9-aef6-07378a7cba4d",
   "metadata": {},
   "source": [
    "<h7> <span style=\"color:blue\"><b>The Final Steps in Creating Tables</b></span> </h7>"
   ]
  },
  {
   "cell_type": "markdown",
   "id": "f52fe87e-3204-447e-9152-30dacc59a424",
   "metadata": {},
   "source": [
    "<h7> <span style=\"color:blue\"><b>NULL and NOT NULL Constraints</b></span> </h7>"
   ]
  },
  {
   "cell_type": "markdown",
   "id": "7f56ab0f-7373-4157-8044-f32d79d3d4af",
   "metadata": {},
   "source": [
    "<h7> <span style=\"color:blue\"><b>Designation of Key Columns</b></span> </h7>"
   ]
  },
  {
   "cell_type": "markdown",
   "id": "b1183823-dd19-4e6d-a02f-a923de00b388",
   "metadata": {},
   "source": [
    "<h7> <span style=\"color:blue\"><b>Cardinality of Relationships</b></span> </h7>"
   ]
  },
  {
   "cell_type": "markdown",
   "id": "4a08c887-f923-4f3f-aaff-4a80abe1da6f",
   "metadata": {
    "jp-MarkdownHeadingCollapsed": true,
    "tags": []
   },
   "source": [
    "<h4> <span style=\"color:darkred\"><b>Chapter 4 - Normalization of Relational Database Designs (44-54)</b></span> </h4>"
   ]
  },
  {
   "cell_type": "markdown",
   "id": "a99fea81-2739-4aaf-9ad2-1e0eb5d722cb",
   "metadata": {},
   "source": [
    "<h7> <span style=\"color:blue\"><b>Normalization: an Art, not a Science</b></span> </h7>"
   ]
  },
  {
   "cell_type": "markdown",
   "id": "543cec20-dd2b-409b-8736-f1b90b2e17fa",
   "metadata": {
    "jp-MarkdownHeadingCollapsed": true,
    "tags": []
   },
   "source": [
    "<h6>$\\hspace{10pt}$ Normalization is not a \"mechanical\" exercise - nobody has managed to write a program non-normalized database specifications as inputs (table names, column names for key / non-key attributes) with the output being a fully normalized database.<br><br>\n",
    "$\\hspace{10pt}$ Normalization is an intellectual exercise in that it requires an understanding of the meaning of the data entities and relationships.<br><br>\n",
    "$\\hspace{10pt}$ Whenever you see tables with non-key attributes, have to think hard about whether each non-key attribute is fundamentally an attribute of the entities in the entity set from which the table was derived.<br>\n",
    "$\\hspace{10pt}$ Furthermore, you also have to think hard about the subtle rules that govern the values that attributes may take.</h6>"
   ]
  },
  {
   "cell_type": "markdown",
   "id": "cf5f1df9-b26c-478e-84ae-d3de0814c0e2",
   "metadata": {},
   "source": [
    "<h7> <span style=\"color:blue\"><b>A Brief History of Normalization</b></span> </h7>"
   ]
  },
  {
   "cell_type": "markdown",
   "id": "4ca0ad86-735f-4d92-b54c-bcbf9350e801",
   "metadata": {
    "jp-MarkdownHeadingCollapsed": true,
    "tags": []
   },
   "source": [
    "<h6>$\\hspace{10pt}$ Codd identified the problem of anomalies arising from insertions and deletions (and, in some special cases, updates).<br><br>\n",
    "$\\hspace{10pt}$ Eleven years later, Ronald Fagin defined a condition called Domain/Key Normal Form (DK/NF) and showed that DB normalized according to DK/NF cannot exhibit insertion/deletion anomalies (modification anomalies).<br><br>\n",
    "$\\hspace{10pt}$ According to Codd, 1NF is the least normalized table. At a minimum all an 1NF table needs is a key column(s). Codd continued by adding 2NF through 5NF.<br>\n",
    "$\\hspace{10pt}$ Furthermore, you also have to think hard about the subtle rules that govern the values that attributes may take.</h6>"
   ]
  },
  {
   "cell_type": "markdown",
   "id": "c43f9250-d5e8-4ee3-89b1-e17069ce9be3",
   "metadata": {},
   "source": [
    "<h7> <span style=\"color:blue\"><b>Learning to Perform Normalization</b></span> </h7>"
   ]
  },
  {
   "cell_type": "markdown",
   "id": "14f489b5-bf95-469f-9c60-200c1cd8245b",
   "metadata": {},
   "source": [
    "<h7> <span style=\"color:blue\"><b>Good-Enough Normalization</b></span> </h7>"
   ]
  },
  {
   "cell_type": "markdown",
   "id": "b2594fd3-bb0d-41b4-85e7-560c12ea4683",
   "metadata": {},
   "source": [
    "<h7> <span style=\"color:blue\"><b>The Rule Most Often Broken</b></span> </h7>"
   ]
  },
  {
   "cell_type": "markdown",
   "id": "6a61827d-209f-46d7-a86f-8811d1653617",
   "metadata": {},
   "source": [
    "<h7> <span style=\"color:blue\"><b>Practicing Normalization</b></span> </h7>"
   ]
  },
  {
   "cell_type": "markdown",
   "id": "953490e9-6bf3-43cf-81d0-5d017c5a050f",
   "metadata": {
    "jp-MarkdownHeadingCollapsed": true,
    "tags": []
   },
   "source": [
    "<h4> <span style=\"color:darkred\"><b>Chapter 5 - Some Practical Aspects of Using a DBMS (55-70)</b></span> </h4>"
   ]
  },
  {
   "cell_type": "markdown",
   "id": "27f496c1-d7b2-4ab7-8dd9-d8488e5eb0a4",
   "metadata": {},
   "source": [
    "<h7> <span style=\"color:blue\"><b>Introduction</b></span> </h7>"
   ]
  },
  {
   "cell_type": "markdown",
   "id": "537b7d2a-1ff4-4d86-af19-6720c461ba09",
   "metadata": {},
   "source": [
    "<h7> <span style=\"color:blue\"><b>Classes of Database Users</b></span> </h7>"
   ]
  },
  {
   "cell_type": "markdown",
   "id": "9e8dd946-b90e-4c58-af60-c4f23032cef7",
   "metadata": {
    "jp-MarkdownHeadingCollapsed": true,
    "tags": []
   },
   "source": [
    "<h6> The value of most DBs lie in the fact that the data contained in them (a) is a result of actions of many users and (b) is made available to many users. </h6>\n",
    "<h6> In practice, most DB \"users\" are unaware that they are interacting with a shared DB, because they interact with application software, which in turn interacts with the DB. </h6>\n",
    "<h6> Application software essentially \"talks\" to the DB using SQL. </h6>\n",
    "<h6> Because DBs can have many users, one important characteristic of all major DBMSs is that they have a means of recognizing users and granting to those users the rights that are appropriate for their roles. </h6>\n",
    "<h6> Users who access a DB directly would typically have rights to read, add, delete, and update rows in the DB. </h6>\n",
    "<h6> Users who access a DB indirectly via application software, will typically not have individual accounts on the DBMS. </h6>\n",
    "<h6> Indirect users interact via an application software layer in which the application software is granted access to the DB via a generic account. </h6>"
   ]
  },
  {
   "cell_type": "markdown",
   "id": "b545475e-d317-40b0-b200-26a684d5016d",
   "metadata": {
    "tags": []
   },
   "source": [
    "<h6> Read-only is the lowest level of privilege that can be given to a DB user or application software. </h6>\n",
    "<h6> Various hands-on users include: </h6>\n",
    "<h6> 1) The DB designer - who are typically given fairly high level privileges on development DBs but reduced privileges to the corresponding production DBs. </h6>\n",
    "<h6> 2) The DB administrator - who are responsible for keeping the DB is good working order and are typically given the highest level of privileges. </h6>\n",
    "<h6> 3) Application programmers - who write and maintain application software that interacts with the DBs have privileges similar to DB designers. </h6>"
   ]
  },
  {
   "cell_type": "markdown",
   "id": "858ac1e2-5f45-482c-b6ac-d9e8eea187d6",
   "metadata": {},
   "source": [
    "<h7> <span style=\"color:blue\"><b>Stored Procedures</b></span> </h7>"
   ]
  },
  {
   "cell_type": "markdown",
   "id": "4b60c1ad-e19d-4195-a35d-6676b214865b",
   "metadata": {},
   "source": [
    "<h7> <span style=\"color:blue\"><b>Interacting with a DBMS</b></span> </h7>"
   ]
  },
  {
   "cell_type": "markdown",
   "id": "345850b9-c6ff-40d2-a589-6eb20bcaf725",
   "metadata": {},
   "source": [
    "<h7> <span style=\"color:blue\"><b>Creating Tables</b></span> </h7>"
   ]
  },
  {
   "cell_type": "markdown",
   "id": "dd3e6b68-b205-4b56-92b3-aee04e5550af",
   "metadata": {},
   "source": [
    "<h7> <span style=\"color:blue\"><b>Foreign Keys</b></span> </h7>"
   ]
  },
  {
   "cell_type": "markdown",
   "id": "71504977-898a-4ab3-a06d-15a488e7b020",
   "metadata": {},
   "source": [
    "<h7> <span style=\"color:blue\"><b>Table Aliases</b></span> </h7>"
   ]
  },
  {
   "cell_type": "markdown",
   "id": "1ae9574d-45b3-45ff-ba41-5b6312b41ece",
   "metadata": {
    "tags": []
   },
   "source": [
    "<h6> A table alias is a name (typically a very short one) that a user, or a stored procedure programmer, assigns to a table within a query or a stored procedure. </h6>\n",
    "<h6> Table aliases make it needlessly hard for someone else to follow how an SQL command or stored procedure works, making maintenance unnecessarily difficult. </h6>\n",
    "<h6> Table aliases are particularly confusing when different programmers use different aliases for the same table. </h6>\n",
    "<h5> <span style=\"color:red\">Don't use table aliases.</span> </h5>"
   ]
  }
 ],
 "metadata": {
  "kernelspec": {
   "display_name": "Python 3 (ipykernel)",
   "language": "python",
   "name": "python3"
  },
  "language_info": {
   "codemirror_mode": {
    "name": "ipython",
    "version": 3
   },
   "file_extension": ".py",
   "mimetype": "text/x-python",
   "name": "python",
   "nbconvert_exporter": "python",
   "pygments_lexer": "ipython3",
   "version": "3.9.13"
  }
 },
 "nbformat": 4,
 "nbformat_minor": 5
}
