{
 "cells": [
  {
   "cell_type": "markdown",
   "id": "dfcf5355-6c62-40a7-8879-3a168529ddfe",
   "metadata": {},
   "source": [
    "<h4> <span style=\"color:darkred\"><b>Chapter 6 - Welcome to the Real World</b></span> </h4>"
   ]
  },
  {
   "cell_type": "markdown",
   "id": "ce3e5a3a-1c39-40bf-9613-f0e0eb02637e",
   "metadata": {},
   "source": [
    "<h7> <span style=\"color:blue\"><b>Number of Tables</b></span> </h7>"
   ]
  },
  {
   "cell_type": "markdown",
   "id": "b1614c62-8f22-4d3c-875f-16c45ca32300",
   "metadata": {},
   "source": [
    "<h7> <span style=\"color:blue\"><b>Lookup Tables</b></span> </h7>"
   ]
  },
  {
   "cell_type": "markdown",
   "id": "8e420bcb-098d-4e78-8b11-df01f3e51dda",
   "metadata": {},
   "source": [
    "<h7> <span style=\"color:blue\"><b>Normalization</b></span> </h7>"
   ]
  },
  {
   "cell_type": "markdown",
   "id": "35af1796-382f-486c-92a9-8117ba02f5c1",
   "metadata": {},
   "source": [
    "<h7> <span style=\"color:blue\"><b>Number of Tables in a Query</b></span> </h7>"
   ]
  },
  {
   "cell_type": "markdown",
   "id": "b9ec7ba7-d5ce-417e-b04c-93f31cf75244",
   "metadata": {},
   "source": [
    "<h7> <span style=\"color:blue\"><b>Uses and Abuses of Stored Procedures</b></span> </h7>"
   ]
  },
  {
   "cell_type": "markdown",
   "id": "55a219aa-7dd2-40fd-8adb-2bc2d2846184",
   "metadata": {},
   "source": [
    "<h7> <span style=\"color:blue\"><b>Recording Things That Happen</b></span> </h7>"
   ]
  },
  {
   "cell_type": "markdown",
   "id": "186d8555-b2e6-428d-84f4-3fada0be0269",
   "metadata": {
    "tags": []
   },
   "source": [
    "<h4> <span style=\"color:darkred\"><b>Chapter 7 - Representing Time in Database Designs</b></span> </h4>"
   ]
  },
  {
   "cell_type": "markdown",
   "id": "e0218da7-3cd8-475b-bb98-82c151b2f692",
   "metadata": {},
   "source": [
    "<h7> <span style=\"color:blue\"><b>Datetime</b></span> </h7>"
   ]
  },
  {
   "cell_type": "markdown",
   "id": "b93b5228-bceb-42f0-b793-3d26967463a3",
   "metadata": {},
   "source": [
    "<h7> <span style=\"color:blue\"><b>The Problem with Time</b></span> </h7>"
   ]
  },
  {
   "cell_type": "markdown",
   "id": "d888cb4f-cd80-4582-844d-97681e75c3e2",
   "metadata": {},
   "source": [
    "<h7> <span style=\"color:blue\"><b>Masking the Problem using an Outer Join</b></span> </h7>"
   ]
  },
  {
   "cell_type": "markdown",
   "id": "55ec76cc-fe4d-46cc-9a77-1a6520535cbe",
   "metadata": {},
   "source": [
    "<h7> <span style=\"color:blue\"><b>A Pragmatic Approach to Preserving Historical Information</b></span> </h7>"
   ]
  },
  {
   "cell_type": "markdown",
   "id": "43a0d66f-7956-4fbb-8170-ae6e25fabd4b",
   "metadata": {},
   "source": [
    "<h7> <span style=\"color:blue\"><b>A Second Problem with Time</b></span> </h7>"
   ]
  },
  {
   "cell_type": "markdown",
   "id": "6754eaa0-d0da-4dc8-a4c3-b57e16ce27a4",
   "metadata": {},
   "source": [
    "<h7> <span style=\"color:blue\"><b>Solving the Second Problem</b></span> </h7>"
   ]
  },
  {
   "cell_type": "markdown",
   "id": "5d77b2ce-04ce-4704-8170-14a136ce03b1",
   "metadata": {},
   "source": [
    "<h7> <span style=\"color:blue\"><b>The Pragmatic Approach Summarized</b></span> </h7>"
   ]
  },
  {
   "cell_type": "markdown",
   "id": "a1c1cf85-46c9-41c7-a617-7132e208ad9b",
   "metadata": {},
   "source": [
    "<h7> <span style=\"color:blue\"><b>Column Naming in Extended Historical Tables</b></span> </h7>"
   ]
  },
  {
   "cell_type": "markdown",
   "id": "c7d1283a-22b2-4022-8b9f-eaef1108bcdb",
   "metadata": {},
   "source": [
    "<h7> <span style=\"color:blue\"><b>Pure Historical Tables and Dual-Use Tables</b></span> </h7>"
   ]
  },
  {
   "cell_type": "markdown",
   "id": "1c13e648-e042-4fad-85b5-3e2c0b74dda3",
   "metadata": {},
   "source": [
    "<h7> <span style=\"color:blue\"><b>Summary</b></span> </h7>"
   ]
  },
  {
   "cell_type": "markdown",
   "id": "22f0c340-cd7f-4174-a436-485ea26d963f",
   "metadata": {
    "tags": []
   },
   "source": [
    "### <span style=\"color:brown\">**Chapter 8 - Other Types of Historical Table (pp 100 - 111)**</span>"
   ]
  },
  {
   "cell_type": "markdown",
   "id": "96210573-d4ac-4ea9-aef6-07378a7cba4d",
   "metadata": {},
   "source": [
    "#### <span style=\"color:blue\">**Tracking Changes in Present-Time Data**</span>"
   ]
  },
  {
   "cell_type": "markdown",
   "id": "d618e51f-77ce-4ca8-a68e-bd7dd7de7f7b",
   "metadata": {},
   "source": [
    "##### A potential use of historical tables is to record changes that have been made over time to **non-key** attributes in present-time tables. This may be required in when:\n",
    "1. Reporting on trends in a particular non-key attribute over time, or\n",
    "2. Retaining historical information in compliance with laws or industry regulations."
   ]
  },
  {
   "cell_type": "markdown",
   "id": "6cfb1238-7336-41bc-bcc4-6453d48748e3",
   "metadata": {},
   "source": [
    "##### In this situation, adding two columns to denote \"valid_from\" and \"valid_to\" is a common mechanism for tracking historical changes in the non-key attribute. What will be a reliable key for this table?\n",
    "- Combining the pre-existing key with the \"valid_from\" column can serve as a reliable key for this sort of historical table.\n",
    "- This approach has been proposed as the basis of a **general solution** to the problem of time-related modification anomalies.\n",
    "  - However, that such an approach, and its associated queries, is possible does not make it elegant or easy to construct and implement.\n",
    "  - By comparison, the approach of expanding the transactions table by adding extra columns to reacord the **as-it-was-then (aiwt)** non-key fact is a lot simpler."
   ]
  },
  {
   "cell_type": "markdown",
   "id": "80f16395-15a5-4965-97d4-228c8d59ded7",
   "metadata": {},
   "source": [
    "#### <span style=\"color:blue\">**Recording Transactions**</span>"
   ]
  },
  {
   "cell_type": "markdown",
   "id": "2c60b177-0374-4365-abb8-1ba09daa0292",
   "metadata": {},
   "source": [
    "##### One of the most common uses of historical tables is to record data about transactions or events.\n",
    "1. Reporting on trends in a particular non-key attribute over time, or\n",
    "2. Retaining historical information in compliance with laws or industry regulations."
   ]
  },
  {
   "cell_type": "markdown",
   "id": "7f56ab0f-7373-4157-8044-f32d79d3d4af",
   "metadata": {},
   "source": [
    "<h7> <span style=\"color:blue\"><b>Defining Transactional Data</b></span> </h7>"
   ]
  },
  {
   "cell_type": "markdown",
   "id": "b1183823-dd19-4e6d-a02f-a923de00b388",
   "metadata": {},
   "source": [
    "<h7> <span style=\"color:blue\"><b>Datetimes in Transactions</b></span> </h7>"
   ]
  },
  {
   "cell_type": "markdown",
   "id": "782f54b8-7f16-4b75-8790-a6930b98e4e5",
   "metadata": {},
   "source": [
    "<h7> <span style=\"color:blue\"><b>Transactions That Just Happen</b></span> </h7>"
   ]
  },
  {
   "cell_type": "markdown",
   "id": "1b77c336-c61c-4497-bc9e-959e5c8b42a4",
   "metadata": {},
   "source": [
    "<h7> <span style=\"color:blue\"><b>Characteristics of Transactions that Just Happen</b></span> </h7>"
   ]
  },
  {
   "cell_type": "markdown",
   "id": "765ac7b4-b704-4d9e-a598-28f36bf18c26",
   "metadata": {},
   "source": [
    "<h7> <span style=\"color:blue\"><b>Summary</b></span> </h7>"
   ]
  },
  {
   "cell_type": "markdown",
   "id": "4a08c887-f923-4f3f-aaff-4a80abe1da6f",
   "metadata": {
    "tags": []
   },
   "source": [
    "<h4> <span style=\"color:darkred\"><b>Chapter 9 - Aggregate Data</b></span> </h4>"
   ]
  },
  {
   "cell_type": "markdown",
   "id": "a99fea81-2739-4aaf-9ad2-1e0eb5d722cb",
   "metadata": {},
   "source": [
    "<h7> <span style=\"color:blue\"><b>The Aggregation of Data</b></span> </h7>"
   ]
  },
  {
   "cell_type": "markdown",
   "id": "cf5f1df9-b26c-478e-84ae-d3de0814c0e2",
   "metadata": {},
   "source": [
    "<h7> <span style=\"color:blue\"><b>Generation of Aggregate Data</b></span> </h7>"
   ]
  },
  {
   "cell_type": "markdown",
   "id": "c43f9250-d5e8-4ee3-89b1-e17069ce9be3",
   "metadata": {},
   "source": [
    "<h7> <span style=\"color:blue\"><b>Designing Historical Tables with Aggregation in Mind</b></span> </h7>"
   ]
  },
  {
   "cell_type": "markdown",
   "id": "14f489b5-bf95-469f-9c60-200c1cd8245b",
   "metadata": {},
   "source": [
    "<h7> <span style=\"color:blue\"><b>Storing Aggregate Data in a Database</b></span> </h7>"
   ]
  },
  {
   "cell_type": "markdown",
   "id": "b2594fd3-bb0d-41b4-85e7-560c12ea4683",
   "metadata": {},
   "source": [
    "<h7> <span style=\"color:blue\"><b>Point-In-Time Aggregate Data</b></span> </h7>"
   ]
  },
  {
   "cell_type": "markdown",
   "id": "6a61827d-209f-46d7-a86f-8811d1653617",
   "metadata": {},
   "source": [
    "<h7> <span style=\"color:blue\"><b>The Three Factors of Time-Period Aggregation</b></span> </h7>"
   ]
  },
  {
   "cell_type": "markdown",
   "id": "22cd6e6e-f087-4f1b-bfad-f6cc5fbee76e",
   "metadata": {},
   "source": [
    "<h7> <span style=\"color:blue\"><b>The Number of Possible Aggregate-Data Tables</b></span> </h7>"
   ]
  },
  {
   "cell_type": "markdown",
   "id": "bc8a4926-eb42-41bc-a889-0a596a9765f6",
   "metadata": {},
   "source": [
    "<h7> <span style=\"color:blue\"><b>Minimizing the Number of Aggregate-Data Tables</b></span> </h7>"
   ]
  },
  {
   "cell_type": "markdown",
   "id": "18e72a7f-d839-48c6-8fd6-f1ecd928d442",
   "metadata": {},
   "source": [
    "<h7> <span style=\"color:blue\"><b>Querying C-tables</b></span> </h7>"
   ]
  },
  {
   "cell_type": "markdown",
   "id": "6a12db2a-ea7f-4037-8db4-f1ecc8d17422",
   "metadata": {},
   "source": [
    "<h7> <span style=\"color:blue\"><b>Further Reducing the Number of Aggregate-Data Tables</b></span> </h7>"
   ]
  },
  {
   "cell_type": "markdown",
   "id": "6c0cd353-a2fc-4a64-b203-1c798276d872",
   "metadata": {},
   "source": [
    "<h7> <span style=\"color:blue\"><b>Summary</b></span> </h7>"
   ]
  },
  {
   "cell_type": "markdown",
   "id": "01cb03b4-7ad4-4cfd-ab5b-fa28eecd1955",
   "metadata": {
    "tags": []
   },
   "source": [
    "<h4> <span style=\"color:darkred\"><b>Chapter 10 - Data Aggregation with Nested Grouping Variables</b></span> </h4>"
   ]
  },
  {
   "cell_type": "markdown",
   "id": "67b400d3-f38d-49f2-a1ba-50361aea6490",
   "metadata": {},
   "source": [
    "<h7> <span style=\"color:blue\"><b>Generalization Relationships</b></span> </h7>"
   ]
  },
  {
   "cell_type": "markdown",
   "id": "cef4a6df-d394-4f40-bc19-605502955198",
   "metadata": {},
   "source": [
    "<h7> <span style=\"color:blue\"><b>Nested Entities</b></span> </h7>"
   ]
  },
  {
   "cell_type": "markdown",
   "id": "8720bbe1-4e2f-47cf-97a7-9f204a2977a1",
   "metadata": {},
   "source": [
    "<h7> <span style=\"color:blue\"><b>Minimizing the Number of Aggregate-Data Tables</b></span> </h7>"
   ]
  },
  {
   "cell_type": "markdown",
   "id": "bc1d27de-40e0-4668-9b82-4efbf4cac89a",
   "metadata": {},
   "source": [
    "<h7> <span style=\"color:blue\"><b>Querying a Nested-Grouping-Variable C-table</b></span> </h7>"
   ]
  },
  {
   "cell_type": "markdown",
   "id": "9dcf6f75-2034-4828-8919-c64f655063fa",
   "metadata": {},
   "source": [
    "<h7> <span style=\"color:blue\"><b>Other Examples of Nested Grouping Variables</b></span> </h7>"
   ]
  },
  {
   "cell_type": "markdown",
   "id": "a7faade0-97c1-4108-a024-33a98832ca88",
   "metadata": {},
   "source": [
    "<h7> <span style=\"color:blue\"><b>Issues in C-table Creation with Nested Grouping Variables</b></span> </h7>"
   ]
  },
  {
   "cell_type": "markdown",
   "id": "e9813e5f-a408-4399-aff1-1c06b8d6e13c",
   "metadata": {},
   "source": [
    "<h7> <span style=\"color:blue\"><b>Dealing with the Interdependence of Nested Grouping Variables</b></span> </h7>"
   ]
  },
  {
   "cell_type": "markdown",
   "id": "6506f349-33fc-4b8b-b577-2b25363ec765",
   "metadata": {},
   "source": [
    "<h7> <span style=\"color:blue\"><b>Summary</b></span> </h7>"
   ]
  },
  {
   "cell_type": "markdown",
   "id": "96085720-7a33-48ee-aff4-4b9910ab2baf",
   "metadata": {
    "tags": []
   },
   "source": [
    "<h4> <span style=\"color:darkred\"><b>Chapter 11 - Time Periods as Pseudo-Entities</b></span> </h4>"
   ]
  },
  {
   "cell_type": "markdown",
   "id": "c3b521a7-be9a-4d7a-a971-762634ea9ba4",
   "metadata": {},
   "source": [
    "<h7> <span style=\"color:blue\"><b>Time-Period Aggregation</b></span> </h7>"
   ]
  },
  {
   "cell_type": "markdown",
   "id": "37c00591-bf12-4842-9a2e-1ae7735ec4c6",
   "metadata": {},
   "source": [
    "<h7> <span style=\"color:blue\"><b>Time-Periods Aggregates: a Brief Recap</b></span> </h7>"
   ]
  },
  {
   "cell_type": "markdown",
   "id": "ca7735bc-77ee-4411-9f1e-a0f1f0c5d9b6",
   "metadata": {},
   "source": [
    "<h7> <span style=\"color:blue\"><b>Time Periods</b></span> </h7>"
   ]
  },
  {
   "cell_type": "markdown",
   "id": "9baad4c0-8f3e-45e7-9e96-03b1418a4c3a",
   "metadata": {},
   "source": [
    "<h7> <span style=\"color:blue\"><b>Another Way of Thinking About Time Periods</b></span> </h7>"
   ]
  },
  {
   "cell_type": "markdown",
   "id": "6746314c-af70-44e5-8a58-2ce9b1a29806",
   "metadata": {},
   "source": [
    "<h7> <span style=\"color:blue\"><b>Pseudo-Entity Tables</b></span> </h7>"
   ]
  },
  {
   "cell_type": "markdown",
   "id": "765eab74-145a-45cd-ae1b-43bbf0b8cbdc",
   "metadata": {},
   "source": [
    "<h7> <span style=\"color:blue\"><b>A Better Approach to Associating Transactions with Time Periods</b></span> </h7>"
   ]
  },
  {
   "cell_type": "markdown",
   "id": "7e2e6ce4-8596-4404-992e-03d62db1365a",
   "metadata": {},
   "source": [
    "<h7> <span style=\"color:blue\"><b>Adding Time Periods to C-tables</b></span> </h7>"
   ]
  },
  {
   "cell_type": "markdown",
   "id": "934d3297-cbfc-485a-af41-ef698066add2",
   "metadata": {},
   "source": [
    "<h7> <span style=\"color:blue\"><b>Attributes Inherited within Pseudo-Entity Sets</b></span> </h7>"
   ]
  },
  {
   "cell_type": "markdown",
   "id": "e0085f3d-ba2e-4b97-9c70-26a6c801795e",
   "metadata": {},
   "source": [
    "<h7> <span style=\"color:blue\"><b>Summary</b></span> </h7>"
   ]
  },
  {
   "cell_type": "markdown",
   "id": "47123502-e6b0-4fbe-978d-eeb96622cc7e",
   "metadata": {
    "tags": []
   },
   "source": [
    "<h4> <span style=\"color:darkred\"><b>Chapter 12 - Point-In-Time Aggregate Data</b></span> </h4>"
   ]
  },
  {
   "cell_type": "markdown",
   "id": "c42143a9-81e5-4888-b7a2-bf11d8723c60",
   "metadata": {},
   "source": [
    "<h7> <span style=\"color:blue\"><b>Introduction</b></span> </h7>"
   ]
  },
  {
   "cell_type": "markdown",
   "id": "8e1e525f-4444-4413-aca6-5a8da50fc447",
   "metadata": {},
   "source": [
    "<h7> <span style=\"color:blue\"><b>Calculating and Storing Balances</b></span> </h7>"
   ]
  },
  {
   "cell_type": "markdown",
   "id": "e276e6dc-0e04-43dd-bece-e31dd699d852",
   "metadata": {},
   "source": [
    "<h7> <span style=\"color:blue\"><b>Storing Bank Balances</b></span> </h7>"
   ]
  },
  {
   "cell_type": "markdown",
   "id": "8d587fa3-f075-4aac-9fc8-4221ce7b0e31",
   "metadata": {},
   "source": [
    "<h7> <span style=\"color:blue\"><b>Points Illustrated by the Example</b></span> </h7>"
   ]
  },
  {
   "cell_type": "markdown",
   "id": "eca1ec59-3403-4569-8a28-ca929e50293a",
   "metadata": {},
   "source": [
    "<h7> <span style=\"color:blue\"><b>The Example Generalized</b></span> </h7>"
   ]
  },
  {
   "cell_type": "markdown",
   "id": "0849bff0-992e-4ac7-8cf5-d3d8ec795ad2",
   "metadata": {},
   "source": [
    "<h7> <span style=\"color:blue\"><b>Account-Value Tables</b></span> </h7>"
   ]
  },
  {
   "cell_type": "markdown",
   "id": "5c6e9095-119d-4992-986c-977124970a63",
   "metadata": {},
   "source": [
    "<h7> <span style=\"color:blue\"><b>Summary</b></span> </h7>"
   ]
  },
  {
   "cell_type": "markdown",
   "id": "4d1179ad-abcd-4ad2-a858-246e1efbb51d",
   "metadata": {
    "tags": []
   },
   "source": [
    "<h4> <span style=\"color:darkred\"><b>Chapter 13 - Temporal Databases</b></span> </h4>"
   ]
  },
  {
   "cell_type": "markdown",
   "id": "8d644bf7-4d0a-4b10-becb-8ac670952564",
   "metadata": {},
   "source": [
    "<h7> <span style=\"color:blue\"><b>The Story of Relational Databases (cotinued)</b></span> </h7>"
   ]
  },
  {
   "cell_type": "markdown",
   "id": "94139965-6536-4fa2-b816-8787e2936517",
   "metadata": {},
   "source": [
    "<h7> <span style=\"color:blue\"><b>University Research from 1982 Onwards</b></span> </h7>"
   ]
  },
  {
   "cell_type": "markdown",
   "id": "91c71989-a0ce-4107-866f-15e5e31dca65",
   "metadata": {},
   "source": [
    "<h7> <span style=\"color:blue\"><b>A Quick Recap of the Time Problem</b></span> </h7>"
   ]
  },
  {
   "cell_type": "markdown",
   "id": "945fe502-f14b-48bd-a15c-27f41adc67cf",
   "metadata": {},
   "source": [
    "<h7> <span style=\"color:blue\"><b>Temporal Databases</b></span> </h7>"
   ]
  },
  {
   "cell_type": "markdown",
   "id": "32887014-2d20-4bc9-b81e-553ba6b760d5",
   "metadata": {},
   "source": [
    "<h7> <span style=\"color:blue\"><b>The Development of Temporal DBMS Products</b></span> </h7>"
   ]
  },
  {
   "cell_type": "markdown",
   "id": "a2d707cd-4620-408e-bedc-51f623172797",
   "metadata": {},
   "source": [
    "<h7> <span style=\"color:blue\"><b>Summary</b></span> </h7>"
   ]
  },
  {
   "cell_type": "markdown",
   "id": "06f979c1-be1a-4b55-855f-321ca9c8dd94",
   "metadata": {
    "tags": []
   },
   "source": [
    "<h4> <span style=\"color:darkred\"><b>Chapter 14 - The World According to OLAP</b></span> </h4>"
   ]
  },
  {
   "cell_type": "markdown",
   "id": "ada7cd04-bea0-4eaa-86e0-9bf30965d352",
   "metadata": {},
   "source": [
    "<h7> <span style=\"color:blue\"><b>Introduction</b></span> </h7>"
   ]
  },
  {
   "cell_type": "markdown",
   "id": "7017d470-18fb-45e0-98eb-0ebc5894fcee",
   "metadata": {},
   "source": [
    "<h7> <span style=\"color:blue\"><b>The Emergence of OLAP</b></span> </h7>"
   ]
  },
  {
   "cell_type": "markdown",
   "id": "9e40494c-c389-426a-8a7b-8ee88b157d56",
   "metadata": {},
   "source": [
    "<h7> <span style=\"color:blue\"><b>The Impact of Improved Technology</b></span> </h7>"
   ]
  },
  {
   "cell_type": "markdown",
   "id": "8468cdc6-8b16-46e4-b269-e6c1470fa795",
   "metadata": {},
   "source": [
    "<h7> <span style=\"color:blue\"><b>Barriers to OLAP/Relational Re-Unification</b></span> </h7>"
   ]
  },
  {
   "cell_type": "markdown",
   "id": "05b056c9-0664-4291-800c-684ca9312381",
   "metadata": {},
   "source": [
    "<h7> <span style=\"color:blue\"><b>Understanding OLAP Terminology</b></span> </h7>"
   ]
  },
  {
   "cell_type": "markdown",
   "id": "03c5ad0e-0626-46ff-92b0-b1db8b0ea2fa",
   "metadata": {},
   "source": [
    "<h7> <span style=\"color:blue\"><b>The Representation of Time in OLAP Databases</b></span> </h7>"
   ]
  },
  {
   "cell_type": "markdown",
   "id": "5bd9b253-db1a-4ea8-9335-5391dfd4064b",
   "metadata": {},
   "source": [
    "<h7> <span style=\"color:blue\"><b>The Choice of Keys</b></span> </h7>"
   ]
  },
  {
   "cell_type": "markdown",
   "id": "22d45751-5aa9-42dd-af54-8d468d58cd2f",
   "metadata": {},
   "source": [
    "<h7> <span style=\"color:blue\"><b>Summary</b></span> </h7>"
   ]
  },
  {
   "cell_type": "markdown",
   "id": "64c9b194-db67-41e3-b681-cd4bc4568be5",
   "metadata": {
    "tags": []
   },
   "source": [
    "<h4> <span style=\"color:darkred\"><b>Chapter 15 - Cubespeak</b></span> </h4>"
   ]
  },
  {
   "cell_type": "markdown",
   "id": "b64be26f-6201-460a-9c05-45025afc86c9",
   "metadata": {},
   "source": [
    "<h7> <span style=\"color:blue\"><b>Data Cubes</b></span> </h7>"
   ]
  },
  {
   "cell_type": "markdown",
   "id": "52749459-30ee-4067-b921-caf641e0786a",
   "metadata": {},
   "source": [
    "<h7> <span style=\"color:blue\"><b>Cubes According to Microsoft</b></span> </h7>"
   ]
  },
  {
   "cell_type": "markdown",
   "id": "08063d02-f0d4-443f-afbf-c983b040e309",
   "metadata": {},
   "source": [
    "<h7> <span style=\"color:blue\"><b>Cubes and Nested Grouping Variables</b></span> </h7>"
   ]
  },
  {
   "cell_type": "markdown",
   "id": "0a96b7e0-dabe-4f01-b15d-6398b2c0235f",
   "metadata": {},
   "source": [
    "<h7> <span style=\"color:blue\"><b>Summary</b></span> </h7>"
   ]
  },
  {
   "cell_type": "markdown",
   "id": "1bf4969c-6009-47c1-b274-0c41d8914c99",
   "metadata": {
    "tags": []
   },
   "source": [
    "<h4> <span style=\"color:darkred\"><b>Chapter 16 - Representing Time - Examples from Various Industries</b></span> </h4>"
   ]
  },
  {
   "cell_type": "markdown",
   "id": "e2e65796-36b4-4264-84d2-64b0a75c3635",
   "metadata": {},
   "source": [
    "<h7> <span style=\"color:blue\"><b>Introduction</b></span> </h7>"
   ]
  },
  {
   "cell_type": "markdown",
   "id": "8db1c16d-9b99-45b8-ab23-144b402f73db",
   "metadata": {},
   "source": [
    "<h7> <span style=\"color:blue\"><b>Manufacturing and Distribution</b></span> </h7>"
   ]
  },
  {
   "cell_type": "markdown",
   "id": "7a835ae2-4a42-4ac0-9c4a-0f38d7093373",
   "metadata": {},
   "source": [
    "<h7> <span style=\"color:blue\"><b>Banking and Credit Cards</b></span> </h7>"
   ]
  },
  {
   "cell_type": "markdown",
   "id": "582abbba-2c1c-4188-8d57-503914541497",
   "metadata": {},
   "source": [
    "<h7> <span style=\"color:blue\"><b>General Bookkeeping (All Enterprises)</b></span> </h7>"
   ]
  },
  {
   "cell_type": "markdown",
   "id": "51ebb63b-ed12-46fa-a16c-06f2e9fef062",
   "metadata": {},
   "source": [
    "<h7> <span style=\"color:blue\"><b>Brokerage and Securities - Custody</b></span> </h7>"
   ]
  },
  {
   "cell_type": "markdown",
   "id": "327c82f2-19b1-47fb-bd96-4e210387e561",
   "metadata": {},
   "source": [
    "<h7> <span style=\"color:blue\"><b>Healthcare and Healthcare-Related Enterprises</b></span> </h7>"
   ]
  },
  {
   "cell_type": "markdown",
   "id": "15176966-3c93-467e-9695-058259539d69",
   "metadata": {},
   "source": [
    "<h7> <span style=\"color:blue\"><b>Pharmaceutical Industry</b></span> </h7>"
   ]
  },
  {
   "cell_type": "markdown",
   "id": "68ab94d1-1f65-4891-b1e8-f02bc3b318c0",
   "metadata": {
    "tags": []
   },
   "source": [
    "<h4> <span style=\"color:darkred\"><b>Chapter 17 - Overview of Examples</b></span> </h4>"
   ]
  },
  {
   "cell_type": "markdown",
   "id": "62339a84-80f6-48b4-b0a0-d620ea81e5b2",
   "metadata": {},
   "source": [
    "<h7> <span style=\"color:blue\"><b>Adding Columns to Tables</b></span> </h7>"
   ]
  },
  {
   "cell_type": "markdown",
   "id": "0dbf07d6-9c43-4a54-8732-9699a6401629",
   "metadata": {},
   "source": [
    "<h7> <span style=\"color:blue\"><b>A Summary of the Examples</b></span> </h7>"
   ]
  },
  {
   "cell_type": "markdown",
   "id": "f133ee66-bc87-4862-acab-515c1efea270",
   "metadata": {},
   "source": [
    "<h7> <span style=\"color:blue\"><b>University Administration Database Example</b></span> </h7>"
   ]
  },
  {
   "cell_type": "markdown",
   "id": "836d20cc-2fcf-40f0-8730-570d437069db",
   "metadata": {},
   "source": [
    "<h7> <span style=\"color:blue\"><b>Order and Invoice Management Database Example</b></span> </h7>"
   ]
  },
  {
   "cell_type": "markdown",
   "id": "241a9ee8-debf-4803-ba4d-1f9b4247657c",
   "metadata": {
    "tags": []
   },
   "source": [
    "<h4> <span style=\"color:darkred\"><b>Chapter 18 - Conclusion</b></span> </h4>"
   ]
  },
  {
   "cell_type": "markdown",
   "id": "3fe59f7b-2fca-4540-9326-d312905405d9",
   "metadata": {
    "tags": []
   },
   "source": [
    "<h4> <span style=\"color:darkred\"><b>Glossary</b></span> </h4>"
   ]
  },
  {
   "cell_type": "markdown",
   "id": "a9d32dc0-988e-4389-940a-92f56b463ff7",
   "metadata": {},
   "source": [
    "<h7> <span style=\"color:blue\"><b>Aggregate Data</b></span> </h7>"
   ]
  },
  {
   "cell_type": "markdown",
   "id": "055ae68f-20df-4ea6-9818-f232dce9763c",
   "metadata": {},
   "source": [
    "<h7> <span style=\"color:blue\"><b>Artificial Key</b></span> </h7>"
   ]
  },
  {
   "cell_type": "markdown",
   "id": "5ae63563-8150-4d2e-b06b-7d0deb2107a0",
   "metadata": {},
   "source": [
    "<h7> <span style=\"color:blue\"><b>Attribute</b></span> </h7>"
   ]
  },
  {
   "cell_type": "markdown",
   "id": "1066e300-0e06-4da5-8222-57165d1b4dd5",
   "metadata": {},
   "source": [
    "<h7> <span style=\"color:blue\"><b>Boyce-Codd Normal Codd (BCNF)</b></span> </h7>"
   ]
  },
  {
   "cell_type": "markdown",
   "id": "2de0a315-7edd-4c05-8eed-86e07294371d",
   "metadata": {},
   "source": [
    "<h7> <span style=\"color:blue\"><b>Business Intelligence</b></span> </h7>"
   ]
  },
  {
   "cell_type": "markdown",
   "id": "f3efc04b-d31b-470a-ba42-ef712d9d4c57",
   "metadata": {},
   "source": [
    "<h7> <span style=\"color:blue\"><b>Candidate Key</b></span> </h7>"
   ]
  },
  {
   "cell_type": "markdown",
   "id": "45060c4f-3e2d-4b97-bfe7-13c80e72ad68",
   "metadata": {},
   "source": [
    "<h7> <span style=\"color:blue\"><b>Cardinality of a Relationship</b></span> </h7>"
   ]
  },
  {
   "cell_type": "markdown",
   "id": "e5455582-2ef3-402c-9e5e-13ef289ca8b4",
   "metadata": {},
   "source": [
    "<h7> <span style=\"color:blue\"><b>Cascading Delete</b></span> </h7>"
   ]
  },
  {
   "cell_type": "markdown",
   "id": "0cae6cf9-1a3f-44b6-af07-798d0d2ce824",
   "metadata": {},
   "source": [
    "<h7> <span style=\"color:blue\"><b>Cell</b></span> </h7>"
   ]
  },
  {
   "cell_type": "markdown",
   "id": "149f7aa6-44aa-4810-a791-31ca23117b46",
   "metadata": {},
   "source": [
    "<h7> <span style=\"color:blue\"><b>C-Table (Combinatorially-Superaggregated Transaction-History Table)</b></span> </h7>"
   ]
  },
  {
   "cell_type": "markdown",
   "id": "077ed62c-2561-46f0-99f1-5d4e2a443625",
   "metadata": {},
   "source": [
    "<h7> <span style=\"color:blue\"><b>CUBE (the SQL function)</b></span> </h7>"
   ]
  },
  {
   "cell_type": "markdown",
   "id": "4cf72ed8-73e0-4efd-b91e-ee6933ff60a4",
   "metadata": {},
   "source": [
    "<h7> <span style=\"color:blue\"><b>Data Cube</b></span> </h7>"
   ]
  },
  {
   "cell_type": "markdown",
   "id": "f1b8e2bc-e65b-49da-935e-88bdaa6681aa",
   "metadata": {},
   "source": [
    "<h7> <span style=\"color:blue\"><b>Data Element</b></span> </h7>"
   ]
  },
  {
   "cell_type": "markdown",
   "id": "66b4de52-18f1-4a4b-8173-0d6aefdec6b8",
   "metadata": {},
   "source": [
    "<h7> <span style=\"color:blue\"><b>Data Element of Interest (in Data Aggregation)</b></span> </h7>"
   ]
  },
  {
   "cell_type": "markdown",
   "id": "add53830-234e-4d2e-9015-e407e8737982",
   "metadata": {},
   "source": [
    "<h7> <span style=\"color:blue\"><b>Data Entity (or Entity)</b></span> </h7>"
   ]
  },
  {
   "cell_type": "markdown",
   "id": "21424c0c-0709-4401-9c4d-6e2978783218",
   "metadata": {},
   "source": [
    "<h7> <span style=\"color:blue\"><b>Data Mining</b></span> </h7>"
   ]
  },
  {
   "cell_type": "markdown",
   "id": "3cdb35ae-c1f6-4ea8-8325-c29032756e06",
   "metadata": {},
   "source": [
    "<h7> <span style=\"color:blue\"><b>Data Warehousing</b></span> </h7>"
   ]
  },
  {
   "cell_type": "markdown",
   "id": "3d7ae3c1-7167-4735-9e9a-fe598d4dfd87",
   "metadata": {},
   "source": [
    "<h7> <span style=\"color:blue\"><b>Database Design (Relational)</b></span> </h7>"
   ]
  },
  {
   "cell_type": "markdown",
   "id": "28ab12d3-518c-47b5-9c61-23dfcb689a53",
   "metadata": {},
   "source": [
    "<h7> <span style=\"color:blue\"><b>Database View</b></span> </h7>"
   ]
  },
  {
   "cell_type": "markdown",
   "id": "9617c69d-02c9-4853-850a-7a2314de8169",
   "metadata": {},
   "source": [
    "<h7> <span style=\"color:blue\"><b>Datatype (or Type)</b></span> </h7>"
   ]
  },
  {
   "cell_type": "markdown",
   "id": "dc3294e6-df51-4e84-83e6-4438dfd8bbf0",
   "metadata": {},
   "source": [
    "<h7> <span style=\"color:blue\"><b>Datetime Format (or Datetime Datatype)</b></span> </h7>"
   ]
  },
  {
   "cell_type": "markdown",
   "id": "34724541-064f-4797-9de7-1493886e2f65",
   "metadata": {},
   "source": [
    "<h7> <span style=\"color:blue\"><b>DBMS</b></span> </h7>"
   ]
  },
  {
   "cell_type": "markdown",
   "id": "6cdc1902-5c95-4c54-b5cd-3dc3259d91f6",
   "metadata": {},
   "source": [
    "<h7> <span style=\"color:blue\"><b>Deletion Anomaly</b></span> </h7>"
   ]
  },
  {
   "cell_type": "markdown",
   "id": "a7ed455d-04e7-43ec-bad5-15f27ad2f908",
   "metadata": {},
   "source": [
    "<h7> <span style=\"color:blue\"><b>Dimension Table</b></span> </h7>"
   ]
  },
  {
   "cell_type": "markdown",
   "id": "345cacbc-642b-41b4-9984-8a7cacc16087",
   "metadata": {},
   "source": [
    "<h7> <span style=\"color:blue\"><b>Domain/Key Normal Form (DK/NF)</b></span> </h7>"
   ]
  },
  {
   "cell_type": "markdown",
   "id": "97cdfb78-510f-41fe-a90e-4495107dfddf",
   "metadata": {},
   "source": [
    "<h7> <span style=\"color:blue\"><b>Domain (of an Attribute)</b></span> </h7>"
   ]
  },
  {
   "cell_type": "markdown",
   "id": "c4b5ca36-67b7-45ff-8bfa-1ce8fa8f74dd",
   "metadata": {},
   "source": [
    "<h7> <span style=\"color:blue\"><b>EIS</b></span> </h7>"
   ]
  },
  {
   "cell_type": "markdown",
   "id": "9bc38c95-fb70-40a0-9bca-78b6a44ecdd1",
   "metadata": {},
   "source": [
    "<h7> <span style=\"color:blue\"><b>Entity (or Data Entity)</b></span> </h7>"
   ]
  },
  {
   "cell_type": "markdown",
   "id": "92fddedf-919f-44ec-897a-f020e14cd2ab",
   "metadata": {},
   "source": [
    "<h7> <span style=\"color:blue\"><b>Entity Set</b></span> </h7>"
   ]
  },
  {
   "cell_type": "markdown",
   "id": "91cba0b9-2dd1-4900-82d8-31073bb10317",
   "metadata": {},
   "source": [
    "<h7> <span style=\"color:blue\"><b>Entity-Relationship Model (E-R Model)</b></span> </h7>"
   ]
  },
  {
   "cell_type": "markdown",
   "id": "fb281f01-7548-43a9-bf95-f9fef88429ea",
   "metadata": {},
   "source": [
    "<h7> <span style=\"color:blue\"><b>Executive Information System (EIS)</b></span> </h7>"
   ]
  },
  {
   "cell_type": "markdown",
   "id": "2d03093c-5f41-4312-b87b-af1bd629dbd5",
   "metadata": {},
   "source": [
    "<h7> <span style=\"color:blue\"><b>Fact Table</b></span> </h7>"
   ]
  },
  {
   "cell_type": "markdown",
   "id": "11910ea7-91e7-4daa-8cbe-c5f085509175",
   "metadata": {},
   "source": [
    "<h7> <span style=\"color:blue\"><b>Forced-Key System</b></span> </h7>"
   ]
  },
  {
   "cell_type": "markdown",
   "id": "1ae95570-8b4f-4caf-b185-e1a49d600375",
   "metadata": {},
   "source": [
    "<h7> <span style=\"color:blue\"><b>Foreign Key</b></span> </h7>"
   ]
  },
  {
   "cell_type": "markdown",
   "id": "a8a6ab54-7f2b-4860-8b99-649e679950c7",
   "metadata": {},
   "source": [
    "<h7> <span style=\"color:blue\"><b>Format (of an Attribute)</b></span> </h7>"
   ]
  },
  {
   "cell_type": "markdown",
   "id": "fc1c6f9a-7460-4e5a-a6c9-f129b841c384",
   "metadata": {},
   "source": [
    "<h7> <span style=\"color:blue\"><b>Fully Functionally Dependent (FFD)</b></span> </h7>"
   ]
  },
  {
   "cell_type": "markdown",
   "id": "614d728d-d5d4-4a37-bc3b-f7d47564afd0",
   "metadata": {},
   "source": [
    "<h7> <span style=\"color:blue\"><b>Generalization Relationship</b></span> </h7>"
   ]
  },
  {
   "cell_type": "markdown",
   "id": "879a8ee4-2c0c-42c0-b106-475d2242e6fb",
   "metadata": {},
   "source": [
    "<h7> <span style=\"color:blue\"><b>Grouping Entity</b></span> </h7>"
   ]
  },
  {
   "cell_type": "markdown",
   "id": "34a647b2-714f-4c02-9cdf-e56f7d943021",
   "metadata": {},
   "source": [
    "<h7> <span style=\"color:blue\"><b>Grouping Variable</b></span> </h7>"
   ]
  },
  {
   "cell_type": "markdown",
   "id": "b9589476-005c-47d2-b907-96dea20dd3f5",
   "metadata": {},
   "source": [
    "<h7> <span style=\"color:blue\"><b>Hierarchical Model</b></span> </h7>"
   ]
  },
  {
   "cell_type": "markdown",
   "id": "c6b9f561-83c9-4630-8bef-13d431b1f97f",
   "metadata": {},
   "source": [
    "<h7> <span style=\"color:blue\"><b>Insertion Anomaly</b></span> </h7>"
   ]
  },
  {
   "cell_type": "markdown",
   "id": "910a7da5-71d3-4e5c-8e92-e7b18fbf3395",
   "metadata": {},
   "source": [
    "<h7> <span style=\"color:blue\"><b>Join</b></span> </h7>"
   ]
  },
  {
   "cell_type": "markdown",
   "id": "d59052b0-efc7-49a3-822c-0132b4115278",
   "metadata": {},
   "source": [
    "<h7> <span style=\"color:blue\"><b>Join Condition</b></span> </h7>"
   ]
  },
  {
   "cell_type": "markdown",
   "id": "e9b52a70-b981-40ae-88ce-dbfe833c790c",
   "metadata": {},
   "source": [
    "<h7> <span style=\"color:blue\"><b>Key</b></span> </h7>"
   ]
  },
  {
   "cell_type": "markdown",
   "id": "a7d82028-344b-47c9-80cc-9715cf6147ec",
   "metadata": {},
   "source": [
    "<h7> <span style=\"color:blue\"><b>Key Attribute</b></span> </h7>"
   ]
  },
  {
   "cell_type": "markdown",
   "id": "37c32bc8-598c-499a-a0cb-1eb06da735bd",
   "metadata": {},
   "source": [
    "<h7> <span style=\"color:blue\"><b>Key Column(s)</b></span> </h7>"
   ]
  },
  {
   "cell_type": "markdown",
   "id": "f5e5882c-4203-4655-8c57-7548ddcac09b",
   "metadata": {},
   "source": [
    "<h7> <span style=\"color:blue\"><b>Key-Based Query</b></span> </h7>"
   ]
  },
  {
   "cell_type": "markdown",
   "id": "0aecd6e9-4263-446c-8e6f-5f74e9c421ad",
   "metadata": {},
   "source": [
    "<h7> <span style=\"color:blue\"><b>Lookup Table</b></span> </h7>"
   ]
  },
  {
   "cell_type": "markdown",
   "id": "0f6f4c55-e743-4982-a1b5-ad4348d2c762",
   "metadata": {},
   "source": [
    "<h7> <span style=\"color:blue\"><b>Modification Anomaly</b></span> </h7>"
   ]
  },
  {
   "cell_type": "markdown",
   "id": "870b26ce-2107-41c5-9546-b19c26c0e451",
   "metadata": {},
   "source": [
    "<h7> <span style=\"color:blue\"><b>MOLAP</b></span> </h7>"
   ]
  },
  {
   "cell_type": "markdown",
   "id": "0f340104-b90f-498c-9b7e-7b8e8b68e345",
   "metadata": {},
   "source": [
    "<h7> <span style=\"color:blue\"><b>Multidimensional</b></span> </h7>"
   ]
  },
  {
   "cell_type": "markdown",
   "id": "fd5c345f-7baf-4ba8-8142-b42d58f6f6df",
   "metadata": {},
   "source": [
    "<h7> <span style=\"color:blue\"><b>Nested Entities (Nested Entity Sets)</b></span> </h7>"
   ]
  },
  {
   "cell_type": "markdown",
   "id": "ab34c258-34d4-4353-87f9-651f73646753",
   "metadata": {},
   "source": [
    "<h7> <span style=\"color:blue\"><b>Nested Grouping Entities</b></span> </h7>"
   ]
  },
  {
   "cell_type": "markdown",
   "id": "48419900-967d-4a69-873e-5cdf2ed420d8",
   "metadata": {},
   "source": [
    "<h7> <span style=\"color:blue\"><b>Nested Grouping Variables</b></span> </h7>"
   ]
  },
  {
   "cell_type": "markdown",
   "id": "c5171010-bf65-45ce-9295-afe10e687bfe",
   "metadata": {},
   "source": [
    "<h7> <span style=\"color:blue\"><b>Network Model</b></span> </h7>"
   ]
  },
  {
   "cell_type": "markdown",
   "id": "6970d2c2-00fd-4093-8eab-5400e546d18b",
   "metadata": {},
   "source": [
    "<h7> <span style=\"color:blue\"><b>Non-Key-Based Query</b></span> </h7>"
   ]
  },
  {
   "cell_type": "markdown",
   "id": "e8e44eb2-526b-49d5-9117-13ba6db3ba02",
   "metadata": {},
   "source": [
    "<h7> <span style=\"color:blue\"><b>Normal Form</b></span> </h7>"
   ]
  },
  {
   "cell_type": "markdown",
   "id": "aa5caa12-733e-4e6f-9c38-d269e2983a64",
   "metadata": {},
   "source": [
    "<h7> <span style=\"color:blue\"><b>Normalization</b></span> </h7>"
   ]
  },
  {
   "cell_type": "markdown",
   "id": "f344d561-5ad5-4513-b377-9c4f0e2a544b",
   "metadata": {},
   "source": [
    "<h7> <span style=\"color:blue\"><b>NULL</b></span> </h7>"
   ]
  },
  {
   "cell_type": "markdown",
   "id": "4448f5d5-8898-4d80-b4ab-0262dd1e94dd",
   "metadata": {},
   "source": [
    "<h7> <span style=\"color:blue\"><b>NULL / NOT NULL Constraint</b></span> </h7>"
   ]
  },
  {
   "cell_type": "markdown",
   "id": "ac733874-6475-4f39-86ed-5a9a7675c28a",
   "metadata": {},
   "source": [
    "<h7> <span style=\"color:blue\"><b>Object Name</b></span> </h7>"
   ]
  },
  {
   "cell_type": "markdown",
   "id": "0e96cfcd-77bf-4b90-af88-abf15d415945",
   "metadata": {},
   "source": [
    "<h7> <span style=\"color:blue\"><b>On-Line Analytical Processing (OLAP)</b></span> </h7>"
   ]
  },
  {
   "cell_type": "markdown",
   "id": "00dffc8c-ee12-40d7-9dcf-bdeba04f10ab",
   "metadata": {},
   "source": [
    "<h7> <span style=\"color:blue\"><b>Outer Join (or Outer-Join Condition)</b></span> </h7>"
   ]
  },
  {
   "cell_type": "markdown",
   "id": "f53d1be4-8958-43dc-abd3-ecb1ceadf517",
   "metadata": {},
   "source": [
    "<h7> <span style=\"color:blue\"><b>Point-In-Time Aggregate Data</b></span> </h7>"
   ]
  },
  {
   "cell_type": "markdown",
   "id": "c0043375-1c77-4ec9-967a-3165d5cd6b69",
   "metadata": {},
   "source": [
    "<h7> <span style=\"color:blue\"><b>Primary Key</b></span> </h7>"
   ]
  },
  {
   "cell_type": "markdown",
   "id": "49406dd6-29df-4101-a331-e49326c5e62c",
   "metadata": {},
   "source": [
    "<h7> <span style=\"color:blue\"><b>Pseudo-Entity</b></span> </h7>"
   ]
  },
  {
   "cell_type": "markdown",
   "id": "e3617de1-e809-4871-b743-d65a0db01366",
   "metadata": {},
   "source": [
    "<h7> <span style=\"color:blue\"><b>Query Language</b></span> </h7>"
   ]
  },
  {
   "cell_type": "markdown",
   "id": "6f962dfd-8050-4dfd-a632-ef6ea34655ff",
   "metadata": {},
   "source": [
    "<h7> <span style=\"color:blue\"><b>Referential Integrity (Breakdown of)</b></span> </h7>"
   ]
  },
  {
   "cell_type": "markdown",
   "id": "4bc08f44-2e00-4699-8ab3-863b017c9f9d",
   "metadata": {},
   "source": [
    "<h7> <span style=\"color:blue\"><b>Relation</b></span> </h7>"
   ]
  },
  {
   "cell_type": "markdown",
   "id": "10f3986d-4218-4dc5-ad7d-ff504e267a67",
   "metadata": {},
   "source": [
    "<h7> <span style=\"color:blue\"><b>Relational Algebra</b></span> </h7>"
   ]
  },
  {
   "cell_type": "markdown",
   "id": "b43df9a4-1cc9-490c-a145-130f714330b7",
   "metadata": {},
   "source": [
    "<h7> <span style=\"color:blue\"><b>Relational Calculus</b></span> </h7>"
   ]
  },
  {
   "cell_type": "markdown",
   "id": "b920657c-53d4-4f75-a095-08d9e242765f",
   "metadata": {},
   "source": [
    "<h7> <span style=\"color:blue\"><b>Relational Database</b></span> </h7>"
   ]
  },
  {
   "cell_type": "markdown",
   "id": "46671a76-f9a1-4960-87f4-b1ff32b98337",
   "metadata": {},
   "source": [
    "<h7> <span style=\"color:blue\"><b>Relational DBMS</b></span> </h7>"
   ]
  },
  {
   "cell_type": "markdown",
   "id": "b65c4637-bc31-4e30-9228-57b1a043ffed",
   "metadata": {},
   "source": [
    "<h7> <span style=\"color:blue\"><b>Relational Model</b></span> </h7>"
   ]
  },
  {
   "cell_type": "markdown",
   "id": "cab0750f-6c11-4c25-8ca5-254a9d635d3b",
   "metadata": {},
   "source": [
    "<h7> <span style=\"color:blue\"><b>Relationship</b></span> </h7>"
   ]
  },
  {
   "cell_type": "markdown",
   "id": "2e079866-7502-44fe-9c53-0eddf22ebefe",
   "metadata": {},
   "source": [
    "<h7> <span style=\"color:blue\"><b>Result Set</b></span> </h7>"
   ]
  },
  {
   "cell_type": "markdown",
   "id": "73fbf9d1-eaab-4019-a831-d958c476f8c5",
   "metadata": {},
   "source": [
    "<h7> <span style=\"color:blue\"><b>ROLAP</b></span> </h7>"
   ]
  },
  {
   "cell_type": "markdown",
   "id": "bf7d8b07-08fd-4238-adb6-7caadc1f78cc",
   "metadata": {},
   "source": [
    "<h7> <span style=\"color:blue\"><b>Schema</b></span> </h7>"
   ]
  },
  {
   "cell_type": "markdown",
   "id": "1fceba0e-07b5-4d52-b24d-32e42b2cb3f1",
   "metadata": {},
   "source": [
    "<h7> <span style=\"color:blue\"><b>SQL</b></span> </h7>"
   ]
  },
  {
   "cell_type": "markdown",
   "id": "e3772001-2200-466e-aa84-055259917301",
   "metadata": {},
   "source": [
    "<h7> <span style=\"color:blue\"><b>Stored Procedure</b></span> </h7>"
   ]
  },
  {
   "cell_type": "markdown",
   "id": "86d389ef-aa0e-4057-86c0-c0f8186552af",
   "metadata": {},
   "source": [
    "<h7> <span style=\"color:blue\"><b>Subschema</b></span> </h7>"
   ]
  },
  {
   "cell_type": "markdown",
   "id": "7c1a6ae9-1cb3-4367-aeb5-6ec607995661",
   "metadata": {},
   "source": [
    "<h7> <span style=\"color:blue\"><b>Superaggregation</b></span> </h7>"
   ]
  },
  {
   "cell_type": "markdown",
   "id": "d0163439-16a8-4fe7-843b-af3ec812ad1d",
   "metadata": {},
   "source": [
    "<h7> <span style=\"color:blue\"><b>Table Alias</b></span> </h7>"
   ]
  },
  {
   "cell_type": "markdown",
   "id": "7e0b461d-86fd-4791-ba69-82fbfd4dd002",
   "metadata": {},
   "source": [
    "<h7> <span style=\"color:blue\"><b>Table View</b></span> </h7>"
   ]
  },
  {
   "cell_type": "markdown",
   "id": "a8704a20-86ea-44c7-9840-4bb1d9fce718",
   "metadata": {},
   "source": [
    "<h7> <span style=\"color:blue\"><b>Temporal DBMS (TDBMS)</b></span> </h7>"
   ]
  },
  {
   "cell_type": "markdown",
   "id": "7caa0595-d6f9-4cc8-825b-624fe2e04648",
   "metadata": {},
   "source": [
    "<h7> <span style=\"color:blue\"><b>Time Cube</b></span> </h7>"
   ]
  },
  {
   "cell_type": "markdown",
   "id": "8594ff7a-6965-4123-a98d-7f0c2d24b963",
   "metadata": {},
   "source": [
    "<h7> <span style=\"color:blue\"><b>Time-Period Aggregate Data</b></span> </h7>"
   ]
  },
  {
   "cell_type": "markdown",
   "id": "e0821a75-e599-43b2-880e-07e69c3d048b",
   "metadata": {},
   "source": [
    "<h7> <span style=\"color:blue\"><b>Time Span (in Data Aggregation)</b></span> </h7>"
   ]
  },
  {
   "cell_type": "markdown",
   "id": "0249a432-4ed9-44d7-aafa-0efe2e8a55c0",
   "metadata": {},
   "source": [
    "<h7> <span style=\"color:blue\"><b>Transaction Journal (TJ)</b></span> </h7>"
   ]
  },
  {
   "cell_type": "markdown",
   "id": "bb9da7f1-a43f-4bcd-912c-ed5b490a51f5",
   "metadata": {},
   "source": [
    "<h7> <span style=\"color:blue\"><b>Transaction Time (in Temporal Databases)</b></span> </h7>"
   ]
  },
  {
   "cell_type": "markdown",
   "id": "097a5056-5adc-4b1d-827f-c8d95dea2658",
   "metadata": {},
   "source": [
    "<h7> <span style=\"color:blue\"><b>Transactional Data</b></span> </h7>"
   ]
  },
  {
   "cell_type": "markdown",
   "id": "efbee7ff-653e-4707-919f-cbb1d507d264",
   "metadata": {},
   "source": [
    "<h7> <span style=\"color:blue\"><b>Transactional Entity</b></span> </h7>"
   ]
  },
  {
   "cell_type": "markdown",
   "id": "3f043d5c-48cf-4d3b-aa07-dd7c74746623",
   "metadata": {},
   "source": [
    "<h7> <span style=\"color:blue\"><b>Transactional Relationship</b></span> </h7>"
   ]
  },
  {
   "cell_type": "markdown",
   "id": "efcf9327-aca2-4dac-b0f2-5950ffb18369",
   "metadata": {},
   "source": [
    "<h7> <span style=\"color:blue\"><b>TSQL</b></span> </h7>"
   ]
  },
  {
   "cell_type": "markdown",
   "id": "d72ef666-6be6-460a-a806-607c8e7a43ad",
   "metadata": {},
   "source": [
    "<h7> <span style=\"color:blue\"><b>Tuple</b></span> </h7>"
   ]
  },
  {
   "cell_type": "markdown",
   "id": "c4f1784c-eeb2-4963-977a-5bb73da12f1f",
   "metadata": {},
   "source": [
    "<h7> <span style=\"color:blue\"><b>UNIQUE Constraint</b></span> </h7>"
   ]
  },
  {
   "cell_type": "markdown",
   "id": "653dfaf8-9002-476f-8470-45ef9d02313c",
   "metadata": {},
   "source": [
    "<h7> <span style=\"color:blue\"><b>Update Anomaly</b></span> </h7>"
   ]
  },
  {
   "cell_type": "markdown",
   "id": "445531b0-9cfd-45d1-b7a2-4bd6975b05de",
   "metadata": {},
   "source": [
    "<h7> <span style=\"color:blue\"><b>Valid Time (in Temporal Databases)</b></span> </h7>"
   ]
  },
  {
   "cell_type": "markdown",
   "id": "2034e68f-7a86-4b2c-b4c7-bc9ab89caed4",
   "metadata": {},
   "source": [
    "<h7> <span style=\"color:blue\"><b>View (Table View)</b></span> </h7>"
   ]
  }
 ],
 "metadata": {
  "kernelspec": {
   "display_name": "Python 3 (ipykernel)",
   "language": "python",
   "name": "python3"
  },
  "language_info": {
   "codemirror_mode": {
    "name": "ipython",
    "version": 3
   },
   "file_extension": ".py",
   "mimetype": "text/x-python",
   "name": "python",
   "nbconvert_exporter": "python",
   "pygments_lexer": "ipython3",
   "version": "3.10.9"
  }
 },
 "nbformat": 4,
 "nbformat_minor": 5
}
