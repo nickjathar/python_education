{
 "cells": [
  {
   "cell_type": "markdown",
   "id": "d8252d41-da44-4031-b3c1-cbf725aa51ed",
   "metadata": {
    "tags": []
   },
   "source": [
    "### <span style=\"color:darkred\">**Chapter 1 - Doing It With Tables (1-17)**</span>\n",
    "---"
   ]
  },
  {
   "cell_type": "markdown",
   "id": "9e75c2e7-f87f-493c-9f7e-d04928de09ef",
   "metadata": {
    "jp-MarkdownHeadingCollapsed": true,
    "tags": []
   },
   "source": [
    "#### <span style=\"color:blue\">**Introduction**</span>"
   ]
  },
  {
   "cell_type": "markdown",
   "id": "16fb21dc-b902-4b94-873b-78f7104b2db5",
   "metadata": {},
   "source": [
    "We are going to learn about the concepts, principles, techniques, and practices of database design (**DBD**), so that we can put to more effective use the \"tools of the trade\" - which include database management systems (**DBMS**), SQL, and stored procedures.\n",
    "\n",
    "- DBMSs are essential tools for building most applications that store and retrieve data and for managing all the details of where to put the bits and bytes and how to get them out again.\n",
    "\n",
    "- We are also going to dive into enough detail such that senior technology managers who want to understand the subject more deeply can then make better decisions about the architecture of complex systems of which relations DBs are a part.\n",
    "\n",
    "- Today, databases (**DB**) underlie almost all significant business and professional computer applications. Apart from a few non-relational DBs, developed for high-volume transactions processing, most of the new DBs created since the mid-1980s have been relational DBs.\n",
    "\n",
    "- Although you may read about DB systems based on \"new\" models for \"big data\", these complement, rather than replace, relational DBMSs.\n",
    "\n",
    "> <span style=\"color:brown\">*What DB models are optimized for AI?*</span>\n",
    "\n",
    "- Prior to relational DBs, there were two data models:\n",
    "  - Hierarchical model\n",
    "  - Network model"
   ]
  },
  {
   "cell_type": "markdown",
   "id": "9f10c6c8-b962-47e1-8cef-adcc37726196",
   "metadata": {
    "jp-MarkdownHeadingCollapsed": true,
    "tags": []
   },
   "source": [
    "#### <span style=\"color:blue\">**The Early Days of DBMSs**</span>"
   ]
  },
  {
   "cell_type": "markdown",
   "id": "aca14846-8951-45d2-a4ba-7977db9f7ee0",
   "metadata": {},
   "source": [
    "DBMSs have existed since the 1960s. In those early days, DBs were based on hierachical and network models.\n",
    "\n",
    "- Hierarchical models were path dependent in terms of the means for getting from a starting point to an ending point in a data chain and thus this path dependency created ambiguity in the logic needed to extract information from the model.\n",
    "\n",
    "- A lot of thought had to go into what queries users might make of the DB. If the designer got the model wrong, the user would have great difficulty in getting to the required data."
   ]
  },
  {
   "cell_type": "markdown",
   "id": "726f4305-9a2b-40ce-9742-bb5c5044f673",
   "metadata": {
    "jp-MarkdownHeadingCollapsed": true,
    "tags": []
   },
   "source": [
    "#### <span style=\"color:blue\">**The Relational Model**</span>"
   ]
  },
  {
   "cell_type": "markdown",
   "id": "df3b3816-5fa1-4e28-a75b-7da5906613e4",
   "metadata": {},
   "source": [
    "Relational DBMSs represent the third type of model and the one that is almost universally accepted today.\n",
    "\n",
    "The relational DB was introduced by **Edgar Frank Codd** in 1970 in high paper A Relational Model of Data for Large Shared Data Banks, *Communications of the ACCM, Volume 13, Number 6, June 1970* pp. 377-387.\n",
    "\n",
    "- In Codd's original paper what we call tables, columns, and rows today were referred to as relation, degree, and tuple respectively."
   ]
  },
  {
   "cell_type": "markdown",
   "id": "16797364-bfaa-4565-a115-5fc017bc8ec0",
   "metadata": {
    "jp-MarkdownHeadingCollapsed": true,
    "tags": []
   },
   "source": [
    "#### <span style=\"color:blue\">**Relational DBMS Products Emerge**</span>"
   ]
  },
  {
   "cell_type": "markdown",
   "id": "254a6170-ab1a-4bc9-9cba-d1dda8d0f42c",
   "metadata": {},
   "source": [
    "It took about 12 years after Codd's original paper for reliable DBMS software to be written, debugged, and brought to market. Two of the first DBMSs to be adopted by business in the early 1980s were **Ingres** and **Oracle**.\n",
    "\n",
    "For over a decade after that, the old \"network\" DBMSs continued to be widely used for existing busienss applications because relational DBMSs consumerd a lot of computing power.\n",
    "\n",
    "To this day, only ***relational*** from Codd's original terminology continues to be used when discussing DBMSs where relational means \"based on relations\" or more simply \"based on tables\".\n",
    "\n",
    "A \"query\" tells the DB to make associations between the columns of two or more tables at the time the query is executed.\n",
    "\n",
    "- There is a subtle but important point here: connections between tables exist in the mind of the DB designer and DB users; but, for the DBMS, these connections do not exist outside the context of the quereies."
   ]
  },
  {
   "cell_type": "markdown",
   "id": "b9ec7ba7-d5ce-417e-b04c-93f31cf75244",
   "metadata": {},
   "source": [
    "<h7> <span style=\"color:blue\"><b>Query Languages</b></span> </h7>"
   ]
  },
  {
   "cell_type": "markdown",
   "id": "f0062231-4d0d-4ed9-8e0d-d10a1c196677",
   "metadata": {},
   "source": [
    "After defining the relational DB, Codd next defined a query language that users would use to interact with relations DBs.\n",
    "\n",
    "- However, because the data in a relational DB was to be stored in a radically different way, the relational model required a completely new query language.\n",
    "\n",
    "A query in its function to retrieve data operates in one of two ways:\n",
    "\n",
    "- **Key-based** queries that retrieve rows based on filters against key columns.\n",
    "- **Non-key-based** queries that retrieve rows based on filters against non-key columns.\n",
    "\n",
    "Because retrieval of data according to values in non-key columns cannot take advantage of indexes, non-key-based queries place a heavier processing load on the DBMS relative to key-based queries and take longer to execute.\n",
    "\n",
    "- Relational DBMSs internally generate sorting indexes on key columns and therefore DB users are not aware of their existence.\n",
    "- If users are found to be performing a lot of non-key-based queries, DB admins can decide to instruct the DBMS to generate a secondary set pf sorting indices for those non-key columns.\n",
    "\n",
    "In the early days query languages developed in two modes:\n",
    "\n",
    "- Those using **relational algebra** that implemented procedural methods to extract information.\n",
    "- Those using **relational calculus** that implemented declarative method to extract information. This mode became preferred because putting the way queries were executed entirely in the hands of the user turned out to be a poor choice."
   ]
  },
  {
   "cell_type": "markdown",
   "id": "55a219aa-7dd2-40fd-8adb-2bc2d2846184",
   "metadata": {},
   "source": [
    "<h7> <span style=\"color:blue\"><b>DBMSs Today</b></span> </h7>"
   ]
  },
  {
   "cell_type": "markdown",
   "id": "b98d9fe7-d781-4fec-8680-29644d17658c",
   "metadata": {},
   "source": [
    "<h7> <span style=\"color:blue\"><b>Schemas, Subschemas, and Views</b></span> </h7>"
   ]
  },
  {
   "cell_type": "markdown",
   "id": "26fc59a6-6afb-4077-93d7-7d8a7bd9bba7",
   "metadata": {},
   "source": [
    "<h7> <span style=\"color:blue\"><b>Normalization</b></span> </h7>"
   ]
  },
  {
   "cell_type": "markdown",
   "id": "9675b985-a6af-4eb8-9be0-6773976404b2",
   "metadata": {},
   "source": [
    "<h7> <span style=\"color:blue\"><b>The Story So Far</b></span> </h7>"
   ]
  },
  {
   "cell_type": "markdown",
   "id": "dc374a59-c328-4d8d-bac7-2af7e5338d63",
   "metadata": {},
   "source": [
    "<h7> <span style=\"color:blue\"><b>Summary of Jargon</b></span> </h7>"
   ]
  },
  {
   "cell_type": "markdown",
   "id": "186d8555-b2e6-428d-84f4-3fada0be0269",
   "metadata": {
    "jp-MarkdownHeadingCollapsed": true,
    "tags": []
   },
   "source": [
    "<h4> <span style=\"color:darkred\"><b>Chapter 2 - Thinking About Data More Clearly (18-35)</b></span> </h4>"
   ]
  },
  {
   "cell_type": "markdown",
   "id": "e0218da7-3cd8-475b-bb98-82c151b2f692",
   "metadata": {},
   "source": [
    "<h7> <span style=\"color:blue\"><b>The Entity-Relationship Model (E-R Model)</b></span> </h7>"
   ]
  },
  {
   "cell_type": "markdown",
   "id": "b93b5228-bceb-42f0-b793-3d26967463a3",
   "metadata": {},
   "source": [
    "<h7> <span style=\"color:blue\"><b>Key Selection</b></span> </h7>"
   ]
  },
  {
   "cell_type": "markdown",
   "id": "d888cb4f-cd80-4582-844d-97681e75c3e2",
   "metadata": {},
   "source": [
    "<h7> <span style=\"color:blue\"><b>Attributes of Relationships</b></span> </h7>"
   ]
  },
  {
   "cell_type": "markdown",
   "id": "55f25867-dc8a-42c1-b51c-bad715823bf7",
   "metadata": {},
   "source": [
    "<h7> <span style=\"color:blue\"><b>Summary of Jargon (Part 2)</b></span> </h7>"
   ]
  },
  {
   "cell_type": "markdown",
   "id": "e49003d6-aef0-4180-8f0a-9e07de393c62",
   "metadata": {},
   "source": [
    "<h7> <span style=\"color:blue\"><b>Drawing an E-R- Diagram</b></span> </h7>"
   ]
  },
  {
   "cell_type": "markdown",
   "id": "55ec76cc-fe4d-46cc-9a77-1a6520535cbe",
   "metadata": {},
   "source": [
    "<h7> <span style=\"color:blue\"><b>Using an E-R Diagram to Design a Database</b></span> </h7>"
   ]
  },
  {
   "cell_type": "markdown",
   "id": "43a0d66f-7956-4fbb-8170-ae6e25fabd4b",
   "metadata": {},
   "source": [
    "<h7> <span style=\"color:blue\"><b>Naming Tables</b></span> </h7>"
   ]
  },
  {
   "cell_type": "markdown",
   "id": "6754eaa0-d0da-4dc8-a4c3-b57e16ce27a4",
   "metadata": {},
   "source": [
    "<h7> <span style=\"color:blue\"><b>Normalization</b></span> </h7>"
   ]
  },
  {
   "cell_type": "markdown",
   "id": "5d77b2ce-04ce-4704-8170-14a136ce03b1",
   "metadata": {},
   "source": [
    "<h7> <span style=\"color:blue\"><b>Creating the Database</b></span> </h7>"
   ]
  },
  {
   "cell_type": "markdown",
   "id": "a1c1cf85-46c9-41c7-a617-7132e208ad9b",
   "metadata": {},
   "source": [
    "<h7> <span style=\"color:blue\"><b>A Brief Note on the Writing Conventions Used in this Book</b></span> </h7>"
   ]
  },
  {
   "cell_type": "markdown",
   "id": "c7d1283a-22b2-4022-8b9f-eaef1108bcdb",
   "metadata": {},
   "source": [
    "<h7> <span style=\"color:blue\"><b>Case-Sensitivity in DBMSs</b></span> </h7>"
   ]
  },
  {
   "cell_type": "markdown",
   "id": "1c13e648-e042-4fad-85b5-3e2c0b74dda3",
   "metadata": {},
   "source": [
    "<h7> <span style=\"color:blue\"><b>The Database Design Process Summarized</b></span> </h7>"
   ]
  },
  {
   "cell_type": "markdown",
   "id": "22f0c340-cd7f-4174-a436-485ea26d963f",
   "metadata": {
    "jp-MarkdownHeadingCollapsed": true,
    "tags": []
   },
   "source": [
    "<h4> <span style=\"color:darkred\"><b>Chapter 3 - Nulls, Keys, and Cardinality (36-43)</b></span> </h4>"
   ]
  },
  {
   "cell_type": "markdown",
   "id": "96210573-d4ac-4ea9-aef6-07378a7cba4d",
   "metadata": {},
   "source": [
    "<h7> <span style=\"color:blue\"><b>The Final Steps in Creating Tables</b></span> </h7>"
   ]
  },
  {
   "cell_type": "markdown",
   "id": "f52fe87e-3204-447e-9152-30dacc59a424",
   "metadata": {},
   "source": [
    "<h7> <span style=\"color:blue\"><b>NULL and NOT NULL Constraints</b></span> </h7>"
   ]
  },
  {
   "cell_type": "markdown",
   "id": "7f56ab0f-7373-4157-8044-f32d79d3d4af",
   "metadata": {},
   "source": [
    "<h7> <span style=\"color:blue\"><b>Designation of Key Columns</b></span> </h7>"
   ]
  },
  {
   "cell_type": "markdown",
   "id": "b1183823-dd19-4e6d-a02f-a923de00b388",
   "metadata": {},
   "source": [
    "<h7> <span style=\"color:blue\"><b>Cardinality of Relationships</b></span> </h7>"
   ]
  },
  {
   "cell_type": "markdown",
   "id": "4a08c887-f923-4f3f-aaff-4a80abe1da6f",
   "metadata": {
    "jp-MarkdownHeadingCollapsed": true,
    "tags": []
   },
   "source": [
    "<h4> <span style=\"color:darkred\"><b>Chapter 4 - Normalization of Relational Database Designs (44-54)</b></span> </h4>"
   ]
  },
  {
   "cell_type": "markdown",
   "id": "a99fea81-2739-4aaf-9ad2-1e0eb5d722cb",
   "metadata": {},
   "source": [
    "<h7> <span style=\"color:blue\"><b>Normalization: an Art, not a Science</b></span> </h7>"
   ]
  },
  {
   "cell_type": "markdown",
   "id": "543cec20-dd2b-409b-8736-f1b90b2e17fa",
   "metadata": {
    "jp-MarkdownHeadingCollapsed": true,
    "tags": []
   },
   "source": [
    "<h6>$\\hspace{10pt}$ Normalization is not a \"mechanical\" exercise - nobody has managed to write a program non-normalized database specifications as inputs (table names, column names for key / non-key attributes) with the output being a fully normalized database.<br><br>\n",
    "$\\hspace{10pt}$ Normalization is an intellectual exercise in that it requires an understanding of the meaning of the data entities and relationships.<br><br>\n",
    "$\\hspace{10pt}$ Whenever you see tables with non-key attributes, have to think hard about whether each non-key attribute is fundamentally an attribute of the entities in the entity set from which the table was derived.<br>\n",
    "$\\hspace{10pt}$ Furthermore, you also have to think hard about the subtle rules that govern the values that attributes may take.</h6>"
   ]
  },
  {
   "cell_type": "markdown",
   "id": "cf5f1df9-b26c-478e-84ae-d3de0814c0e2",
   "metadata": {},
   "source": [
    "<h7> <span style=\"color:blue\"><b>A Brief History of Normalization</b></span> </h7>"
   ]
  },
  {
   "cell_type": "markdown",
   "id": "4ca0ad86-735f-4d92-b54c-bcbf9350e801",
   "metadata": {
    "jp-MarkdownHeadingCollapsed": true,
    "tags": []
   },
   "source": [
    "<h6>$\\hspace{10pt}$ Codd identified the problem of anomalies arising from insertions and deletions (and, in some special cases, updates).<br><br>\n",
    "$\\hspace{10pt}$ Eleven years later, Ronald Fagin defined a condition called Domain/Key Normal Form (DK/NF) and showed that DB normalized according to DK/NF cannot exhibit insertion/deletion anomalies (modification anomalies).<br><br>\n",
    "$\\hspace{10pt}$ According to Codd, 1NF is the least normalized table. At a minimum all an 1NF table needs is a key column(s). Codd continued by adding 2NF through 5NF.<br>\n",
    "$\\hspace{10pt}$ Furthermore, you also have to think hard about the subtle rules that govern the values that attributes may take.</h6>"
   ]
  },
  {
   "cell_type": "markdown",
   "id": "c43f9250-d5e8-4ee3-89b1-e17069ce9be3",
   "metadata": {},
   "source": [
    "<h7> <span style=\"color:blue\"><b>Learning to Perform Normalization</b></span> </h7>"
   ]
  },
  {
   "cell_type": "markdown",
   "id": "14f489b5-bf95-469f-9c60-200c1cd8245b",
   "metadata": {},
   "source": [
    "<h7> <span style=\"color:blue\"><b>Good-Enough Normalization</b></span> </h7>"
   ]
  },
  {
   "cell_type": "markdown",
   "id": "b2594fd3-bb0d-41b4-85e7-560c12ea4683",
   "metadata": {},
   "source": [
    "<h7> <span style=\"color:blue\"><b>The Rule Most Often Broken</b></span> </h7>"
   ]
  },
  {
   "cell_type": "markdown",
   "id": "6a61827d-209f-46d7-a86f-8811d1653617",
   "metadata": {},
   "source": [
    "<h7> <span style=\"color:blue\"><b>Practicing Normalization</b></span> </h7>"
   ]
  },
  {
   "cell_type": "markdown",
   "id": "953490e9-6bf3-43cf-81d0-5d017c5a050f",
   "metadata": {
    "jp-MarkdownHeadingCollapsed": true,
    "tags": []
   },
   "source": [
    "<h4> <span style=\"color:darkred\"><b>Chapter 5 - Some Practical Aspects of Using a DBMS (55-70)</b></span> </h4>"
   ]
  },
  {
   "cell_type": "markdown",
   "id": "27f496c1-d7b2-4ab7-8dd9-d8488e5eb0a4",
   "metadata": {},
   "source": [
    "<h7> <span style=\"color:blue\"><b>Introduction</b></span> </h7>"
   ]
  },
  {
   "cell_type": "markdown",
   "id": "537b7d2a-1ff4-4d86-af19-6720c461ba09",
   "metadata": {},
   "source": [
    "<h7> <span style=\"color:blue\"><b>Classes of Database Users</b></span> </h7>"
   ]
  },
  {
   "cell_type": "markdown",
   "id": "9e8dd946-b90e-4c58-af60-c4f23032cef7",
   "metadata": {
    "jp-MarkdownHeadingCollapsed": true,
    "tags": []
   },
   "source": [
    "<h6> The value of most DBs lie in the fact that the data contained in them (a) is a result of actions of many users and (b) is made available to many users. </h6>\n",
    "<h6> In practice, most DB \"users\" are unaware that they are interacting with a shared DB, because they interact with application software, which in turn interacts with the DB. </h6>\n",
    "<h6> Application software essentially \"talks\" to the DB using SQL. </h6>\n",
    "<h6> Because DBs can have many users, one important characteristic of all major DBMSs is that they have a means of recognizing users and granting to those users the rights that are appropriate for their roles. </h6>\n",
    "<h6> Users who access a DB directly would typically have rights to read, add, delete, and update rows in the DB. </h6>\n",
    "<h6> Users who access a DB indirectly via application software, will typically not have individual accounts on the DBMS. </h6>\n",
    "<h6> Indirect users interact via an application software layer in which the application software is granted access to the DB via a generic account. </h6>"
   ]
  },
  {
   "cell_type": "markdown",
   "id": "b545475e-d317-40b0-b200-26a684d5016d",
   "metadata": {
    "tags": []
   },
   "source": [
    "<h6> Read-only is the lowest level of privilege that can be given to a DB user or application software. </h6>\n",
    "<h6> Various hands-on users include: </h6>\n",
    "<h6> 1) The DB designer - who are typically given fairly high level privileges on development DBs but reduced privileges to the corresponding production DBs. </h6>\n",
    "<h6> 2) The DB administrator - who are responsible for keeping the DB is good working order and are typically given the highest level of privileges. </h6>\n",
    "<h6> 3) Application programmers - who write and maintain application software that interacts with the DBs have privileges similar to DB designers. </h6>"
   ]
  },
  {
   "cell_type": "markdown",
   "id": "858ac1e2-5f45-482c-b6ac-d9e8eea187d6",
   "metadata": {},
   "source": [
    "<h7> <span style=\"color:blue\"><b>Stored Procedures</b></span> </h7>"
   ]
  },
  {
   "cell_type": "markdown",
   "id": "4b60c1ad-e19d-4195-a35d-6676b214865b",
   "metadata": {},
   "source": [
    "<h7> <span style=\"color:blue\"><b>Interacting with a DBMS</b></span> </h7>"
   ]
  },
  {
   "cell_type": "markdown",
   "id": "345850b9-c6ff-40d2-a589-6eb20bcaf725",
   "metadata": {},
   "source": [
    "<h7> <span style=\"color:blue\"><b>Creating Tables</b></span> </h7>"
   ]
  },
  {
   "cell_type": "markdown",
   "id": "dd3e6b68-b205-4b56-92b3-aee04e5550af",
   "metadata": {},
   "source": [
    "<h7> <span style=\"color:blue\"><b>Foreign Keys</b></span> </h7>"
   ]
  },
  {
   "cell_type": "markdown",
   "id": "71504977-898a-4ab3-a06d-15a488e7b020",
   "metadata": {},
   "source": [
    "<h7> <span style=\"color:blue\"><b>Table Aliases</b></span> </h7>"
   ]
  },
  {
   "cell_type": "markdown",
   "id": "1ae9574d-45b3-45ff-ba41-5b6312b41ece",
   "metadata": {
    "tags": []
   },
   "source": [
    "<h6> A table alias is a name (typically a very short one) that a user, or a stored procedure programmer, assigns to a table within a query or a stored procedure. </h6>\n",
    "<h6> Table aliases make it needlessly hard for someone else to follow how an SQL command or stored procedure works, making maintenance unnecessarily difficult. </h6>\n",
    "<h6> Table aliases are particularly confusing when different programmers use different aliases for the same table. </h6>\n",
    "<h5> <span style=\"color:red\">Don't use table aliases.</span> </h5>"
   ]
  }
 ],
 "metadata": {
  "kernelspec": {
   "display_name": "Python 3 (ipykernel)",
   "language": "python",
   "name": "python3"
  },
  "language_info": {
   "codemirror_mode": {
    "name": "ipython",
    "version": 3
   },
   "file_extension": ".py",
   "mimetype": "text/x-python",
   "name": "python",
   "nbconvert_exporter": "python",
   "pygments_lexer": "ipython3",
   "version": "3.10.9"
  }
 },
 "nbformat": 4,
 "nbformat_minor": 5
}
