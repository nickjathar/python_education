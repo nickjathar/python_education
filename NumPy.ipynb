{
 "cells": [
  {
   "cell_type": "markdown",
   "id": "a4117508-e2b4-4866-81f4-f6b0a0b63b9e",
   "metadata": {},
   "source": [
    "#### NumPy"
   ]
  },
  {
   "cell_type": "markdown",
   "id": "28389bf8-a685-40b3-92ce-109a3c48711f",
   "metadata": {},
   "source": [
    "<h6> NumPy arrays are stored more efficiently than Python lists and allow mathematical operations to be vectorized.</h6>"
   ]
  },
  {
   "cell_type": "markdown",
   "id": "75bfe87b-68dc-40ec-a483-9cc34e7219a0",
   "metadata": {},
   "source": [
    "<h6> Vectorized operations have significantly higher performance compared to looping constructs in Python. </h6>"
   ]
  },
  {
   "cell_type": "markdown",
   "id": "4b50ff6d-5c68-4e07-9764-db1b234a8fee",
   "metadata": {},
   "source": [
    "<h6> Benefits of NumPy arrays: </h6>\n",
    "* Continguous allocation in memory <br>\n",
    "* Vectorized <br>\n",
    "* Boolean selection <br>\n",
    "* Sliceability"
   ]
  },
  {
   "cell_type": "code",
   "execution_count": 3,
   "id": "e7d1028c-0c7d-472c-8d50-48a0fe281268",
   "metadata": {
    "tags": []
   },
   "outputs": [],
   "source": [
    "import numpy as np"
   ]
  },
  {
   "cell_type": "markdown",
   "id": "007adb9f-61ba-437a-847e-f475f7f2176a",
   "metadata": {},
   "source": [
    "###### Creating NumPy arrays from a list"
   ]
  },
  {
   "cell_type": "code",
   "execution_count": 5,
   "id": "42eb4ff6-a834-4747-90f9-7271c0ff3302",
   "metadata": {
    "tags": []
   },
   "outputs": [
    {
     "data": {
      "text/plain": [
       "array([1, 2, 3, 4, 5])"
      ]
     },
     "execution_count": 5,
     "metadata": {},
     "output_type": "execute_result"
    }
   ],
   "source": [
    "a1 = np.array([1, 2, 3, 4, 5])\n",
    "a1"
   ]
  },
  {
   "cell_type": "code",
   "execution_count": 10,
   "id": "61411afe-dee6-45be-9762-1a7d1d9fc55c",
   "metadata": {
    "tags": []
   },
   "outputs": [
    {
     "data": {
      "text/plain": [
       "numpy.ndarray"
      ]
     },
     "execution_count": 10,
     "metadata": {},
     "output_type": "execute_result"
    }
   ],
   "source": [
    "type(a1)"
   ]
  },
  {
   "cell_type": "code",
   "execution_count": 7,
   "id": "f196ee1b-b712-44c7-b1fc-2d6e6a4384b2",
   "metadata": {
    "tags": []
   },
   "outputs": [
    {
     "data": {
      "text/plain": [
       "dtype('int32')"
      ]
     },
     "execution_count": 7,
     "metadata": {},
     "output_type": "execute_result"
    }
   ],
   "source": [
    "a1.dtype"
   ]
  },
  {
   "cell_type": "code",
   "execution_count": 8,
   "id": "2218eb8b-7371-4569-b185-53f9ba259beb",
   "metadata": {
    "tags": []
   },
   "outputs": [
    {
     "data": {
      "text/plain": [
       "5"
      ]
     },
     "execution_count": 8,
     "metadata": {},
     "output_type": "execute_result"
    }
   ],
   "source": [
    "np.size(a1)"
   ]
  },
  {
   "cell_type": "code",
   "execution_count": 13,
   "id": "2800011a-161c-4910-8ed0-a8c470a8ba57",
   "metadata": {
    "tags": []
   },
   "outputs": [
    {
     "data": {
      "text/plain": [
       "[0, 0, 0, 0, 0, 0, 0, 0, 0, 0]"
      ]
     },
     "execution_count": 13,
     "metadata": {},
     "output_type": "execute_result"
    }
   ],
   "source": [
    "ls2 = [0]*10\n",
    "ls2"
   ]
  },
  {
   "cell_type": "code",
   "execution_count": 14,
   "id": "17303ae5-6841-45eb-8de3-88e15510e2ba",
   "metadata": {
    "tags": []
   },
   "outputs": [
    {
     "data": {
      "text/plain": [
       "array([0, 0, 0, 0, 0, 0, 0, 0, 0, 0])"
      ]
     },
     "execution_count": 14,
     "metadata": {},
     "output_type": "execute_result"
    }
   ],
   "source": [
    "a2 = np.array(ls2)\n",
    "a2"
   ]
  },
  {
   "cell_type": "code",
   "execution_count": 15,
   "id": "ddce432c-d119-4035-be1f-a24ba35f139b",
   "metadata": {
    "tags": []
   },
   "outputs": [
    {
     "data": {
      "text/plain": [
       "range(0, 10)"
      ]
     },
     "execution_count": 15,
     "metadata": {},
     "output_type": "execute_result"
    }
   ],
   "source": [
    "r3 = range(10)\n",
    "r3"
   ]
  },
  {
   "cell_type": "code",
   "execution_count": 18,
   "id": "746f496e-f8ce-4367-9b11-7dcbb33e2c30",
   "metadata": {
    "tags": []
   },
   "outputs": [
    {
     "data": {
      "text/plain": [
       "range"
      ]
     },
     "execution_count": 18,
     "metadata": {},
     "output_type": "execute_result"
    }
   ],
   "source": [
    "type(r3)"
   ]
  },
  {
   "cell_type": "code",
   "execution_count": 17,
   "id": "ae50bd62-cd39-4d2c-bd74-518b7bdc0618",
   "metadata": {
    "tags": []
   },
   "outputs": [
    {
     "data": {
      "text/plain": [
       "array([0, 1, 2, 3, 4, 5, 6, 7, 8, 9])"
      ]
     },
     "execution_count": 17,
     "metadata": {},
     "output_type": "execute_result"
    }
   ],
   "source": [
    "a3 = np.array(r3)\n",
    "a3"
   ]
  },
  {
   "cell_type": "markdown",
   "id": "3ccc72d5-e2c1-44d1-9e17-4d7c8c49804b",
   "metadata": {},
   "source": [
    "###### Creating NumPy arrays more efficiently"
   ]
  },
  {
   "cell_type": "code",
   "execution_count": 19,
   "id": "951437ea-6d47-438e-b636-c9a7fd9ce1f6",
   "metadata": {
    "tags": []
   },
   "outputs": [
    {
     "data": {
      "text/plain": [
       "array([0., 0., 0., 0., 0., 0., 0., 0., 0., 0.])"
      ]
     },
     "execution_count": 19,
     "metadata": {},
     "output_type": "execute_result"
    }
   ],
   "source": [
    "a3a = np.zeros(10)\n",
    "a3a                                                                                                                                                                                                                                                                                                                                                                                                                                                                                                                                                                                                                                                                                                                                                                                                                                                                                                                                                                                                                                                                                                                                                                                                                                                                                                                                                                                                                                                                                                                                                                                                                                                                                                                                                                                                                                                                                                                                                                                                                                                                                                                                                                                                                                                                                                                                                                                                                                                                                                                                                                                                                                                                                                                                                                                                                                                                                                                                                                                                                                                                                                                                                                                                                                                                                                                                                                                                                                                                                                                                                                                                                                                                                                                                                                                                                                                                                                                                                                                                                                                                                                                                                                                                                                                                                                                                                                                                                                                                                                                                                                                                                                                                                                                                                                                                                                                                                                                                                                                                                                                                                                                                                                                                                                                                                                                                                                                                                                                                                                                                                                                                                                                                                                                                                                                                                                                                                                                                                                                                                                                                                                                                                                                                                                                                                                                                                                                                                                                                                                                                                                                                                                                                                                                                                                                                                                                                                                                                                                                                                                                                                                                                                                                                                                                                                                                                                                                                                                                                                                                                                                                                                                                                                                                                                                                                                                                                                                                                                                                                                                                                                                 "
   ]
  },
  {
   "cell_type": "code",
   "execution_count": 20,
   "id": "028200e3-e56a-4ece-9f15-63dfaefb918f",
   "metadata": {
    "tags": []
   },
   "outputs": [
    {
     "data": {
      "text/plain": [
       "array([0, 0, 0, 0, 0, 0, 0, 0, 0, 0])"
      ]
     },
     "execution_count": 20,
     "metadata": {},
     "output_type": "execute_result"
    }
   ],
   "source": [
    "a3b = np.zeros(10, dtype=int)\n",
    "a3b             "
   ]
  },
  {
   "cell_type": "code",
   "execution_count": 30,
   "id": "e7d3d7d4-17f4-4913-98e8-e56c23e55565",
   "metadata": {
    "tags": []
   },
   "outputs": [
    {
     "data": {
      "text/plain": [
       "array([0., 1., 2., 3., 4., 5., 6., 7., 8., 9.])"
      ]
     },
     "execution_count": 30,
     "metadata": {},
     "output_type": "execute_result"
    }
   ],
   "source": [
    "a4 = np.arange(0, 10, dtype=float)\n",
    "a4"
   ]
  },
  {
   "cell_type": "code",
   "execution_count": 23,
   "id": "b58058ff-ed51-4edb-864f-e098e98e0362",
   "metadata": {
    "tags": []
   },
   "outputs": [
    {
     "data": {
      "text/plain": [
       "array([0, 2, 4, 6, 8])"
      ]
     },
     "execution_count": 23,
     "metadata": {},
     "output_type": "execute_result"
    }
   ],
   "source": [
    "a5 = np.arange(0, 10, 2)\n",
    "a5"
   ]
  },
  {
   "cell_type": "code",
   "execution_count": 25,
   "id": "10a3e5dc-d96f-4eb5-b3a1-6a177517260a",
   "metadata": {
    "tags": []
   },
   "outputs": [
    {
     "data": {
      "text/plain": [
       "array([10,  9,  8,  7,  6,  5,  4,  3,  2,  1])"
      ]
     },
     "execution_count": 25,
     "metadata": {},
     "output_type": "execute_result"
    }
   ],
   "source": [
    "a6 = np.arange(10, 0, -1)\n",
    "a6"
   ]
  },
  {
   "cell_type": "code",
   "execution_count": 29,
   "id": "28a40bf8-64b8-418b-9833-aa8ee91dc200",
   "metadata": {
    "tags": []
   },
   "outputs": [
    {
     "data": {
      "text/plain": [
       "array([ 0. ,  0.5,  1. ,  1.5,  2. ,  2.5,  3. ,  3.5,  4. ,  4.5,  5. ,\n",
       "        5.5,  6. ,  6.5,  7. ,  7.5,  8. ,  8.5,  9. ,  9.5, 10. ])"
      ]
     },
     "execution_count": 29,
     "metadata": {},
     "output_type": "execute_result"
    }
   ],
   "source": [
    "a7 = np.linspace(0, 10, 21)\n",
    "a7"
   ]
  },
  {
   "cell_type": "code",
   "execution_count": 38,
   "id": "edc2f516-7d81-4e88-89fd-b89f0254cdc7",
   "metadata": {
    "tags": []
   },
   "outputs": [
    {
     "name": "stdout",
     "output_type": "stream",
     "text": [
      "a7 is an <class 'numpy.ndarray'> NumPy array --> [ 0.   0.5  1.   1.5  2.   2.5  3.   3.5  4.   4.5  5.   5.5  6.   6.5\n",
      "  7.   7.5  8.   8.5  9.   9.5 10. ] \n",
      "\n",
      "a7 * 10 --> [  0.   5.  10.  15.  20.  25.  30.  35.  40.  45.  50.  55.  60.  65.\n",
      "  70.  75.  80.  85.  90.  95. 100.]\n"
     ]
    }
   ],
   "source": [
    "# multiply an NumPy array by a number\n",
    "print(f\"a7 is an {type(a7)} NumPy array --> {a7} \\n\")\n",
    "print(f\"a7 * 10 --> {a7*10}\")"
   ]
  },
  {
   "cell_type": "code",
   "execution_count": 41,
   "id": "29cb9dc9-bcd8-4abd-84cb-b8088ebba2f0",
   "metadata": {
    "tags": []
   },
   "outputs": [
    {
     "data": {
      "text/plain": [
       "array([12, 16, 20, 24, 28])"
      ]
     },
     "execution_count": 41,
     "metadata": {},
     "output_type": "execute_result"
    }
   ],
   "source": [
    "a8 = np.arange(1, 10, 2)\n",
    "a9 = np.arange(11, 20, 2)\n",
    "a10 = a8 + a9                               # arrays have to be the same size and dimension for operations across two or more arrays\n",
    "a10"
   ]
  },
  {
   "cell_type": "code",
   "execution_count": 43,
   "id": "094adc9c-da3f-40a1-8c6b-ccd84ff6fb1d",
   "metadata": {
    "tags": []
   },
   "outputs": [
    {
     "data": {
      "text/plain": [
       "array([[11, 12],\n",
       "       [21, 22]])"
      ]
     },
     "execution_count": 43,
     "metadata": {},
     "output_type": "execute_result"
    }
   ],
   "source": [
    "a11 = np.array([[11, 12], [21, 22]])\n",
    "a11"
   ]
  },
  {
   "cell_type": "code",
   "execution_count": 44,
   "id": "a5d71afa-6e39-45e2-8756-d5a7784d4e41",
   "metadata": {
    "tags": []
   },
   "outputs": [
    {
     "data": {
      "text/plain": [
       "array([[11, 12],\n",
       "       [21, 22]])"
      ]
     },
     "execution_count": 44,
     "metadata": {},
     "output_type": "execute_result"
    }
   ],
   "source": [
    "a12 = np.array([np.arange(11, 13), np.arange(21, 23)])\n",
    "a12"
   ]
  },
  {
   "cell_type": "code",
   "execution_count": 51,
   "id": "f60a89ad-69e5-45d4-8ba2-34a237cb22c6",
   "metadata": {
    "tags": []
   },
   "outputs": [
    {
     "data": {
      "text/plain": [
       "array([[  1,   2,   3,   4,   5],\n",
       "       [  6,   7,   8,   9,  10],\n",
       "       [ 11,  12,  13,  14,  15],\n",
       "       [ 16,  17,  18,  19,  20],\n",
       "       [ 21,  22,  23,  24,  25],\n",
       "       [ 26,  27,  28,  29,  30],\n",
       "       [ 31,  32,  33,  34,  35],\n",
       "       [ 36,  37,  38,  39,  40],\n",
       "       [ 41,  42,  43,  44,  45],\n",
       "       [ 46,  47,  48,  49,  50],\n",
       "       [ 51,  52,  53,  54,  55],\n",
       "       [ 56,  57,  58,  59,  60],\n",
       "       [ 61,  62,  63,  64,  65],\n",
       "       [ 66,  67,  68,  69,  70],\n",
       "       [ 71,  72,  73,  74,  75],\n",
       "       [ 76,  77,  78,  79,  80],\n",
       "       [ 81,  82,  83,  84,  85],\n",
       "       [ 86,  87,  88,  89,  90],\n",
       "       [ 91,  92,  93,  94,  95],\n",
       "       [ 96,  97,  98,  99, 100]])"
      ]
     },
     "execution_count": 51,
     "metadata": {},
     "output_type": "execute_result"
    }
   ],
   "source": [
    "a13 = np.arange(1, 101)\n",
    "a13 = a13.reshape(20, 5)\n",
    "a13"
   ]
  },
  {
   "cell_type": "code",
   "execution_count": 53,
   "id": "31473f6f-4273-416a-868f-b6b022e341d2",
   "metadata": {
    "tags": []
   },
   "outputs": [
    {
     "data": {
      "text/plain": [
       "array([[  1,   2,   3,   4,   5],\n",
       "       [  6,   7,   8,   9,  10],\n",
       "       [ 11,  12,  13,  14,  15],\n",
       "       [ 16,  17,  18,  19,  20],\n",
       "       [ 21,  22,  23,  24,  25],\n",
       "       [ 26,  27,  28,  29,  30],\n",
       "       [ 31,  32,  33,  34,  35],\n",
       "       [ 36,  37,  38,  39,  40],\n",
       "       [ 41,  42,  43,  44,  45],\n",
       "       [ 46,  47,  48,  49,  50],\n",
       "       [ 51,  52,  53,  54,  55],\n",
       "       [ 56,  57,  58,  59,  60],\n",
       "       [ 61,  62,  63,  64,  65],\n",
       "       [ 66,  67,  68,  69,  70],\n",
       "       [ 71,  72,  73,  74,  75],\n",
       "       [ 76,  77,  78,  79,  80],\n",
       "       [ 81,  82,  83,  84,  85],\n",
       "       [ 86,  87,  88,  89,  90],\n",
       "       [ 91,  92,  93,  94,  95],\n",
       "       [ 96,  97,  98,  99, 100]])"
      ]
     },
     "execution_count": 53,
     "metadata": {},
     "output_type": "execute_result"
    }
   ],
   "source": [
    "a14 = np.arange(1, 101).reshape(20, 5)\n",
    "a14"
   ]
  },
  {
   "cell_type": "code",
   "execution_count": 54,
   "id": "18553f3d-aa9f-4de4-86b0-86fac002244d",
   "metadata": {
    "tags": []
   },
   "outputs": [
    {
     "data": {
      "text/plain": [
       "100"
      ]
     },
     "execution_count": 54,
     "metadata": {},
     "output_type": "execute_result"
    }
   ],
   "source": [
    "np.size(a14)"
   ]
  },
  {
   "cell_type": "code",
   "execution_count": 55,
   "id": "a82c0760-3a21-4d53-845f-88b76b6f6fc5",
   "metadata": {
    "tags": []
   },
   "outputs": [
    {
     "data": {
      "text/plain": [
       "20"
      ]
     },
     "execution_count": 55,
     "metadata": {},
     "output_type": "execute_result"
    }
   ],
   "source": [
    "np.size(a14, 0)      # 0 refers to rows"
   ]
  },
  {
   "cell_type": "code",
   "execution_count": 58,
   "id": "d105b62d-1aa5-4cbb-a021-5d3b3ab89d8b",
   "metadata": {
    "tags": []
   },
   "outputs": [
    {
     "data": {
      "text/plain": [
       "5"
      ]
     },
     "execution_count": 58,
     "metadata": {},
     "output_type": "execute_result"
    }
   ],
   "source": [
    "np.size(a14, 1)      # 1 refers to columns"
   ]
  },
  {
   "cell_type": "code",
   "execution_count": 66,
   "id": "27de0d35-a382-4d19-9ba3-8f08457d9ea7",
   "metadata": {
    "tags": []
   },
   "outputs": [
    {
     "data": {
      "text/plain": [
       "array([46, 47, 48, 49, 50])"
      ]
     },
     "execution_count": 66,
     "metadata": {},
     "output_type": "execute_result"
    }
   ],
   "source": [
    "a14[9]            # selects the 10th row of a two-dimensional array (using zero-position indexing)"
   ]
  },
  {
   "cell_type": "code",
   "execution_count": 67,
   "id": "c5dd9e78-de11-4e2d-b30d-d44e309f0506",
   "metadata": {
    "tags": []
   },
   "outputs": [
    {
     "data": {
      "text/plain": [
       "18"
      ]
     },
     "execution_count": 67,
     "metadata": {},
     "output_type": "execute_result"
    }
   ],
   "source": [
    "a14[3, 2]         # picks off the 4th row, 3rd column value (using zero-position indexing)"
   ]
  },
  {
   "cell_type": "code",
   "execution_count": 68,
   "id": "a826f4be-dccc-420d-bdee-aa69b3e6173b",
   "metadata": {
    "tags": []
   },
   "outputs": [
    {
     "data": {
      "text/plain": [
       "array([46, 47, 48, 49, 50])"
      ]
     },
     "execution_count": 68,
     "metadata": {},
     "output_type": "execute_result"
    }
   ],
   "source": [
    "a14[9, ]          # identical to a14[9]"
   ]
  },
  {
   "cell_type": "code",
   "execution_count": 69,
   "id": "3ccaa7ab-892f-45cf-a02a-c383f2ee5801",
   "metadata": {
    "jp-MarkdownHeadingCollapsed": true,
    "tags": []
   },
   "outputs": [
    {
     "data": {
      "text/plain": [
       "array([ 1,  6, 11, 16, 21, 26, 31, 36, 41, 46, 51, 56, 61, 66, 71, 76, 81,\n",
       "       86, 91, 96])"
      ]
     },
     "execution_count": 69,
     "metadata": {},
     "output_type": "execute_result"
    }
   ],
   "source": [
    "a14[:, 0]         # selects the 1st column of a two-dimensional array"
   ]
  },
  {
   "cell_type": "code",
   "execution_count": 75,
   "id": "84820d9e-5db4-4fcf-bf33-c46774c9e910",
   "metadata": {
    "tags": []
   },
   "outputs": [
    {
     "data": {
      "text/plain": [
       "array([10, 11, 12, 13, 14])"
      ]
     },
     "execution_count": 75,
     "metadata": {},
     "output_type": "execute_result"
    }
   ],
   "source": [
    "a15 = np.arange(10, 15)\n",
    "a15"
   ]
  },
  {
   "cell_type": "code",
   "execution_count": 65,
   "id": "d26c2631-2282-4d70-a7ca-2d8a88db8c52",
   "metadata": {
    "tags": []
   },
   "outputs": [
    {
     "data": {
      "text/plain": [
       "12"
      ]
     },
     "execution_count": 65,
     "metadata": {},
     "output_type": "execute_result"
    }
   ],
   "source": [
    "a15[2]"
   ]
  },
  {
   "cell_type": "code",
   "execution_count": 70,
   "id": "a39f9f42-639d-4a87-8b59-31867a62046d",
   "metadata": {
    "tags": []
   },
   "outputs": [
    {
     "data": {
      "text/plain": [
       "array([[[ 0,  1,  2],\n",
       "        [ 3,  4,  5],\n",
       "        [ 6,  7,  8]],\n",
       "\n",
       "       [[ 9, 10, 11],\n",
       "        [12, 13, 14],\n",
       "        [15, 16, 17]],\n",
       "\n",
       "       [[18, 19, 20],\n",
       "        [21, 22, 23],\n",
       "        [24, 25, 26]]])"
      ]
     },
     "execution_count": 70,
     "metadata": {},
     "output_type": "execute_result"
    }
   ],
   "source": [
    "a16 = np.arange(0, 27).reshape(3, 3, 3)\n",
    "a16"
   ]
  },
  {
   "cell_type": "code",
   "execution_count": 72,
   "id": "e1ee5fec-43be-4fb7-b542-95a682107fa1",
   "metadata": {
    "tags": []
   },
   "outputs": [
    {
     "data": {
      "text/plain": [
       "14"
      ]
     },
     "execution_count": 72,
     "metadata": {},
     "output_type": "execute_result"
    }
   ],
   "source": [
    "a16[1, 1, 2]"
   ]
  },
  {
   "cell_type": "code",
   "execution_count": 76,
   "id": "89aecc14-300c-4aae-842d-81b729e6e88f",
   "metadata": {
    "tags": []
   },
   "outputs": [
    {
     "data": {
      "text/plain": [
       "array([ True,  True,  True, False, False])"
      ]
     },
     "execution_count": 76,
     "metadata": {},
     "output_type": "execute_result"
    }
   ],
   "source": [
    "a15 <= 12"
   ]
  },
  {
   "cell_type": "code",
   "execution_count": 78,
   "id": "22694790-fbca-43af-a250-58502aa25a52",
   "metadata": {
    "tags": []
   },
   "outputs": [
    {
     "data": {
      "text/plain": [
       "array([ True,  True, False,  True,  True])"
      ]
     },
     "execution_count": 78,
     "metadata": {},
     "output_type": "execute_result"
    }
   ],
   "source": [
    "(a15 <= 11) | (a15 >= 13)"
   ]
  },
  {
   "cell_type": "code",
   "execution_count": 82,
   "id": "c16ade7e-914a-418a-a260-77d3dbc9d47e",
   "metadata": {
    "tags": []
   },
   "outputs": [
    {
     "data": {
      "text/plain": [
       "array([50, 55, 60, 65, 70])"
      ]
     },
     "execution_count": 82,
     "metadata": {},
     "output_type": "execute_result"
    }
   ],
   "source": [
    "def timesN(x, N):\n",
    "    return x*N\n",
    "\n",
    "np.vectorize(timesN)(a15, 5)"
   ]
  },
  {
   "cell_type": "code",
   "execution_count": null,
   "id": "0332b0fa-2566-4278-95e6-8056d4c9bca9",
   "metadata": {},
   "outputs": [],
   "source": []
  }
 ],
 "metadata": {
  "kernelspec": {
   "display_name": "Python 3 (ipykernel)",
   "language": "python",
   "name": "python3"
  },
  "language_info": {
   "codemirror_mode": {
    "name": "ipython",
    "version": 3
   },
   "file_extension": ".py",
   "mimetype": "text/x-python",
   "name": "python",
   "nbconvert_exporter": "python",
   "pygments_lexer": "ipython3",
   "version": "3.10.9"
  }
 },
 "nbformat": 4,
 "nbformat_minor": 5
}
